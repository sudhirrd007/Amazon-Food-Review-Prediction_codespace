{
 "cells": [
  {
   "cell_type": "markdown",
   "metadata": {
    "heading_collapsed": true
   },
   "source": [
    "## Turn on multiline output "
   ]
  },
  {
   "cell_type": "code",
   "execution_count": 1,
   "metadata": {
    "ExecuteTime": {
     "end_time": "2020-10-18T08:01:30.977407Z",
     "start_time": "2020-10-18T08:01:30.964443Z"
    },
    "hidden": true
   },
   "outputs": [],
   "source": [
    "from IPython.core.interactiveshell import InteractiveShell\n",
    "InteractiveShell.ast_node_interactivity = \"all\""
   ]
  },
  {
   "cell_type": "markdown",
   "metadata": {
    "heading_collapsed": true
   },
   "source": [
    "## Amazon Food Review Analysis"
   ]
  },
  {
   "cell_type": "markdown",
   "metadata": {
    "hidden": true
   },
   "source": [
    "Data Source: https://www.kaggle.com/snap/amazon-fine-food-reviews <br>\n",
    "\n",
    "EDA: https://nycdatascience.com/blog/student-works/amazon-fine-foods-visualization/\n",
    "\n",
    "\n",
    "The Amazon Fine Food Reviews dataset consists of reviews of fine foods from Amazon.<br>\n",
    "\n",
    "Number of reviews: 568,454<br>\n",
    "Number of users: 256,059<br>\n",
    "Number of products: 74,258<br>\n",
    "Timespan: Oct 1999 - Oct 2012<br>\n",
    "Number of Attributes/Columns in data: 10 \n",
    "\n",
    "Attribute Information:\n",
    "\n",
    "1. Id\n",
    "2. ProductId - unique identifier for the product\n",
    "3. UserId - unqiue identifier for the user\n",
    "4. ProfileName\n",
    "5. HelpfulnessNumerator - number of users who found the review helpful\n",
    "6. HelpfulnessDenominator - number of users who indicated whether they found the review helpful or not\n",
    "7. Score - rating between 1 and 5\n",
    "8. Time - timestamp for the review\n",
    "9. Summary - brief summary of the review\n",
    "10. Text - text of the review\n",
    "\n",
    "\n",
    "#### Objective:\n",
    "Given a review, determine whether the review is positive (Rating of 4 or 5) or negative (rating of 1 or 2).\n",
    "\n",
    "<br>\n",
    "[Q] How to determine if a review is positive or negative?<br>\n",
    "<br> \n",
    "[Ans] We could use the Score/Rating. A rating of 4 or 5 could be cosnidered a positive review. A review of 1 or 2 could be considered negative. A review of 3 is nuetral and ignored. This is an approximate and proxy way of determining the polarity (positivity/negativity) of a review.\n"
   ]
  },
  {
   "cell_type": "markdown",
   "metadata": {
    "hidden": true
   },
   "source": [
    "### Load the data using sqlite file "
   ]
  },
  {
   "cell_type": "code",
   "execution_count": 1,
   "metadata": {
    "ExecuteTime": {
     "end_time": "2020-10-10T11:00:30.539238Z",
     "start_time": "2020-10-10T11:00:28.624846Z"
    },
    "hidden": true
   },
   "outputs": [],
   "source": [
    "import sqlite3\n",
    "import numpy as np\n",
    "import pandas as pd\n",
    "import matplotlib.pyplot as plt\n",
    "import seaborn as sns\n",
    "import string\n",
    "\n",
    "from sklearn.feature_extraction.text import TfidfTransformer\n",
    "from sklearn.feature_extraction.text import TfidfVectorizer\n",
    "from sklearn.feature_extraction.text import CountVectorizer\n",
    "\n",
    "from sklearn import metrics\n",
    "from sklearn.metrics import confusion_matrix\n",
    "from sklearn.metrics import roc_curve, auc\n",
    "\n",
    "import nltk\n",
    "from nltk.stem.porter import PorterStemmer\n",
    "from nltk.corpus import stopwords\n",
    "from nltk.stem import PorterStemmer\n",
    "from nltk.stem.wordnet import WordNetLemmatizer\n",
    "\n",
    "import re\n",
    "\n",
    "from gensim.models import Word2Vec\n",
    "from gensim.models import keyedvectors\n",
    "\n",
    "import pickle\n",
    "\n",
    "from tqdm import tqdm\n",
    "\n",
    "import os"
   ]
  },
  {
   "cell_type": "markdown",
   "metadata": {},
   "source": [
    "*download dataset from this link* : \n",
    "https://www.kaggle.com/snap/amazon-fine-food-reviews"
   ]
  },
  {
   "cell_type": "code",
   "execution_count": 2,
   "metadata": {
    "ExecuteTime": {
     "end_time": "2020-10-10T11:00:35.542288Z",
     "start_time": "2020-10-10T11:00:35.533286Z"
    },
    "hidden": true
   },
   "outputs": [],
   "source": [
    "con = sqlite3.connect(\"dataset/database.sqlite\")"
   ]
  },
  {
   "cell_type": "code",
   "execution_count": 4,
   "metadata": {
    "ExecuteTime": {
     "end_time": "2020-10-10T03:43:26.543224Z",
     "start_time": "2020-10-10T03:43:15.493155Z"
    },
    "hidden": true
   },
   "outputs": [
    {
     "data": {
      "text/html": [
       "<div>\n",
       "<style scoped>\n",
       "    .dataframe tbody tr th:only-of-type {\n",
       "        vertical-align: middle;\n",
       "    }\n",
       "\n",
       "    .dataframe tbody tr th {\n",
       "        vertical-align: top;\n",
       "    }\n",
       "\n",
       "    .dataframe thead th {\n",
       "        text-align: right;\n",
       "    }\n",
       "</style>\n",
       "<table border=\"1\" class=\"dataframe\">\n",
       "  <thead>\n",
       "    <tr style=\"text-align: right;\">\n",
       "      <th></th>\n",
       "      <th>Id</th>\n",
       "      <th>ProductId</th>\n",
       "      <th>UserId</th>\n",
       "      <th>ProfileName</th>\n",
       "      <th>HelpfulnessNumerator</th>\n",
       "      <th>HelpfulnessDenominator</th>\n",
       "      <th>Score</th>\n",
       "      <th>Time</th>\n",
       "      <th>Summary</th>\n",
       "      <th>Text</th>\n",
       "    </tr>\n",
       "  </thead>\n",
       "  <tbody>\n",
       "    <tr>\n",
       "      <th>0</th>\n",
       "      <td>1</td>\n",
       "      <td>B001E4KFG0</td>\n",
       "      <td>A3SGXH7AUHU8GW</td>\n",
       "      <td>delmartian</td>\n",
       "      <td>1</td>\n",
       "      <td>1</td>\n",
       "      <td>5</td>\n",
       "      <td>1303862400</td>\n",
       "      <td>Good Quality Dog Food</td>\n",
       "      <td>I have bought several of the Vitality canned d...</td>\n",
       "    </tr>\n",
       "    <tr>\n",
       "      <th>1</th>\n",
       "      <td>2</td>\n",
       "      <td>B00813GRG4</td>\n",
       "      <td>A1D87F6ZCVE5NK</td>\n",
       "      <td>dll pa</td>\n",
       "      <td>0</td>\n",
       "      <td>0</td>\n",
       "      <td>1</td>\n",
       "      <td>1346976000</td>\n",
       "      <td>Not as Advertised</td>\n",
       "      <td>Product arrived labeled as Jumbo Salted Peanut...</td>\n",
       "    </tr>\n",
       "    <tr>\n",
       "      <th>2</th>\n",
       "      <td>3</td>\n",
       "      <td>B000LQOCH0</td>\n",
       "      <td>ABXLMWJIXXAIN</td>\n",
       "      <td>Natalia Corres \"Natalia Corres\"</td>\n",
       "      <td>1</td>\n",
       "      <td>1</td>\n",
       "      <td>4</td>\n",
       "      <td>1219017600</td>\n",
       "      <td>\"Delight\" says it all</td>\n",
       "      <td>This is a confection that has been around a fe...</td>\n",
       "    </tr>\n",
       "  </tbody>\n",
       "</table>\n",
       "</div>"
      ],
      "text/plain": [
       "   Id   ProductId          UserId                      ProfileName  \\\n",
       "0   1  B001E4KFG0  A3SGXH7AUHU8GW                       delmartian   \n",
       "1   2  B00813GRG4  A1D87F6ZCVE5NK                           dll pa   \n",
       "2   3  B000LQOCH0   ABXLMWJIXXAIN  Natalia Corres \"Natalia Corres\"   \n",
       "\n",
       "   HelpfulnessNumerator  HelpfulnessDenominator  Score        Time  \\\n",
       "0                     1                       1      5  1303862400   \n",
       "1                     0                       0      1  1346976000   \n",
       "2                     1                       1      4  1219017600   \n",
       "\n",
       "                 Summary                                               Text  \n",
       "0  Good Quality Dog Food  I have bought several of the Vitality canned d...  \n",
       "1      Not as Advertised  Product arrived labeled as Jumbo Salted Peanut...  \n",
       "2  \"Delight\" says it all  This is a confection that has been around a fe...  "
      ]
     },
     "execution_count": 4,
     "metadata": {},
     "output_type": "execute_result"
    },
    {
     "data": {
      "text/plain": [
       "(525814, 10)"
      ]
     },
     "execution_count": 4,
     "metadata": {},
     "output_type": "execute_result"
    }
   ],
   "source": [
    "# now only fetch those rows which has score 1,2,4 and 5\n",
    "data = pd.read_sql_query(\"SELECT * FROM Reviews WHERE Score!=3\", con)\n",
    "data.head(3)\n",
    "data.shape"
   ]
  },
  {
   "cell_type": "code",
   "execution_count": 5,
   "metadata": {
    "ExecuteTime": {
     "end_time": "2020-10-10T03:43:26.749811Z",
     "start_time": "2020-10-10T03:43:26.544221Z"
    },
    "hidden": true
   },
   "outputs": [
    {
     "data": {
      "text/html": [
       "<div>\n",
       "<style scoped>\n",
       "    .dataframe tbody tr th:only-of-type {\n",
       "        vertical-align: middle;\n",
       "    }\n",
       "\n",
       "    .dataframe tbody tr th {\n",
       "        vertical-align: top;\n",
       "    }\n",
       "\n",
       "    .dataframe thead th {\n",
       "        text-align: right;\n",
       "    }\n",
       "</style>\n",
       "<table border=\"1\" class=\"dataframe\">\n",
       "  <thead>\n",
       "    <tr style=\"text-align: right;\">\n",
       "      <th></th>\n",
       "      <th>Id</th>\n",
       "      <th>ProductId</th>\n",
       "      <th>UserId</th>\n",
       "      <th>ProfileName</th>\n",
       "      <th>HelpfulnessNumerator</th>\n",
       "      <th>HelpfulnessDenominator</th>\n",
       "      <th>Score</th>\n",
       "      <th>Time</th>\n",
       "      <th>Summary</th>\n",
       "      <th>Text</th>\n",
       "    </tr>\n",
       "  </thead>\n",
       "  <tbody>\n",
       "    <tr>\n",
       "      <th>0</th>\n",
       "      <td>1</td>\n",
       "      <td>B001E4KFG0</td>\n",
       "      <td>A3SGXH7AUHU8GW</td>\n",
       "      <td>delmartian</td>\n",
       "      <td>1</td>\n",
       "      <td>1</td>\n",
       "      <td>1</td>\n",
       "      <td>1303862400</td>\n",
       "      <td>Good Quality Dog Food</td>\n",
       "      <td>I have bought several of the Vitality canned d...</td>\n",
       "    </tr>\n",
       "    <tr>\n",
       "      <th>1</th>\n",
       "      <td>2</td>\n",
       "      <td>B00813GRG4</td>\n",
       "      <td>A1D87F6ZCVE5NK</td>\n",
       "      <td>dll pa</td>\n",
       "      <td>0</td>\n",
       "      <td>0</td>\n",
       "      <td>0</td>\n",
       "      <td>1346976000</td>\n",
       "      <td>Not as Advertised</td>\n",
       "      <td>Product arrived labeled as Jumbo Salted Peanut...</td>\n",
       "    </tr>\n",
       "    <tr>\n",
       "      <th>2</th>\n",
       "      <td>3</td>\n",
       "      <td>B000LQOCH0</td>\n",
       "      <td>ABXLMWJIXXAIN</td>\n",
       "      <td>Natalia Corres \"Natalia Corres\"</td>\n",
       "      <td>1</td>\n",
       "      <td>1</td>\n",
       "      <td>1</td>\n",
       "      <td>1219017600</td>\n",
       "      <td>\"Delight\" says it all</td>\n",
       "      <td>This is a confection that has been around a fe...</td>\n",
       "    </tr>\n",
       "  </tbody>\n",
       "</table>\n",
       "</div>"
      ],
      "text/plain": [
       "   Id   ProductId          UserId                      ProfileName  \\\n",
       "0   1  B001E4KFG0  A3SGXH7AUHU8GW                       delmartian   \n",
       "1   2  B00813GRG4  A1D87F6ZCVE5NK                           dll pa   \n",
       "2   3  B000LQOCH0   ABXLMWJIXXAIN  Natalia Corres \"Natalia Corres\"   \n",
       "\n",
       "   HelpfulnessNumerator  HelpfulnessDenominator  Score        Time  \\\n",
       "0                     1                       1      1  1303862400   \n",
       "1                     0                       0      0  1346976000   \n",
       "2                     1                       1      1  1219017600   \n",
       "\n",
       "                 Summary                                               Text  \n",
       "0  Good Quality Dog Food  I have bought several of the Vitality canned d...  \n",
       "1      Not as Advertised  Product arrived labeled as Jumbo Salted Peanut...  \n",
       "2  \"Delight\" says it all  This is a confection that has been around a fe...  "
      ]
     },
     "execution_count": 5,
     "metadata": {},
     "output_type": "execute_result"
    }
   ],
   "source": [
    "# change reviews with value 4 and 5 ==> positive (value 1)\n",
    "# and 1 and 2 ==> negative (value 0)\n",
    "def positive_negative(review):\n",
    "    if(review > 3):\n",
    "        return 1\n",
    "    else:\n",
    "        return 0\n",
    "\n",
    "scores = data[\"Score\"]\n",
    "scores = scores.map(positive_negative)\n",
    "data[\"Score\"] = scores\n",
    "data.head(3)"
   ]
  },
  {
   "cell_type": "markdown",
   "metadata": {
    "hidden": true
   },
   "source": [
    "### Data Cleaning "
   ]
  },
  {
   "cell_type": "code",
   "execution_count": 6,
   "metadata": {
    "ExecuteTime": {
     "end_time": "2020-10-10T03:43:27.895951Z",
     "start_time": "2020-10-10T03:43:26.750845Z"
    },
    "hidden": true
   },
   "outputs": [
    {
     "data": {
      "text/html": [
       "<div>\n",
       "<style scoped>\n",
       "    .dataframe tbody tr th:only-of-type {\n",
       "        vertical-align: middle;\n",
       "    }\n",
       "\n",
       "    .dataframe tbody tr th {\n",
       "        vertical-align: top;\n",
       "    }\n",
       "\n",
       "    .dataframe thead th {\n",
       "        text-align: right;\n",
       "    }\n",
       "</style>\n",
       "<table border=\"1\" class=\"dataframe\">\n",
       "  <thead>\n",
       "    <tr style=\"text-align: right;\">\n",
       "      <th></th>\n",
       "      <th>Id</th>\n",
       "      <th>ProductId</th>\n",
       "      <th>UserId</th>\n",
       "      <th>ProfileName</th>\n",
       "      <th>HelpfulnessNumerator</th>\n",
       "      <th>HelpfulnessDenominator</th>\n",
       "      <th>Score</th>\n",
       "      <th>Time</th>\n",
       "      <th>Summary</th>\n",
       "      <th>Text</th>\n",
       "    </tr>\n",
       "  </thead>\n",
       "  <tbody>\n",
       "    <tr>\n",
       "      <th>0</th>\n",
       "      <td>78445</td>\n",
       "      <td>B000HDL1RQ</td>\n",
       "      <td>AR5J8UI46CURR</td>\n",
       "      <td>Geetha Krishnan</td>\n",
       "      <td>2</td>\n",
       "      <td>2</td>\n",
       "      <td>5</td>\n",
       "      <td>1199577600</td>\n",
       "      <td>LOACKER QUADRATINI VANILLA WAFERS</td>\n",
       "      <td>DELICIOUS WAFERS. I FIND THAT EUROPEAN WAFERS ...</td>\n",
       "    </tr>\n",
       "    <tr>\n",
       "      <th>1</th>\n",
       "      <td>138317</td>\n",
       "      <td>B000HDOPYC</td>\n",
       "      <td>AR5J8UI46CURR</td>\n",
       "      <td>Geetha Krishnan</td>\n",
       "      <td>2</td>\n",
       "      <td>2</td>\n",
       "      <td>5</td>\n",
       "      <td>1199577600</td>\n",
       "      <td>LOACKER QUADRATINI VANILLA WAFERS</td>\n",
       "      <td>DELICIOUS WAFERS. I FIND THAT EUROPEAN WAFERS ...</td>\n",
       "    </tr>\n",
       "    <tr>\n",
       "      <th>2</th>\n",
       "      <td>138277</td>\n",
       "      <td>B000HDOPYM</td>\n",
       "      <td>AR5J8UI46CURR</td>\n",
       "      <td>Geetha Krishnan</td>\n",
       "      <td>2</td>\n",
       "      <td>2</td>\n",
       "      <td>5</td>\n",
       "      <td>1199577600</td>\n",
       "      <td>LOACKER QUADRATINI VANILLA WAFERS</td>\n",
       "      <td>DELICIOUS WAFERS. I FIND THAT EUROPEAN WAFERS ...</td>\n",
       "    </tr>\n",
       "  </tbody>\n",
       "</table>\n",
       "</div>"
      ],
      "text/plain": [
       "       Id   ProductId         UserId      ProfileName  HelpfulnessNumerator  \\\n",
       "0   78445  B000HDL1RQ  AR5J8UI46CURR  Geetha Krishnan                     2   \n",
       "1  138317  B000HDOPYC  AR5J8UI46CURR  Geetha Krishnan                     2   \n",
       "2  138277  B000HDOPYM  AR5J8UI46CURR  Geetha Krishnan                     2   \n",
       "\n",
       "   HelpfulnessDenominator  Score        Time  \\\n",
       "0                       2      5  1199577600   \n",
       "1                       2      5  1199577600   \n",
       "2                       2      5  1199577600   \n",
       "\n",
       "                             Summary  \\\n",
       "0  LOACKER QUADRATINI VANILLA WAFERS   \n",
       "1  LOACKER QUADRATINI VANILLA WAFERS   \n",
       "2  LOACKER QUADRATINI VANILLA WAFERS   \n",
       "\n",
       "                                                Text  \n",
       "0  DELICIOUS WAFERS. I FIND THAT EUROPEAN WAFERS ...  \n",
       "1  DELICIOUS WAFERS. I FIND THAT EUROPEAN WAFERS ...  \n",
       "2  DELICIOUS WAFERS. I FIND THAT EUROPEAN WAFERS ...  "
      ]
     },
     "execution_count": 6,
     "metadata": {},
     "output_type": "execute_result"
    }
   ],
   "source": [
    "display= pd.read_sql_query(\"\"\"\n",
    "SELECT *\n",
    "FROM Reviews\n",
    "WHERE Score != 3 AND UserId=\"AR5J8UI46CURR\"\n",
    "ORDER BY ProductID\n",
    "\"\"\", con)\n",
    "display.head(3)"
   ]
  },
  {
   "cell_type": "raw",
   "metadata": {
    "hidden": true
   },
   "source": [
    "As can be seen above the same user has multiple reviews of the with the same values for HelpfulnessNumerator, HelpfulnessDenominator, Score, Time, Summary and Text and on doing analysis it was found that\n",
    "\n",
    "ProductId=B000HDOPZG was Loacker Quadratini Vanilla Wafer Cookies, 8.82-Ounce Packages (Pack of 8)\n",
    "\n",
    "ProductId=B000HDL1RQ was Loacker Quadratini Lemon Wafer Cookies, 8.82-Ounce Packages (Pack of 8) and so on\n",
    "\n",
    "It was inferred after analysis that reviews with same parameters other than ProductId belonged to the same product just having different flavour or quantity. Hence in order to reduce redundancy it was decided to eliminate the rows having same parameters.\n",
    "\n",
    "The method used for the same was that we first sort the data according to ProductId and then just keep the first similar product review and delelte the others. for eg. in the above just the review for ProductId=B000HDL1RQ remains. This method ensures that there is only one representative for each product and deduplication without sorting would lead to possibility of different representatives still existing for the same product."
   ]
  },
  {
   "cell_type": "code",
   "execution_count": 7,
   "metadata": {
    "ExecuteTime": {
     "end_time": "2020-10-10T03:43:28.576355Z",
     "start_time": "2020-10-10T03:43:27.897946Z"
    },
    "hidden": true
   },
   "outputs": [],
   "source": [
    "# Sorting data according to ProductId in ascending order\n",
    "sorted_data = data.sort_values(\"ProductId\", axis=0, ascending=True, inplace=False, kind=\"quicksort\", na_position=\"last\")"
   ]
  },
  {
   "cell_type": "code",
   "execution_count": 8,
   "metadata": {
    "ExecuteTime": {
     "end_time": "2020-10-10T03:43:29.760245Z",
     "start_time": "2020-10-10T03:43:28.579319Z"
    },
    "hidden": true
   },
   "outputs": [
    {
     "data": {
      "text/plain": [
       "(364173, 10)"
      ]
     },
     "execution_count": 8,
     "metadata": {},
     "output_type": "execute_result"
    }
   ],
   "source": [
    "# remove duplicate data rows means deduplication\n",
    "final_data = sorted_data.drop_duplicates(subset={\"UserId\", \"ProfileName\",\"Time\",\"Text\"}, keep=\"first\", inplace=False)\n",
    "final_data.shape"
   ]
  },
  {
   "cell_type": "code",
   "execution_count": 9,
   "metadata": {
    "ExecuteTime": {
     "end_time": "2020-10-10T03:43:29.775529Z",
     "start_time": "2020-10-10T03:43:29.762080Z"
    },
    "hidden": true
   },
   "outputs": [
    {
     "data": {
      "text/plain": [
       "69.25890143662969"
      ]
     },
     "execution_count": 9,
     "metadata": {},
     "output_type": "execute_result"
    }
   ],
   "source": [
    "# See how much data we holds now\n",
    "final_data.shape[0]*100 / data.shape[0]"
   ]
  },
  {
   "cell_type": "markdown",
   "metadata": {
    "hidden": true
   },
   "source": [
    "**Observation**:- It was also seen that in two rows given below the value of HelpfulnessNumerator is greater than HelpfulnessDenominator which is not practically possible hence these two rows too are removed from calcualtions"
   ]
  },
  {
   "cell_type": "code",
   "execution_count": 10,
   "metadata": {
    "ExecuteTime": {
     "end_time": "2020-10-10T03:43:29.993328Z",
     "start_time": "2020-10-10T03:43:29.776557Z"
    },
    "hidden": true
   },
   "outputs": [
    {
     "data": {
      "text/html": [
       "<div>\n",
       "<style scoped>\n",
       "    .dataframe tbody tr th:only-of-type {\n",
       "        vertical-align: middle;\n",
       "    }\n",
       "\n",
       "    .dataframe tbody tr th {\n",
       "        vertical-align: top;\n",
       "    }\n",
       "\n",
       "    .dataframe thead th {\n",
       "        text-align: right;\n",
       "    }\n",
       "</style>\n",
       "<table border=\"1\" class=\"dataframe\">\n",
       "  <thead>\n",
       "    <tr style=\"text-align: right;\">\n",
       "      <th></th>\n",
       "      <th>Id</th>\n",
       "      <th>ProductId</th>\n",
       "      <th>UserId</th>\n",
       "      <th>ProfileName</th>\n",
       "      <th>HelpfulnessNumerator</th>\n",
       "      <th>HelpfulnessDenominator</th>\n",
       "      <th>Score</th>\n",
       "      <th>Time</th>\n",
       "      <th>Summary</th>\n",
       "      <th>Text</th>\n",
       "    </tr>\n",
       "  </thead>\n",
       "  <tbody>\n",
       "    <tr>\n",
       "      <th>0</th>\n",
       "      <td>64422</td>\n",
       "      <td>B000MIDROQ</td>\n",
       "      <td>A161DK06JJMCYF</td>\n",
       "      <td>J. E. Stephens \"Jeanne\"</td>\n",
       "      <td>3</td>\n",
       "      <td>1</td>\n",
       "      <td>5</td>\n",
       "      <td>1224892800</td>\n",
       "      <td>Bought This for My Son at College</td>\n",
       "      <td>My son loves spaghetti so I didn't hesitate or...</td>\n",
       "    </tr>\n",
       "    <tr>\n",
       "      <th>1</th>\n",
       "      <td>44737</td>\n",
       "      <td>B001EQ55RW</td>\n",
       "      <td>A2V0I904FH7ABY</td>\n",
       "      <td>Ram</td>\n",
       "      <td>3</td>\n",
       "      <td>2</td>\n",
       "      <td>4</td>\n",
       "      <td>1212883200</td>\n",
       "      <td>Pure cocoa taste with crunchy almonds inside</td>\n",
       "      <td>It was almost a 'love at first bite' - the per...</td>\n",
       "    </tr>\n",
       "  </tbody>\n",
       "</table>\n",
       "</div>"
      ],
      "text/plain": [
       "      Id   ProductId          UserId              ProfileName  \\\n",
       "0  64422  B000MIDROQ  A161DK06JJMCYF  J. E. Stephens \"Jeanne\"   \n",
       "1  44737  B001EQ55RW  A2V0I904FH7ABY                      Ram   \n",
       "\n",
       "   HelpfulnessNumerator  HelpfulnessDenominator  Score        Time  \\\n",
       "0                     3                       1      5  1224892800   \n",
       "1                     3                       2      4  1212883200   \n",
       "\n",
       "                                        Summary  \\\n",
       "0             Bought This for My Son at College   \n",
       "1  Pure cocoa taste with crunchy almonds inside   \n",
       "\n",
       "                                                Text  \n",
       "0  My son loves spaghetti so I didn't hesitate or...  \n",
       "1  It was almost a 'love at first bite' - the per...  "
      ]
     },
     "execution_count": 10,
     "metadata": {},
     "output_type": "execute_result"
    }
   ],
   "source": [
    "display= pd.read_sql_query(\"\"\"\n",
    "SELECT *\n",
    "FROM Reviews\n",
    "WHERE Score != 3 AND Id=44737 OR Id=64422\n",
    "ORDER BY ProductID\n",
    "\"\"\", con)\n",
    "\n",
    "display.head()"
   ]
  },
  {
   "cell_type": "code",
   "execution_count": 11,
   "metadata": {
    "ExecuteTime": {
     "end_time": "2020-10-10T03:43:30.203882Z",
     "start_time": "2020-10-10T03:43:29.994330Z"
    },
    "hidden": true
   },
   "outputs": [],
   "source": [
    "final_data = final_data[final_data.HelpfulnessNumerator <= final_data.HelpfulnessDenominator]"
   ]
  },
  {
   "cell_type": "code",
   "execution_count": 12,
   "metadata": {
    "ExecuteTime": {
     "end_time": "2020-10-10T03:43:30.407729Z",
     "start_time": "2020-10-10T03:43:30.204643Z"
    },
    "hidden": true
   },
   "outputs": [
    {
     "data": {
      "text/plain": [
       "1    307061\n",
       "0     57110\n",
       "Name: Score, dtype: int64"
      ]
     },
     "execution_count": 12,
     "metadata": {},
     "output_type": "execute_result"
    }
   ],
   "source": [
    "final_data[\"Score\"].value_counts()\n",
    "# 1 ==> +v1 ,  0 ==> -ve"
   ]
  },
  {
   "cell_type": "markdown",
   "metadata": {
    "hidden": true
   },
   "source": [
    "### Text Preprocessing "
   ]
  },
  {
   "cell_type": "markdown",
   "metadata": {
    "hidden": true
   },
   "source": [
    "Now that we have finished deduplication our data requires some preprocessing before we go on further with analysis and making the prediction model.\n",
    "\n",
    "Hence in the Preprocessing phase we do the following in the order below:-\n",
    "\n",
    "1. Begin by removing the html tags\n",
    "2. Remove any punctuations or limited set of special characters like , or . or # etc.\n",
    "3. Check if the word is made up of english letters and is not alpha-numeric\n",
    "4. Check to see if the length of the word is greater than 2 (as it was researched that there is no adjective in 2-letters)\n",
    "5. Convert the word to lowercase\n",
    "6. Remove Stopwords\n",
    "7. Finally Snowball Stemming the word (it was obsereved to be better than Porter Stemming)<br>\n",
    "\n",
    "After which we collect the words used to describe positive and negative reviews"
   ]
  },
  {
   "cell_type": "markdown",
   "metadata": {
    "heading_collapsed": true,
    "hidden": true
   },
   "source": [
    "#### remove HTML tags"
   ]
  },
  {
   "cell_type": "code",
   "execution_count": 13,
   "metadata": {
    "ExecuteTime": {
     "end_time": "2020-10-10T03:43:30.501702Z",
     "start_time": "2020-10-10T03:43:30.409761Z"
    },
    "hidden": true
   },
   "outputs": [
    {
     "name": "stdout",
     "output_type": "stream",
     "text": [
      "6  ------  I set aside at least an hour each day to read to my son (3 y/o). At this point, I consider myself a connoisseur of children's books and this is one of the best. Santa Clause put this under the tree. Since then, we've read it perpetually and he loves it.<br /><br />First, this book taught him the months of the year.<br /><br />Second, it's a pleasure to read. Well suited to 1.5 y/o old to 4+.<br /><br />Very few children's books are worth owning. Most should be borrowed from the library. This book, however, deserves a permanent spot on your shelf. Sendak's best.\n"
     ]
    }
   ],
   "source": [
    "# find sentences containing HTML tags\n",
    "index = 0 \n",
    "for sent in final_data[\"Text\"]:\n",
    "    if(len(re.findall('<.*?>', sent))):\n",
    "        print(index, \" ------ \", sent)\n",
    "        break\n",
    "    index += 1"
   ]
  },
  {
   "cell_type": "raw",
   "metadata": {
    "hidden": true
   },
   "source": [
    "now we will remove these html tags for this review..."
   ]
  },
  {
   "cell_type": "code",
   "execution_count": 14,
   "metadata": {
    "ExecuteTime": {
     "end_time": "2020-10-10T03:43:30.640575Z",
     "start_time": "2020-10-10T03:43:30.502690Z"
    },
    "hidden": true
   },
   "outputs": [
    {
     "data": {
      "text/plain": [
       "\"I set aside at least an hour each day to read to my son (3 y/o). At this point, I consider myself a connoisseur of children's books and this is one of the best. Santa Clause put this under the tree. Since then, we've read it perpetually and he loves it.  First, this book taught him the months of the year.  Second, it's a pleasure to read. Well suited to 1.5 y/o old to 4+.  Very few children's books are worth owning. Most should be borrowed from the library. This book, however, deserves a permanent spot on your shelf. Sendak's best.\""
      ]
     },
     "execution_count": 14,
     "metadata": {},
     "output_type": "execute_result"
    }
   ],
   "source": [
    "# remover html tags\n",
    "def cleanhtml(sentense):\n",
    "    pattern = re.compile(\"<.*?>\")\n",
    "    sentense = re.sub(pattern, \" \", sentense)\n",
    "    return sentense\n",
    "\n",
    "cleanhtml(final_data[\"Text\"].values[6])\n",
    "# exp\n",
    "# we removed all the tags from review[6]"
   ]
  },
  {
   "cell_type": "markdown",
   "metadata": {
    "ExecuteTime": {
     "end_time": "2020-10-08T13:18:59.991167Z",
     "start_time": "2020-10-08T13:18:59.977189Z"
    },
    "heading_collapsed": true,
    "hidden": true
   },
   "source": [
    "#### Remove punctuations and special characters"
   ]
  },
  {
   "cell_type": "code",
   "execution_count": 15,
   "metadata": {
    "ExecuteTime": {
     "end_time": "2020-10-10T03:43:30.780718Z",
     "start_time": "2020-10-10T03:43:30.641604Z"
    },
    "code_folding": [],
    "hidden": true
   },
   "outputs": [
    {
     "name": "stdout",
     "output_type": "stream",
     "text": [
      "0  =====  this witty little book makes my son laugh at loud. i recite it in the car as we're driving along and he always can sing the refrain. he's learned about whales, India, drooping roses:  i love all the new words this book  introduces and the silliness of it all.  this is a classic book i am  willing to bet my son will STILL be able to recite from memory when he is  in college\n"
     ]
    }
   ],
   "source": [
    "# punctuations and special charcters : \\?!,;:_\\-\\.\\*\\(\\)\\{\\}\\[\\]\\\"~`@#\\$%\\^&\\+\\|\\=\\/-\n",
    "index = 0\n",
    "for sent in final_data[\"Text\"]:\n",
    "    if(len(re.findall(\"[\\?!,;:_\\-\\.\\*\\(\\)\\{\\}\\[\\]\\\"~`@#\\$%\\^&\\+\\|\\=\\/-]\", sent))):\n",
    "        print(index, \" ===== \", sent)\n",
    "        break\n",
    "    index += 1"
   ]
  },
  {
   "cell_type": "raw",
   "metadata": {
    "ExecuteTime": {
     "end_time": "2020-10-08T13:50:26.665850Z",
     "start_time": "2020-10-08T13:50:26.657844Z"
    },
    "hidden": true
   },
   "source": [
    "now we will remove punctuations and special characters for this review..."
   ]
  },
  {
   "cell_type": "code",
   "execution_count": 16,
   "metadata": {
    "ExecuteTime": {
     "end_time": "2020-10-10T03:43:30.952892Z",
     "start_time": "2020-10-10T03:43:30.782692Z"
    },
    "hidden": true
   },
   "outputs": [
    {
     "data": {
      "text/plain": [
       "\"this witty little book makes my son laugh at loud  i recite it in the car as we're driving along and he always can sing the refrain  he's learned about whales  India  drooping roses   i love all the new words this book  introduces and the silliness of it all   this is a classic book i am  willing to bet my son will STILL be able to recite from memory when he is  in college\""
      ]
     },
     "execution_count": 16,
     "metadata": {},
     "output_type": "execute_result"
    }
   ],
   "source": [
    "# remove punctuations and special charcters\n",
    "def cleanpunc(sentense):\n",
    "    pattern = \"[\\?!,;:_\\-\\.\\*\\(\\)\\{\\}\\[\\]\\\"~`@#\\$%\\^&\\+\\|\\=\\/-]\"\n",
    "    sentense = re.sub(pattern, \" \", sentense)\n",
    "    return sentense\n",
    "\n",
    "cleanpunc(final_data[\"Text\"].values[0])"
   ]
  },
  {
   "cell_type": "markdown",
   "metadata": {
    "heading_collapsed": true,
    "hidden": true
   },
   "source": [
    "####   words which are made up of english letters"
   ]
  },
  {
   "cell_type": "code",
   "execution_count": 17,
   "metadata": {
    "ExecuteTime": {
     "end_time": "2020-10-10T03:43:31.243325Z",
     "start_time": "2020-10-10T03:43:30.953892Z"
    },
    "hidden": true
   },
   "outputs": [
    {
     "name": "stdout",
     "output_type": "stream",
     "text": [
      "3  =====  This is a great little book to read aloud- it has a nice rhythm as well as good repetition that little ones like, in the lines about \"chicken soup with rice\".  The child gets to go through the months of the year and go to wonderful places like Bombay and down the Nile, all the while, eating, well, you know what they get to eat.  Some kids will have Maurice Sendak's version of ice skating or how to treat roses in their heads for a long time and they won't even know where it came from.  Surprise!  It came from this little witty book.  :-)\n"
     ]
    }
   ],
   "source": [
    "# words which are made up of english letters like {won't} ==> {will not}\n",
    "index = 0\n",
    "for sent in final_data[\"Text\"]:\n",
    "    if(len(re.findall(\"won't\", sent))):\n",
    "        print(index, \" ===== \", sent)\n",
    "        break\n",
    "    index += 1"
   ]
  },
  {
   "cell_type": "raw",
   "metadata": {
    "hidden": true
   },
   "source": [
    "now we will remove punctuations and special characters for this review..."
   ]
  },
  {
   "cell_type": "code",
   "execution_count": 18,
   "metadata": {
    "ExecuteTime": {
     "end_time": "2020-10-10T03:43:31.384642Z",
     "start_time": "2020-10-10T03:43:31.245165Z"
    },
    "hidden": true,
    "scrolled": true
   },
   "outputs": [
    {
     "data": {
      "text/plain": [
       "'This is a great little book to read aloud- it has a nice rhythm as well as good repetition that little ones like, in the lines about \"chicken soup with rice\".  The child gets to go through the months of the year and go to wonderful places like Bombay and down the Nile, all the while, eating, well, you know what they get to eat.  Some kids will have Maurice Sendak is version of ice skating or how to treat roses in their heads for a long time and they will not even know where it came from.  Surprise!  It came from this little witty book.  :-)'"
      ]
     },
     "execution_count": 18,
     "metadata": {},
     "output_type": "execute_result"
    }
   ],
   "source": [
    "# remove words which are made up of english letters\n",
    "\n",
    "def decontracted(sentense):\n",
    "    # specific\n",
    "    sentense = re.sub(r\"won't\", \"will not\", sentense)\n",
    "    sentense = re.sub(r\"can\\'t\", \"can not\", sentense)\n",
    "\n",
    "    # general\n",
    "    sentense = re.sub(r\"n\\'t\", \" not\", sentense)\n",
    "    sentense = re.sub(r\"\\'re\", \" are\", sentense)\n",
    "    sentense = re.sub(r\"\\'s\", \" is\", sentense)\n",
    "    sentense = re.sub(r\"\\'d\", \" would\", sentense)\n",
    "    sentense = re.sub(r\"\\'ll\", \" will\", sentense)\n",
    "    sentense = re.sub(r\"\\'t\", \" not\", sentense)\n",
    "    sentense = re.sub(r\"\\'ve\", \" have\", sentense)\n",
    "    sentense = re.sub(r\"\\'m\", \" am\", sentense)\n",
    "    return sentense\n",
    "\n",
    "decontracted(final_data[\"Text\"].values[3])"
   ]
  },
  {
   "cell_type": "markdown",
   "metadata": {
    "heading_collapsed": true,
    "hidden": true
   },
   "source": [
    "#### Remove Stopwords"
   ]
  },
  {
   "cell_type": "code",
   "execution_count": 19,
   "metadata": {
    "ExecuteTime": {
     "end_time": "2020-10-10T03:43:31.770602Z",
     "start_time": "2020-10-10T03:43:31.386315Z"
    },
    "hidden": true
   },
   "outputs": [
    {
     "data": {
      "text/plain": [
       "\"this witty little book makes my son laugh at loud. i recite it in the car as we're driving along and he always can sing the refrain. he's learned about whales, India, drooping roses:  i love all the new words this book  introduces and the silliness of it all.  this is a classic book i am  willing to bet my son will STILL be able to recite from memory when he is  in college\""
      ]
     },
     "execution_count": 19,
     "metadata": {},
     "output_type": "execute_result"
    }
   ],
   "source": [
    "stop = set(stopwords.words(\"english\"))\n",
    "\n",
    "final_data[\"Text\"].values[0]"
   ]
  },
  {
   "cell_type": "code",
   "execution_count": 154,
   "metadata": {
    "ExecuteTime": {
     "end_time": "2020-10-10T05:03:10.332755Z",
     "start_time": "2020-10-10T05:03:10.318791Z"
    },
    "hidden": true
   },
   "outputs": [
    {
     "data": {
      "text/plain": [
       "\"witty little book makes son laugh loud. recite car we're driving along always sing refrain. he's learned whales, india, drooping roses: love new words book introduces silliness all. classic book willing bet son still able recite memory college\""
      ]
     },
     "execution_count": 154,
     "metadata": {},
     "output_type": "execute_result"
    }
   ],
   "source": [
    "# remove stopwords\n",
    "def clean_stopword(sentense):\n",
    "    sentense = \" \".join(word.lower() for word in sentense.split() if word.lower() not in stop)\n",
    "    return sentense\n",
    "\n",
    "clean_stopword(final_data[\"Text\"].values[0])"
   ]
  },
  {
   "cell_type": "markdown",
   "metadata": {
    "heading_collapsed": true,
    "hidden": true
   },
   "source": [
    "####  Remove Websites links"
   ]
  },
  {
   "cell_type": "code",
   "execution_count": null,
   "metadata": {
    "ExecuteTime": {
     "end_time": "2020-10-10T03:43:32.483348Z",
     "start_time": "2020-10-10T03:42:24.779Z"
    },
    "hidden": true
   },
   "outputs": [],
   "source": [
    "# website links : http[s]?://(?:[a-zA-Z]|[0-9]|[$-_@.&+]|[!*\\(\\),]|(?:%[0-9a-fA-F][0-9a-fA-F]))+\n",
    "index = 0\n",
    "for sent in final_data[\"Text\"]:\n",
    "    if(len(re.findall(\"http[s]?://(?:[a-zA-Z]|[0-9]|[$-_@.&+]|[!*\\(\\),]|(?:%[0-9a-fA-F][0-9a-fA-F]))+\", sent))):\n",
    "        print(index, \" ===== \", sent)\n",
    "        break\n",
    "    index += 1"
   ]
  },
  {
   "cell_type": "code",
   "execution_count": 23,
   "metadata": {
    "ExecuteTime": {
     "end_time": "2020-10-10T03:45:18.008918Z",
     "start_time": "2020-10-10T03:45:17.992840Z"
    },
    "hidden": true
   },
   "outputs": [
    {
     "data": {
      "text/plain": [
       "'I was intially introduced to Pro-Treat Beef Liver Freeze Dried Dog Treats at my veterinarian\\'s office.  Rudy, our Jack Russell Terrior, usually not all that interested in dog treats, responded like I\\'d never seen before!<br /><br />I bought a couple of cans (they are pretty pricey), but gave them to him sparingly. The tricks he\\'d do for the Pro-Treats were really entertaining.  Now, Rudy has to take meds. for his glaucoma and thank heavens I found the large size here which is a good value, so he not only takes his medicine, but gives great tricks in return each day! He\\'s a happy camper, despite the loss of sight in one eye.<br /><a href=\" \">Pro-Treat Beef Liver, Freeze Dried Dog Treats, 21 Ounce</a><br /><br />Rudy says, \"They are the best part of my day!\"  We think so too!  ~ CJ'"
      ]
     },
     "execution_count": 23,
     "metadata": {},
     "output_type": "execute_result"
    }
   ],
   "source": [
    "# remove website links\n",
    "def cleanlinks(sentense):\n",
    "    pattern = \"http[s]?://(?:[a-zA-Z]|[0-9]|[$-_@.&+]|[!*\\(\\),]|(?:%[0-9a-fA-F][0-9a-fA-F]))+\"\n",
    "    sentense = re.sub(pattern, \" \", sentense)\n",
    "    return sentense\n",
    "\n",
    "cleanlinks(final_data[\"Text\"].values[85])"
   ]
  },
  {
   "cell_type": "markdown",
   "metadata": {
    "heading_collapsed": true,
    "hidden": true
   },
   "source": [
    "#### Remove Numbers "
   ]
  },
  {
   "cell_type": "code",
   "execution_count": 90,
   "metadata": {
    "ExecuteTime": {
     "end_time": "2020-10-10T04:21:24.015614Z",
     "start_time": "2020-10-10T04:21:23.995973Z"
    },
    "hidden": true
   },
   "outputs": [
    {
     "name": "stdout",
     "output_type": "stream",
     "text": [
      "6  ===== \n",
      " I set aside at least an hour each day to read to my son (3 y/o). At this point, I consider myself a connoisseur of children's books and this is one of the best. Santa Clause put this under the tree. Since then, we've read it perpetually and he loves it.<br /><br />First, this book taught him the months of the year.<br /><br />Second, it's a pleasure to read. Well suited to 1.5 y/o old to 4+.<br /><br />Very few children's books are worth owning. Most should be borrowed from the library. This book, however, deserves a permanent spot on your shelf. Sendak's best.\n"
     ]
    }
   ],
   "source": [
    "# Remove Numbers : \\S*\\d\\S*\n",
    "index = 0\n",
    "for sent in final_data[\"Text\"]:\n",
    "    if(len(re.findall(\"\\S*\\d\\S*\", sent))):\n",
    "        print(index, \" ===== \\n\", sent)\n",
    "        break\n",
    "    index += 1"
   ]
  },
  {
   "cell_type": "code",
   "execution_count": 91,
   "metadata": {
    "ExecuteTime": {
     "end_time": "2020-10-10T04:22:27.651928Z",
     "start_time": "2020-10-10T04:22:27.638962Z"
    },
    "hidden": true
   },
   "outputs": [
    {
     "data": {
      "text/plain": [
       "\"I set aside at least an hour each day to read to my son   y/o). At this point, I consider myself a connoisseur of children's books and this is one of the best. Santa Clause put this under the tree. Since then, we've read it perpetually and he loves it.<br /><br />First, this book taught him the months of the year.<br /><br />Second, it's a pleasure to read. Well suited to   y/o old to   /><br />Very few children's books are worth owning. Most should be borrowed from the library. This book, however, deserves a permanent spot on your shelf. Sendak's best.\""
      ]
     },
     "execution_count": 91,
     "metadata": {},
     "output_type": "execute_result"
    }
   ],
   "source": [
    "# remove numbers\n",
    "def cleannumbers(sentense):\n",
    "    pattern = \"\\S*\\d\\S*\"\n",
    "    sentense = re.sub(pattern, \" \", sentense)\n",
    "    return sentense\n",
    "\n",
    "cleannumbers(final_data[\"Text\"].values[6])"
   ]
  },
  {
   "cell_type": "code",
   "execution_count": null,
   "metadata": {
    "hidden": true
   },
   "outputs": [],
   "source": []
  },
  {
   "cell_type": "code",
   "execution_count": null,
   "metadata": {
    "hidden": true
   },
   "outputs": [],
   "source": []
  },
  {
   "cell_type": "code",
   "execution_count": null,
   "metadata": {
    "hidden": true
   },
   "outputs": [],
   "source": []
  },
  {
   "cell_type": "markdown",
   "metadata": {
    "hidden": true
   },
   "source": [
    "#### Final Changes "
   ]
  },
  {
   "cell_type": "code",
   "execution_count": 92,
   "metadata": {
    "ExecuteTime": {
     "end_time": "2020-10-10T04:23:30.817981Z",
     "start_time": "2020-10-10T04:23:01.888874Z"
    },
    "hidden": true
   },
   "outputs": [
    {
     "name": "stderr",
     "output_type": "stream",
     "text": [
      "100%|███████████████████████████████████████████████████████████████████████| 364171/364171 [00:28<00:00, 12591.85it/s]\n"
     ]
    }
   ],
   "source": [
    "processed_reviews = []\n",
    "for sentense in tqdm(final_data[\"Text\"]):\n",
    "    sentense = cleanhtml(sentense)\n",
    "    sentense = cleanpunc(sentense)\n",
    "    sentense = decontracted(sentense)\n",
    "    sentense = clean_stopword(sentense)\n",
    "    sentense = cleanlinks(sentense)\n",
    "    sentense = cleannumbers(sentense)\n",
    "    \n",
    "    processed_reviews.append(sentense.strip())"
   ]
  },
  {
   "cell_type": "code",
   "execution_count": 93,
   "metadata": {
    "ExecuteTime": {
     "end_time": "2020-10-10T04:23:40.463082Z",
     "start_time": "2020-10-10T04:23:40.401769Z"
    },
    "code_folding": [],
    "hidden": true
   },
   "outputs": [],
   "source": [
    "# add processed_reviews into final_data\n",
    "final_data[\"CleanedText\"] = processed_reviews"
   ]
  },
  {
   "cell_type": "code",
   "execution_count": 94,
   "metadata": {
    "ExecuteTime": {
     "end_time": "2020-10-10T04:25:50.364627Z",
     "start_time": "2020-10-10T04:23:42.299131Z"
    },
    "code_folding": [],
    "hidden": true
   },
   "outputs": [],
   "source": [
    "# Store this DataFrame into SQLITE database\n",
    "\n",
    "con = sqlite3.connect(\"dataset/database.sqlite\")\n",
    "\n",
    "final_data.to_sql(\"Cleaned_Reviews\", con, schema=None, if_exists=\"replace\")"
   ]
  },
  {
   "cell_type": "markdown",
   "metadata": {
    "heading_collapsed": true
   },
   "source": [
    "## BOW"
   ]
  },
  {
   "cell_type": "code",
   "execution_count": 100,
   "metadata": {
    "ExecuteTime": {
     "end_time": "2020-10-10T04:27:59.203379Z",
     "start_time": "2020-10-10T04:27:47.162778Z"
    },
    "collapsed": true,
    "hidden": true,
    "jupyter": {
     "outputs_hidden": true
    }
   },
   "outputs": [
    {
     "data": {
      "text/plain": [
       "('Some Features Names',\n",
       " ['aa',\n",
       "  'aaa',\n",
       "  'aaaa',\n",
       "  'aaaaa',\n",
       "  'aaaaaa',\n",
       "  'aaaaaaaaaaa',\n",
       "  'aaaaaaaaaaaa',\n",
       "  'aaaaaaaaaaaaa',\n",
       "  'aaaaaaaaaaaaaa',\n",
       "  'aaaaaaaaaaaaaaa'])"
      ]
     },
     "execution_count": 100,
     "metadata": {},
     "output_type": "execute_result"
    }
   ],
   "source": [
    "count_vect = CountVectorizer()\n",
    "final_vectors = count_vect.fit(final_data[\"CleanedText\"].values)\n",
    "\n",
    "\"Some Features Names\", final_vectors.get_feature_names()[:10]"
   ]
  },
  {
   "cell_type": "code",
   "execution_count": 103,
   "metadata": {
    "ExecuteTime": {
     "end_time": "2020-10-10T04:30:29.247099Z",
     "start_time": "2020-10-10T04:30:17.167757Z"
    },
    "hidden": true
   },
   "outputs": [
    {
     "data": {
      "text/plain": [
       "scipy.sparse.csr.csr_matrix"
      ]
     },
     "execution_count": 103,
     "metadata": {},
     "output_type": "execute_result"
    },
    {
     "data": {
      "text/plain": [
       "(364171, 103093)"
      ]
     },
     "execution_count": 103,
     "metadata": {},
     "output_type": "execute_result"
    }
   ],
   "source": [
    "final_vectors = count_vect.transform(final_data[\"CleanedText\"].values)\n",
    "type(final_vectors)\n",
    "final_vectors.get_shape()"
   ]
  },
  {
   "cell_type": "markdown",
   "metadata": {
    "heading_collapsed": true
   },
   "source": [
    "## Bi-grams, N-grams "
   ]
  },
  {
   "cell_type": "code",
   "execution_count": 148,
   "metadata": {
    "ExecuteTime": {
     "end_time": "2020-10-10T04:58:09.406305Z",
     "start_time": "2020-10-10T04:58:00.555979Z"
    },
    "collapsed": true,
    "hidden": true,
    "jupyter": {
     "outputs_hidden": true
    }
   },
   "outputs": [
    {
     "data": {
      "text/plain": [
       "11736030"
      ]
     },
     "execution_count": 148,
     "metadata": {},
     "output_type": "execute_result"
    },
    {
     "name": "stdout",
     "output_type": "stream",
     "text": [
      "Most Common Frequent Positive Words :>>>  [('like', 124893), ('good', 110874), ('great', 103776), ('one', 89440), ('taste', 83861), ('tea', 76097), ('product', 75650), ('coffee', 75416), ('flavor', 74811), ('love', 74109), ('would', 72835), ('get', 56169), ('food', 52842), ('really', 52806), ('use', 51314), ('amazon', 49880), ('also', 48132), ('much', 47910), ('best', 47788), ('time', 46525)]\n"
     ]
    }
   ],
   "source": [
    "positive_words = [word for sentense in final_data[final_data[\"Score\"]==1][\"CleanedText\"] for word in sentense.split()]\n",
    "len(positive_words)\n",
    "\n",
    "positive_word_freq = nltk.FreqDist(positive_words)\n",
    "print(\"Most Common Frequent Positive Words :>>> \", positive_word_freq.most_common(20))"
   ]
  },
  {
   "cell_type": "code",
   "execution_count": 147,
   "metadata": {
    "ExecuteTime": {
     "end_time": "2020-10-10T04:56:53.899035Z",
     "start_time": "2020-10-10T04:56:52.051341Z"
    },
    "collapsed": true,
    "hidden": true,
    "jupyter": {
     "outputs_hidden": true
    }
   },
   "outputs": [
    {
     "data": {
      "text/plain": [
       "2372745"
      ]
     },
     "execution_count": 147,
     "metadata": {},
     "output_type": "execute_result"
    },
    {
     "name": "stdout",
     "output_type": "stream",
     "text": [
      "Most Common Frequent Negative Words :>>>  [('like', 30319), ('product', 23660), ('would', 23348), ('taste', 22601), ('one', 18977), ('good', 14762), ('coffee', 14189), ('flavor', 14098), ('get', 11024), ('even', 10945), ('food', 10850), ('tea', 10717), ('amazon', 10131), ('buy', 10086), ('much', 9465), ('really', 9414), ('could', 8695), ('box', 8328), ('tried', 8094), ('time', 7893)]\n"
     ]
    }
   ],
   "source": [
    "negative_words = [word for sentense in final_data[final_data[\"Score\"]==0][\"CleanedText\"] for word in sentense.split()]\n",
    "len(negative_words)\n",
    "\n",
    "negative_word_freq = nltk.FreqDist(negative_words)\n",
    "print(\"Most Common Frequent Negative Words :>>> \", negative_word_freq.most_common(20))"
   ]
  },
  {
   "cell_type": "code",
   "execution_count": 155,
   "metadata": {
    "ExecuteTime": {
     "end_time": "2020-10-10T05:04:33.722643Z",
     "start_time": "2020-10-10T05:04:04.513910Z"
    },
    "code_folding": [
     0
    ],
    "collapsed": true,
    "hidden": true,
    "jupyter": {
     "outputs_hidden": true
    }
   },
   "outputs": [
    {
     "name": "stderr",
     "output_type": "stream",
     "text": [
      "100%|███████████████████████████████████████████████████████████████████████| 364171/364171 [00:29<00:00, 12472.14it/s]\n"
     ]
    }
   ],
   "source": [
    "# observation\n",
    "# like word is most frequently in both type of reviews\n",
    "# because here we only used uni-gram and \"not like\" word may be used into negative review \n",
    "# but because of uni gram we extrace \"like\" from negative review also\n",
    "\n",
    "# and we remove \"not\" from reviews using stopwords\n",
    "# so fisrt we keep \"stop\" into reviews and again clean all reviews\n",
    "\n",
    "stop = set(stopwords.words(\"english\"))\n",
    "stop.remove(\"not\")\n",
    "\n",
    "processed_reviews = []\n",
    "for sentense in tqdm(final_data[\"Text\"]):\n",
    "    sentense = cleanhtml(sentense)\n",
    "    sentense = cleanpunc(sentense)\n",
    "    sentense = decontracted(sentense)\n",
    "    sentense = clean_stopword(sentense)\n",
    "    sentense = cleanlinks(sentense)\n",
    "    sentense = cleannumbers(sentense)\n",
    "    \n",
    "    processed_reviews.append(sentense.strip())"
   ]
  },
  {
   "cell_type": "code",
   "execution_count": 156,
   "metadata": {
    "ExecuteTime": {
     "end_time": "2020-10-10T05:05:04.635987Z",
     "start_time": "2020-10-10T05:05:04.408742Z"
    },
    "hidden": true
   },
   "outputs": [],
   "source": [
    "# add processed_reviews into final_data\n",
    "final_data[\"include_not_word\"] = processed_reviews"
   ]
  },
  {
   "cell_type": "code",
   "execution_count": 158,
   "metadata": {
    "ExecuteTime": {
     "end_time": "2020-10-10T05:10:33.033133Z",
     "start_time": "2020-10-10T05:05:57.845487Z"
    },
    "hidden": true
   },
   "outputs": [],
   "source": [
    "# Store this DataFrame into SQLITE database\n",
    "\n",
    "con = sqlite3.connect(\"dataset/database.sqlite\")\n",
    "final_data.to_sql(\"Cleaned_Reviews\", con, schema=None, if_exists=\"replace\")"
   ]
  },
  {
   "cell_type": "code",
   "execution_count": 159,
   "metadata": {
    "ExecuteTime": {
     "end_time": "2020-10-10T05:13:31.417994Z",
     "start_time": "2020-10-10T05:12:38.245499Z"
    },
    "collapsed": true,
    "hidden": true,
    "jupyter": {
     "outputs_hidden": true
    }
   },
   "outputs": [
    {
     "data": {
      "text/plain": [
       "('Some Features Names',\n",
       " ['aa',\n",
       "  'aa actually',\n",
       "  'aa amazon',\n",
       "  'aa aroma',\n",
       "  'aa batteries',\n",
       "  'aa battery',\n",
       "  'aa beans',\n",
       "  'aa big',\n",
       "  'aa brand',\n",
       "  'aa caffene'])"
      ]
     },
     "execution_count": 159,
     "metadata": {},
     "output_type": "execute_result"
    }
   ],
   "source": [
    "count_vect = CountVectorizer(ngram_range=(1,2))\n",
    "final_vectors = count_vect.fit(final_data[\"include_not_word\"].values)\n",
    "\n",
    "\"Some Features Names\", final_vectors.get_feature_names()[:10]"
   ]
  },
  {
   "cell_type": "code",
   "execution_count": 160,
   "metadata": {
    "ExecuteTime": {
     "end_time": "2020-10-10T05:16:07.259530Z",
     "start_time": "2020-10-10T05:15:34.414347Z"
    },
    "hidden": true
   },
   "outputs": [
    {
     "data": {
      "text/plain": [
       "scipy.sparse.csr.csr_matrix"
      ]
     },
     "execution_count": 160,
     "metadata": {},
     "output_type": "execute_result"
    },
    {
     "data": {
      "text/plain": [
       "(364171, 3950422)"
      ]
     },
     "execution_count": 160,
     "metadata": {},
     "output_type": "execute_result"
    }
   ],
   "source": [
    "final_vectors = count_vect.transform(final_data[\"include_not_word\"].values)\n",
    "type(final_vectors)\n",
    "final_vectors.get_shape()"
   ]
  },
  {
   "cell_type": "markdown",
   "metadata": {
    "heading_collapsed": true
   },
   "source": [
    "## tf-idf "
   ]
  },
  {
   "cell_type": "code",
   "execution_count": 198,
   "metadata": {
    "ExecuteTime": {
     "end_time": "2020-10-10T05:42:54.467552Z",
     "start_time": "2020-10-10T05:42:06.399687Z"
    },
    "hidden": true
   },
   "outputs": [],
   "source": [
    "tf_idf_vec = TfidfVectorizer(ngram_range=(1,2))\n",
    "final_vectors = tf_idf_vec.fit(final_data[\"include_not_word\"].values)"
   ]
  },
  {
   "cell_type": "code",
   "execution_count": 199,
   "metadata": {
    "ExecuteTime": {
     "end_time": "2020-10-10T05:43:35.810599Z",
     "start_time": "2020-10-10T05:42:58.077346Z"
    },
    "hidden": true
   },
   "outputs": [
    {
     "name": "stdout",
     "output_type": "stream",
     "text": [
      "Some Features Names ['aa', 'aa actually', 'aa amazon', 'aa aroma', 'aa batteries', 'aa battery', 'aa beans', 'aa big', 'aa brand', 'aa caffene']\n"
     ]
    },
    {
     "data": {
      "text/plain": [
       "scipy.sparse.csr.csr_matrix"
      ]
     },
     "execution_count": 199,
     "metadata": {},
     "output_type": "execute_result"
    },
    {
     "data": {
      "text/plain": [
       "(364171, 3950422)"
      ]
     },
     "execution_count": 199,
     "metadata": {},
     "output_type": "execute_result"
    }
   ],
   "source": [
    "features = final_vectors.get_feature_names()\n",
    "print(\"Some Features Names\", features[:10])\n",
    "\n",
    "final_vectors = count_vect.transform(final_data[\"include_not_word\"].values)\n",
    "type(final_vectors)\n",
    "final_vectors.get_shape()"
   ]
  },
  {
   "cell_type": "code",
   "execution_count": 189,
   "metadata": {
    "ExecuteTime": {
     "end_time": "2020-10-10T05:37:35.050101Z",
     "start_time": "2020-10-10T05:37:34.958325Z"
    },
    "hidden": true
   },
   "outputs": [
    {
     "data": {
      "text/plain": [
       "array([0, 0, 0, ..., 0, 0, 0], dtype=int64)"
      ]
     },
     "execution_count": 189,
     "metadata": {},
     "output_type": "execute_result"
    },
    {
     "data": {
      "text/plain": [
       "array([0, 1, 2, 3], dtype=int64)"
      ]
     },
     "execution_count": 189,
     "metadata": {},
     "output_type": "execute_result"
    }
   ],
   "source": [
    "# 3rd Row means for 3rd review\n",
    "x = final_vectors[3, :].toarray()[0]\n",
    "x\n",
    "np.unique(x)"
   ]
  },
  {
   "cell_type": "code",
   "execution_count": 201,
   "metadata": {
    "ExecuteTime": {
     "end_time": "2020-10-10T05:48:36.708631Z",
     "start_time": "2020-10-10T05:48:36.598503Z"
    },
    "collapsed": true,
    "hidden": true,
    "jupyter": {
     "outputs_hidden": true
    }
   },
   "outputs": [
    {
     "data": {
      "text/html": [
       "<div>\n",
       "<style scoped>\n",
       "    .dataframe tbody tr th:only-of-type {\n",
       "        vertical-align: middle;\n",
       "    }\n",
       "\n",
       "    .dataframe tbody tr th {\n",
       "        vertical-align: top;\n",
       "    }\n",
       "\n",
       "    .dataframe thead th {\n",
       "        text-align: right;\n",
       "    }\n",
       "</style>\n",
       "<table border=\"1\" class=\"dataframe\">\n",
       "  <thead>\n",
       "    <tr style=\"text-align: right;\">\n",
       "      <th></th>\n",
       "      <th>Feature</th>\n",
       "      <th>tfidf</th>\n",
       "    </tr>\n",
       "  </thead>\n",
       "  <tbody>\n",
       "    <tr>\n",
       "      <th>0</th>\n",
       "      <td>little</td>\n",
       "      <td>3</td>\n",
       "    </tr>\n",
       "    <tr>\n",
       "      <th>1</th>\n",
       "      <td>well</td>\n",
       "      <td>2</td>\n",
       "    </tr>\n",
       "    <tr>\n",
       "      <th>2</th>\n",
       "      <td>like</td>\n",
       "      <td>2</td>\n",
       "    </tr>\n",
       "    <tr>\n",
       "      <th>3</th>\n",
       "      <td>go</td>\n",
       "      <td>2</td>\n",
       "    </tr>\n",
       "    <tr>\n",
       "      <th>4</th>\n",
       "      <td>came</td>\n",
       "      <td>2</td>\n",
       "    </tr>\n",
       "    <tr>\n",
       "      <th>5</th>\n",
       "      <td>book</td>\n",
       "      <td>2</td>\n",
       "    </tr>\n",
       "    <tr>\n",
       "      <th>6</th>\n",
       "      <td>know</td>\n",
       "      <td>2</td>\n",
       "    </tr>\n",
       "    <tr>\n",
       "      <th>7</th>\n",
       "      <td>ones like</td>\n",
       "      <td>1</td>\n",
       "    </tr>\n",
       "    <tr>\n",
       "      <th>8</th>\n",
       "      <td>great</td>\n",
       "      <td>1</td>\n",
       "    </tr>\n",
       "    <tr>\n",
       "      <th>9</th>\n",
       "      <td>witty</td>\n",
       "      <td>1</td>\n",
       "    </tr>\n",
       "    <tr>\n",
       "      <th>10</th>\n",
       "      <td>witty book</td>\n",
       "      <td>1</td>\n",
       "    </tr>\n",
       "    <tr>\n",
       "      <th>11</th>\n",
       "      <td>well know</td>\n",
       "      <td>1</td>\n",
       "    </tr>\n",
       "    <tr>\n",
       "      <th>12</th>\n",
       "      <td>book read</td>\n",
       "      <td>1</td>\n",
       "    </tr>\n",
       "    <tr>\n",
       "      <th>13</th>\n",
       "      <td>surprise</td>\n",
       "      <td>1</td>\n",
       "    </tr>\n",
       "    <tr>\n",
       "      <th>14</th>\n",
       "      <td>bombay</td>\n",
       "      <td>1</td>\n",
       "    </tr>\n",
       "    <tr>\n",
       "      <th>15</th>\n",
       "      <td>places like</td>\n",
       "      <td>1</td>\n",
       "    </tr>\n",
       "    <tr>\n",
       "      <th>16</th>\n",
       "      <td>nice rhythm</td>\n",
       "      <td>1</td>\n",
       "    </tr>\n",
       "    <tr>\n",
       "      <th>17</th>\n",
       "      <td>rice child</td>\n",
       "      <td>1</td>\n",
       "    </tr>\n",
       "    <tr>\n",
       "      <th>18</th>\n",
       "      <td>version ice</td>\n",
       "      <td>1</td>\n",
       "    </tr>\n",
       "    <tr>\n",
       "      <th>19</th>\n",
       "      <td>surprise came</td>\n",
       "      <td>1</td>\n",
       "    </tr>\n",
       "    <tr>\n",
       "      <th>20</th>\n",
       "      <td>sendak version</td>\n",
       "      <td>1</td>\n",
       "    </tr>\n",
       "    <tr>\n",
       "      <th>21</th>\n",
       "      <td>bombay nile</td>\n",
       "      <td>1</td>\n",
       "    </tr>\n",
       "    <tr>\n",
       "      <th>22</th>\n",
       "      <td>kids</td>\n",
       "      <td>1</td>\n",
       "    </tr>\n",
       "    <tr>\n",
       "      <th>23</th>\n",
       "      <td>chicken</td>\n",
       "      <td>1</td>\n",
       "    </tr>\n",
       "    <tr>\n",
       "      <th>24</th>\n",
       "      <td>like lines</td>\n",
       "      <td>1</td>\n",
       "    </tr>\n",
       "  </tbody>\n",
       "</table>\n",
       "</div>"
      ],
      "text/plain": [
       "           Feature  tfidf\n",
       "0           little      3\n",
       "1             well      2\n",
       "2             like      2\n",
       "3               go      2\n",
       "4             came      2\n",
       "5             book      2\n",
       "6             know      2\n",
       "7        ones like      1\n",
       "8            great      1\n",
       "9            witty      1\n",
       "10      witty book      1\n",
       "11       well know      1\n",
       "12       book read      1\n",
       "13        surprise      1\n",
       "14          bombay      1\n",
       "15     places like      1\n",
       "16     nice rhythm      1\n",
       "17      rice child      1\n",
       "18     version ice      1\n",
       "19   surprise came      1\n",
       "20  sendak version      1\n",
       "21     bombay nile      1\n",
       "22            kids      1\n",
       "23         chicken      1\n",
       "24      like lines      1"
      ]
     },
     "execution_count": 201,
     "metadata": {},
     "output_type": "execute_result"
    }
   ],
   "source": [
    "# get top tf-idf features\n",
    "def top_tfidf_features(row, features, top_n=25):\n",
    "    top_n_features = np.argsort(row)[::-1][:25]\n",
    "    top_n_features = [(features[i], row[i]) for i in top_n_features]\n",
    "    df = pd.DataFrame(top_n_features, columns=[\"Feature\", \"tfidf\"])\n",
    "    return df\n",
    "\n",
    "# let's get top features for 3rd review\n",
    "x = final_vectors[3, :].toarray()[0]\n",
    "top_tfidf_features(x, features, 25)"
   ]
  },
  {
   "cell_type": "markdown",
   "metadata": {
    "heading_collapsed": true
   },
   "source": [
    "## Word2Vec "
   ]
  },
  {
   "cell_type": "code",
   "execution_count": 39,
   "metadata": {
    "ExecuteTime": {
     "end_time": "2020-10-10T15:02:30.957263Z",
     "start_time": "2020-10-10T15:02:28.063430Z"
    },
    "hidden": true
   },
   "outputs": [],
   "source": [
    "# Train our own Word2Vec using our own data corpus\n",
    "\n",
    "list_of_sentenses = []\n",
    "for sentense in final_data[\"CleanedText\"]:\n",
    "    list_of_sentenses.append(sentense.split())"
   ]
  },
  {
   "cell_type": "code",
   "execution_count": 40,
   "metadata": {
    "ExecuteTime": {
     "end_time": "2020-10-10T15:03:44.629479Z",
     "start_time": "2020-10-10T15:02:40.539913Z"
    },
    "cell_style": "center",
    "hidden": true
   },
   "outputs": [],
   "source": [
    "w2v = Word2Vec(list_of_sentenses, min_count=5, size=50, workers=4)"
   ]
  },
  {
   "cell_type": "code",
   "execution_count": 218,
   "metadata": {
    "ExecuteTime": {
     "end_time": "2020-10-10T06:40:13.125790Z",
     "start_time": "2020-10-10T06:40:08.430096Z"
    },
    "hidden": true
   },
   "outputs": [
    {
     "data": {
      "text/plain": [
       "[('weird', 0.7784483432769775),\n",
       " ('okay', 0.7326413989067078),\n",
       " ('ok', 0.7103697061538696),\n",
       " ('good', 0.6892138719558716),\n",
       " ('gross', 0.687997043132782),\n",
       " ('yucky', 0.6782313585281372),\n",
       " ('resemble', 0.6759936213493347),\n",
       " ('kind', 0.673346757888794),\n",
       " ('strange', 0.6602465510368347),\n",
       " ('odd', 0.6582733392715454)]"
      ]
     },
     "execution_count": 218,
     "metadata": {},
     "output_type": "execute_result"
    }
   ],
   "source": [
    "w2v.wv.most_similar(\"like\")"
   ]
  },
  {
   "cell_type": "code",
   "execution_count": 219,
   "metadata": {
    "ExecuteTime": {
     "end_time": "2020-10-10T06:40:23.707108Z",
     "start_time": "2020-10-10T06:40:23.573534Z"
    },
    "hidden": true
   },
   "outputs": [
    {
     "data": {
      "text/plain": [
       "[('fantastic', 0.8846423625946045),\n",
       " ('terrific', 0.8666932582855225),\n",
       " ('awesome', 0.8664771914482117),\n",
       " ('good', 0.8627448081970215),\n",
       " ('excellent', 0.8490008115768433),\n",
       " ('wonderful', 0.8131095170974731),\n",
       " ('perfect', 0.7790266275405884),\n",
       " ('nice', 0.7610616087913513),\n",
       " ('amazing', 0.7420182824134827),\n",
       " ('fabulous', 0.7315464615821838)]"
      ]
     },
     "execution_count": 219,
     "metadata": {},
     "output_type": "execute_result"
    }
   ],
   "source": [
    "w2v.wv.most_similar(\"great\")"
   ]
  },
  {
   "cell_type": "code",
   "execution_count": 220,
   "metadata": {
    "ExecuteTime": {
     "end_time": "2020-10-10T06:40:33.021670Z",
     "start_time": "2020-10-10T06:40:32.945921Z"
    },
    "hidden": true
   },
   "outputs": [
    {
     "data": {
      "text/plain": [
       "[('nastiest', 0.8647022247314453),\n",
       " ('greatest', 0.7747658491134644),\n",
       " ('disgusting', 0.7339673042297363),\n",
       " ('best', 0.7146674394607544),\n",
       " ('weakest', 0.7022820711135864),\n",
       " ('terrible', 0.7001622915267944),\n",
       " ('horrid', 0.6941112875938416),\n",
       " ('horrible', 0.6799733638763428),\n",
       " ('tastiest', 0.6714720726013184),\n",
       " ('vile', 0.6614094972610474)]"
      ]
     },
     "execution_count": 220,
     "metadata": {},
     "output_type": "execute_result"
    }
   ],
   "source": [
    "w2v.wv.most_similar(\"worst\")"
   ]
  },
  {
   "cell_type": "code",
   "execution_count": 18,
   "metadata": {
    "ExecuteTime": {
     "end_time": "2020-10-10T10:15:58.658477Z",
     "start_time": "2020-10-10T10:15:47.321485Z"
    },
    "hidden": true
   },
   "outputs": [
    {
     "data": {
      "text/plain": [
       "[('delicious', 0.8269699215888977),\n",
       " ('tastey', 0.8031918406486511),\n",
       " ('satisfying', 0.7969828844070435),\n",
       " ('yummy', 0.7885133028030396),\n",
       " ('filling', 0.7560304403305054),\n",
       " ('flavorful', 0.7488271594047546),\n",
       " ('surprisingly', 0.6680410504341125),\n",
       " ('hearty', 0.6585946083068848),\n",
       " ('delish', 0.6532188653945923),\n",
       " ('good', 0.6506571769714355)]"
      ]
     },
     "execution_count": 18,
     "metadata": {},
     "output_type": "execute_result"
    }
   ],
   "source": [
    "w2v.wv.most_similar(\"tasty\")"
   ]
  },
  {
   "cell_type": "code",
   "execution_count": 41,
   "metadata": {
    "ExecuteTime": {
     "end_time": "2020-10-10T15:03:54.082838Z",
     "start_time": "2020-10-10T15:03:54.067878Z"
    },
    "hidden": true
   },
   "outputs": [
    {
     "data": {
      "text/plain": [
       "34360"
      ]
     },
     "execution_count": 41,
     "metadata": {},
     "output_type": "execute_result"
    },
    {
     "name": "stdout",
     "output_type": "stream",
     "text": [
      "['witty', 'little', 'book', 'makes', 'son', 'laugh', 'loud', 'recite', 'car', 'driving', 'along', 'always', 'sing', 'refrain', 'learned', 'whales', 'india', 'drooping', 'roses', 'love']\n"
     ]
    }
   ],
   "source": [
    "vocabulary = list(w2v.wv.vocab)\n",
    "len(vocabulary)\n",
    "print(vocabulary[:20])"
   ]
  },
  {
   "cell_type": "markdown",
   "metadata": {
    "ExecuteTime": {
     "end_time": "2020-10-10T10:23:36.834221Z",
     "start_time": "2020-10-10T10:23:36.670051Z"
    },
    "heading_collapsed": true
   },
   "source": [
    "## Average W2V and tf-idf weighted W2V "
   ]
  },
  {
   "cell_type": "markdown",
   "metadata": {
    "hidden": true
   },
   "source": [
    "### Average W2V "
   ]
  },
  {
   "cell_type": "code",
   "execution_count": 7,
   "metadata": {
    "ExecuteTime": {
     "end_time": "2020-10-10T13:39:36.512999Z",
     "start_time": "2020-10-10T13:27:58.014235Z"
    },
    "hidden": true
   },
   "outputs": [
    {
     "name": "stderr",
     "output_type": "stream",
     "text": [
      " 51%|█████████████████████████████████████▏                                   | 185825/364171 [11:38<11:10, 266.06it/s]\n"
     ]
    },
    {
     "ename": "KeyboardInterrupt",
     "evalue": "",
     "output_type": "error",
     "traceback": [
      "\u001b[1;31m---------------------------------------------------------------------------\u001b[0m",
      "\u001b[1;31mKeyboardInterrupt\u001b[0m                         Traceback (most recent call last)",
      "\u001b[1;32m<ipython-input-7-662a5a3f845b>\u001b[0m in \u001b[0;36m<module>\u001b[1;34m\u001b[0m\n\u001b[0;32m      8\u001b[0m         \u001b[1;32mif\u001b[0m \u001b[0mword\u001b[0m \u001b[1;32min\u001b[0m \u001b[0mvocabulary\u001b[0m\u001b[1;33m:\u001b[0m\u001b[1;33m\u001b[0m\u001b[1;33m\u001b[0m\u001b[0m\n\u001b[0;32m      9\u001b[0m             \u001b[0mvec\u001b[0m \u001b[1;33m=\u001b[0m \u001b[0mw2v\u001b[0m\u001b[1;33m.\u001b[0m\u001b[0mwv\u001b[0m\u001b[1;33m[\u001b[0m\u001b[0mword\u001b[0m\u001b[1;33m]\u001b[0m\u001b[1;33m\u001b[0m\u001b[1;33m\u001b[0m\u001b[0m\n\u001b[1;32m---> 10\u001b[1;33m             \u001b[0msent_vec\u001b[0m \u001b[1;33m+=\u001b[0m \u001b[0mvec\u001b[0m\u001b[1;33m\u001b[0m\u001b[1;33m\u001b[0m\u001b[0m\n\u001b[0m\u001b[0;32m     11\u001b[0m             \u001b[0mcnt_words\u001b[0m \u001b[1;33m+=\u001b[0m \u001b[1;36m1\u001b[0m\u001b[1;33m\u001b[0m\u001b[1;33m\u001b[0m\u001b[0m\n\u001b[0;32m     12\u001b[0m     \u001b[1;32mif\u001b[0m \u001b[0mcnt_words\u001b[0m \u001b[1;33m!=\u001b[0m \u001b[1;36m0\u001b[0m\u001b[1;33m:\u001b[0m\u001b[1;33m\u001b[0m\u001b[1;33m\u001b[0m\u001b[0m\n",
      "\u001b[1;31mKeyboardInterrupt\u001b[0m: "
     ]
    }
   ],
   "source": [
    "final_vectors = []\n",
    "for sentence in tqdm(list_of_sentenses):\n",
    "    vector_sum = np.zeros(50)\n",
    "    count = 0\n",
    "    for word in sentence:\n",
    "        if word in vocabulary:\n",
    "            vec = w2v.wv[word]\n",
    "            vector_sum += vec\n",
    "            count += 1\n",
    "    if count != 0:\n",
    "        vector_sum /= count\n",
    "    final_vectors.append(vector_sum)\n",
    "print(len(sent_vectors))\n",
    "print(len(sent_vectors[0]))"
   ]
  },
  {
   "cell_type": "markdown",
   "metadata": {
    "heading_collapsed": true,
    "hidden": true
   },
   "source": [
    "###  tf-idf weighted W2V"
   ]
  },
  {
   "cell_type": "code",
   "execution_count": 38,
   "metadata": {
    "ExecuteTime": {
     "end_time": "2020-10-10T15:00:05.328498Z",
     "start_time": "2020-10-10T14:59:50.698563Z"
    },
    "collapsed": true,
    "hidden": true,
    "jupyter": {
     "outputs_hidden": true
    }
   },
   "outputs": [
    {
     "data": {
      "text/plain": [
       "TfidfVectorizer()"
      ]
     },
     "execution_count": 38,
     "metadata": {},
     "output_type": "execute_result"
    },
    {
     "data": {
      "text/plain": [
       "{'aa': 9.487893448949146,\n",
       " 'aaa': 10.4041841808233,\n",
       " 'aaaa': 11.50279646949141,\n",
       " 'aaaaa': 11.407486289687085,\n",
       " 'aaaaaa': 12.706769273817345,\n",
       " 'aaaaaaaaaaa': 13.11223438192551,\n",
       " 'aaaaaaaaaaaa': 13.11223438192551,\n",
       " 'aaaaaaaaaaaaa': 13.11223438192551,\n",
       " 'aaaaaaaaaaaaaa': 13.11223438192551,\n",
       " 'aaaaaaaaaaaaaaa': 13.11223438192551,\n",
       " 'aaaaaaaaaaaaaaaaaaaaaaaaaaaaaaaaaaaaaaaaaaaa': 13.11223438192551,\n",
       " 'aaaaaaaaaaaaaaaaaaaargh': 13.11223438192551,\n",
       " 'aaaaaaaaaaaaaaaaacccccccckkkkkk': 13.11223438192551,\n",
       " 'aaaaaaaaagghh': 13.11223438192551,\n",
       " 'aaaaaaah': 13.11223438192551,\n",
       " 'aaaaaaahhhhhh': 13.11223438192551,\n",
       " 'aaaaaaarrrrrggghhh': 13.11223438192551,\n",
       " 'aaaaaah': 12.706769273817345,\n",
       " 'aaaaaahhh': 13.11223438192551,\n",
       " 'aaaaaahhhh': 13.11223438192551,\n",
       " 'aaaaaahhhhh': 13.11223438192551,\n",
       " 'aaaaaahhhhhyaaaaaa': 13.11223438192551,\n",
       " 'aaaaaand': 13.11223438192551,\n",
       " 'aaaaaawwwwwwwwww': 13.11223438192551,\n",
       " 'aaaaah': 12.706769273817345,\n",
       " 'aaaaahhhhhhhhhhhhhhhh': 13.11223438192551,\n",
       " 'aaaaallll': 13.11223438192551,\n",
       " 'aaaaawsome': 13.11223438192551,\n",
       " 'aaaah': 12.419087201365565,\n",
       " 'aaaahhhhhh': 12.706769273817345,\n",
       " 'aaaahhhhhhhhhhh': 13.11223438192551,\n",
       " 'aaaallll': 13.11223438192551,\n",
       " 'aaaand': 12.706769273817345,\n",
       " 'aaaannnnddd': 13.11223438192551,\n",
       " 'aaaarrrrghh': 13.11223438192551,\n",
       " 'aaagh': 13.11223438192551,\n",
       " 'aaah': 11.097331361383246,\n",
       " 'aaahhh': 13.11223438192551,\n",
       " 'aaahhhhhh': 13.11223438192551,\n",
       " 'aaahhhs': 13.11223438192551,\n",
       " 'aaahs': 12.419087201365565,\n",
       " 'aabout': 13.11223438192551,\n",
       " 'aabsolutely': 13.11223438192551,\n",
       " 'aachen': 13.11223438192551,\n",
       " 'aachener': 13.11223438192551,\n",
       " 'aacurate': 13.11223438192551,\n",
       " 'aacute': 10.279021037869294,\n",
       " 'aad': 13.11223438192551,\n",
       " 'aadd': 13.11223438192551,\n",
       " 'aadp': 13.11223438192551,\n",
       " 'aadults': 13.11223438192551,\n",
       " 'aaf': 13.11223438192551,\n",
       " 'aafco': 10.19446364984123,\n",
       " 'aafes': 12.0136220932574,\n",
       " 'aafter': 13.11223438192551,\n",
       " 'aagh': 13.11223438192551,\n",
       " 'aah': 11.859471413430143,\n",
       " 'aahhed': 13.11223438192551,\n",
       " 'aahhhs': 13.11223438192551,\n",
       " 'aahing': 12.195943650051355,\n",
       " 'aahs': 12.706769273817345,\n",
       " 'aakaufman': 13.11223438192551,\n",
       " 'aalmost': 13.11223438192551,\n",
       " 'aaloo': 13.11223438192551,\n",
       " 'aamazon': 11.859471413430143,\n",
       " 'aamzon': 12.419087201365565,\n",
       " 'aana': 13.11223438192551,\n",
       " 'aand': 12.0136220932574,\n",
       " 'aanother': 13.11223438192551,\n",
       " 'aany': 12.706769273817345,\n",
       " 'aap': 12.706769273817345,\n",
       " 'aappublications': 13.11223438192551,\n",
       " 'aardvark': 13.11223438192551,\n",
       " 'aare': 12.706769273817345,\n",
       " 'aargh': 13.11223438192551,\n",
       " 'aaron': 13.11223438192551,\n",
       " 'aarp': 12.419087201365565,\n",
       " 'aarrgghhhh': 13.11223438192551,\n",
       " 'aarrgh': 13.11223438192551,\n",
       " 'aarthur': 13.11223438192551,\n",
       " 'aarti': 13.11223438192551,\n",
       " 'aas': 13.11223438192551,\n",
       " 'aasanfood': 13.11223438192551,\n",
       " 'aash': 13.11223438192551,\n",
       " 'aauces': 13.11223438192551,\n",
       " 'ab': 10.33964565968573,\n",
       " 'aback': 9.87355592976113,\n",
       " 'abalone': 12.706769273817345,\n",
       " 'abalones': 13.11223438192551,\n",
       " 'abamectin': 13.11223438192551,\n",
       " 'abandned': 13.11223438192551,\n",
       " 'abandoed': 13.11223438192551,\n",
       " 'abandon': 9.976740165996361,\n",
       " 'abandoned': 9.571275057888196,\n",
       " 'abandoning': 11.72594002080562,\n",
       " 'abandonment': 13.11223438192551,\n",
       " 'abandons': 13.11223438192551,\n",
       " 'abaolutely': 13.11223438192551,\n",
       " 'abash': 13.11223438192551,\n",
       " 'abated': 12.195943650051355,\n",
       " 'abates': 12.419087201365565,\n",
       " 'abattoir': 13.11223438192551,\n",
       " 'abb': 12.419087201365565,\n",
       " 'abba': 12.0136220932574,\n",
       " 'abbaye': 13.11223438192551,\n",
       " 'abbazabba': 13.11223438192551,\n",
       " 'abberline': 13.11223438192551,\n",
       " 'abbey': 10.809649288931464,\n",
       " 'abbie': 13.11223438192551,\n",
       " 'abbondanza': 13.11223438192551,\n",
       " 'abbot': 13.11223438192551,\n",
       " 'abbott': 11.166324232870197,\n",
       " 'abbreviated': 11.72594002080562,\n",
       " 'abbreviating': 13.11223438192551,\n",
       " 'abbreviation': 12.706769273817345,\n",
       " 'abby': 10.91500980458929,\n",
       " 'abbypomeroy': 13.11223438192551,\n",
       " 'abc': 9.976740165996361,\n",
       " 'abcessed': 13.11223438192551,\n",
       " 'abcs': 12.706769273817345,\n",
       " 'abcstores': 13.11223438192551,\n",
       " 'abd': 10.972168218429239,\n",
       " 'abdomen': 10.669887346556306,\n",
       " 'abdominal': 9.60068894309449,\n",
       " 'abduct': 13.11223438192551,\n",
       " 'abdul': 13.11223438192551,\n",
       " 'abdy': 13.11223438192551,\n",
       " 'abe': 12.0136220932574,\n",
       " 'abeja': 13.11223438192551,\n",
       " 'abejas': 13.11223438192551,\n",
       " 'abel': 12.706769273817345,\n",
       " 'abeneficial': 13.11223438192551,\n",
       " 'aber': 12.706769273817345,\n",
       " 'aberdeen': 12.419087201365565,\n",
       " 'aberfoyle': 13.11223438192551,\n",
       " 'abernook': 13.11223438192551,\n",
       " 'aberrant': 12.419087201365565,\n",
       " 'aberration': 11.72594002080562,\n",
       " 'aberrations': 13.11223438192551,\n",
       " 'abetter': 12.706769273817345,\n",
       " 'abfab': 13.11223438192551,\n",
       " 'abhor': 11.097331361383246,\n",
       " 'abhorant': 13.11223438192551,\n",
       " 'abhorrent': 12.195943650051355,\n",
       " 'abhors': 13.11223438192551,\n",
       " 'abi': 13.11223438192551,\n",
       " 'abid': 13.11223438192551,\n",
       " 'abide': 10.669887346556306,\n",
       " 'abiding': 12.419087201365565,\n",
       " 'abietate': 12.195943650051355,\n",
       " 'abigirl': 12.706769273817345,\n",
       " 'abiiity': 13.11223438192551,\n",
       " 'abililty': 13.11223438192551,\n",
       " 'abilites': 13.11223438192551,\n",
       " 'abilities': 10.221862624029345,\n",
       " 'ability': 7.530619541243516,\n",
       " 'abilling': 13.11223438192551,\n",
       " 'abit': 11.032792840245675,\n",
       " 'abita': 12.706769273817345,\n",
       " 'abj': 13.11223438192551,\n",
       " 'abject': 12.419087201365565,\n",
       " 'abjectly': 13.11223438192551,\n",
       " 'abk': 13.11223438192551,\n",
       " 'ablation': 13.11223438192551,\n",
       " 'ablaze': 12.195943650051355,\n",
       " 'able': 4.520490459244977,\n",
       " 'ables': 13.11223438192551,\n",
       " 'abletate': 13.11223438192551,\n",
       " 'ablity': 13.11223438192551,\n",
       " 'ablsolutely': 13.11223438192551,\n",
       " 'ablt': 13.11223438192551,\n",
       " 'ablution': 12.419087201365565,\n",
       " 'ably': 12.706769273817345,\n",
       " 'abmout': 13.11223438192551,\n",
       " 'abnd': 13.11223438192551,\n",
       " 'abnormal': 10.71433910912714,\n",
       " 'abnormalities': 11.097331361383246,\n",
       " 'abnormality': 13.11223438192551,\n",
       " 'abnormalitywith': 13.11223438192551,\n",
       " 'abnormally': 11.166324232870197,\n",
       " 'abnormalties': 13.11223438192551,\n",
       " 'abnoxious': 13.11223438192551,\n",
       " 'aboard': 11.240432205023918,\n",
       " 'abode': 11.72594002080562,\n",
       " 'abolition': 13.11223438192551,\n",
       " 'abolitionists': 13.11223438192551,\n",
       " 'abolultely': 13.11223438192551,\n",
       " 'abolute': 13.11223438192551,\n",
       " 'abolutely': 12.706769273817345,\n",
       " 'abolutley': 13.11223438192551,\n",
       " 'abominable': 12.195943650051355,\n",
       " 'abominably': 13.11223438192551,\n",
       " 'abominated': 13.11223438192551,\n",
       " 'abomination': 10.279021037869294,\n",
       " 'abominations': 11.608156985149236,\n",
       " 'abondant': 13.11223438192551,\n",
       " 'abondanza': 13.11223438192551,\n",
       " 'aboout': 11.859471413430143,\n",
       " 'abor': 13.11223438192551,\n",
       " 'aborbed': 13.11223438192551,\n",
       " 'aborio': 12.706769273817345,\n",
       " 'abortion': 13.11223438192551,\n",
       " 'abortions': 13.11223438192551,\n",
       " 'aboslutely': 12.195943650051355,\n",
       " 'abosolutely': 12.419087201365565,\n",
       " 'abosolutly': 13.11223438192551,\n",
       " 'abosoutely': 13.11223438192551,\n",
       " 'abosrb': 13.11223438192551,\n",
       " 'abosultely': 13.11223438192551,\n",
       " 'abosutely': 13.11223438192551,\n",
       " 'abot': 11.608156985149236,\n",
       " 'aboth': 13.11223438192551,\n",
       " 'abother': 13.11223438192551,\n",
       " 'abottle': 12.706769273817345,\n",
       " 'abotu': 12.419087201365565,\n",
       " 'abou': 11.72594002080562,\n",
       " 'abouit': 12.419087201365565,\n",
       " 'aboulutely': 13.11223438192551,\n",
       " 'abound': 10.809649288931464,\n",
       " 'abounding': 13.11223438192551,\n",
       " 'abounds': 11.608156985149236,\n",
       " 'abour': 11.859471413430143,\n",
       " 'about': 12.706769273817345,\n",
       " 'aboutfacts': 13.11223438192551,\n",
       " 'abouth': 13.11223438192551,\n",
       " 'abouts': 13.11223438192551,\n",
       " 'abouut': 13.11223438192551,\n",
       " 'abouy': 12.419087201365565,\n",
       " 'abouyt': 13.11223438192551,\n",
       " 'abovementioned': 12.706769273817345,\n",
       " 'aboveour': 13.11223438192551,\n",
       " 'abover': 13.11223438192551,\n",
       " 'aboviously': 13.11223438192551,\n",
       " 'abowt': 13.11223438192551,\n",
       " 'abp': 13.11223438192551,\n",
       " 'abpt': 13.11223438192551,\n",
       " 'abpve': 13.11223438192551,\n",
       " 'abq': 13.11223438192551,\n",
       " 'abra': 13.11223438192551,\n",
       " 'abraded': 12.706769273817345,\n",
       " 'abrading': 12.706769273817345,\n",
       " 'abraham': 12.419087201365565,\n",
       " 'abrasion': 12.195943650051355,\n",
       " 'abrasions': 12.0136220932574,\n",
       " 'abrasive': 11.240432205023918,\n",
       " 'abreast': 12.419087201365565,\n",
       " 'abreva': 12.706769273817345,\n",
       " 'abreviating': 13.11223438192551,\n",
       " 'abridged': 13.11223438192551,\n",
       " 'abrir': 13.11223438192551,\n",
       " 'abroad': 9.283592985436416,\n",
       " 'abroas': 13.11223438192551,\n",
       " 'abrooks': 13.11223438192551,\n",
       " 'abrotanum': 13.11223438192551,\n",
       " 'abrubt': 13.11223438192551,\n",
       " 'abrupt': 11.50279646949141,\n",
       " 'abruptly': 10.809649288931464,\n",
       " 'abruptness': 13.11223438192551,\n",
       " 'abruzzi': 13.11223438192551,\n",
       " 'abruzzo': 11.320474912697454,\n",
       " 'abs': 11.032792840245675,\n",
       " 'absalutely': 13.11223438192551,\n",
       " 'abscess': 12.419087201365565,\n",
       " 'abscond': 13.11223438192551,\n",
       " 'absconded': 12.195943650051355,\n",
       " 'absconding': 12.706769273817345,\n",
       " 'absence': 9.190261045644196,\n",
       " 'absensce': 13.11223438192551,\n",
       " 'absense': 12.195943650051355,\n",
       " 'absent': 9.423354927811573,\n",
       " 'absente': 12.419087201365565,\n",
       " 'absently': 12.419087201365565,\n",
       " 'absentminded': 13.11223438192551,\n",
       " 'absentmindedly': 12.419087201365565,\n",
       " 'absinthe': 10.62732773213751,\n",
       " 'absinthes': 13.11223438192551,\n",
       " 'absinthette': 13.11223438192551,\n",
       " 'absinthium': 12.706769273817345,\n",
       " 'abslutely': 13.11223438192551,\n",
       " 'abso': 12.706769273817345,\n",
       " 'absofrigginlutely': 13.11223438192551,\n",
       " 'absoletly': 13.11223438192551,\n",
       " 'absoloutely': 12.706769273817345,\n",
       " 'absoltely': 12.706769273817345,\n",
       " 'absoluely': 12.419087201365565,\n",
       " 'absoluetly': 13.11223438192551,\n",
       " 'absoluey': 13.11223438192551,\n",
       " 'absoluitely': 13.11223438192551,\n",
       " 'absoluley': 13.11223438192551,\n",
       " 'absolultey': 13.11223438192551,\n",
       " 'absolulty': 13.11223438192551,\n",
       " 'absolulutely': 13.11223438192551,\n",
       " 'absolustely': 13.11223438192551,\n",
       " 'absolut': 11.320474912697454,\n",
       " 'absolutaly': 13.11223438192551,\n",
       " 'absolutamente': 13.11223438192551,\n",
       " 'absolute': 6.611695744090344,\n",
       " 'absolutedly': 13.11223438192551,\n",
       " 'absoluteky': 13.11223438192551,\n",
       " 'absolutel': 12.706769273817345,\n",
       " 'absoluteley': 13.11223438192551,\n",
       " 'absolutelly': 12.706769273817345,\n",
       " 'absolutelt': 13.11223438192551,\n",
       " 'absolutelty': 12.706769273817345,\n",
       " 'absolutely': 4.616264826960899,\n",
       " 'absolutety': 13.11223438192551,\n",
       " 'absolutey': 11.859471413430143,\n",
       " 'absolutlely': 12.195943650051355,\n",
       " 'absolutley': 9.678247177440364,\n",
       " 'absolutly': 9.200211376497364,\n",
       " 'absoluttely': 13.11223438192551,\n",
       " 'absolutuley': 13.11223438192551,\n",
       " 'absolve': 12.706769273817345,\n",
       " 'absolved': 13.11223438192551,\n",
       " 'absolves': 13.11223438192551,\n",
       " 'absoprtion': 13.11223438192551,\n",
       " 'absorb': 7.68288875297107,\n",
       " 'absorbable': 11.50279646949141,\n",
       " 'absorbance': 13.11223438192551,\n",
       " 'absorbancy': 13.11223438192551,\n",
       " 'absorbant': 12.0136220932574,\n",
       " 'absorbe': 12.706769273817345,\n",
       " 'absorbed': 8.177760448794817,\n",
       " 'absorbency': 12.195943650051355,\n",
       " 'absorbent': 10.586505737617255,\n",
       " 'absorber': 11.608156985149236,\n",
       " 'absorbers': 12.419087201365565,\n",
       " 'absorbes': 12.706769273817345,\n",
       " 'absorbic': 12.706769273817345,\n",
       " 'absorbing': 9.374564763642143,\n",
       " 'absorbs': 8.43010315480129,\n",
       " 'absorbtion': 11.240432205023918,\n",
       " 'absorption': 9.141942468373388,\n",
       " 'absorptive': 12.706769273817345,\n",
       " 'absortion': 13.11223438192551,\n",
       " 'absoslutely': 13.11223438192551,\n",
       " 'absouloutely': 13.11223438192551,\n",
       " 'absoulte': 12.419087201365565,\n",
       " 'absoultely': 11.407486289687085,\n",
       " 'absoultey': 13.11223438192551,\n",
       " 'absoultly': 13.11223438192551,\n",
       " 'absoulutely': 11.407486289687085,\n",
       " 'absoulutly': 12.706769273817345,\n",
       " 'absouluty': 13.11223438192551,\n",
       " 'absoute': 12.419087201365565,\n",
       " 'absoutely': 11.608156985149236,\n",
       " 'absoutly': 12.419087201365565,\n",
       " 'abstain': 11.50279646949141,\n",
       " 'abstained': 12.419087201365565,\n",
       " 'abstaining': 12.0136220932574,\n",
       " 'abstemious': 13.11223438192551,\n",
       " 'abstinence': 12.0136220932574,\n",
       " 'abstract': 11.859471413430143,\n",
       " 'abstraction': 13.11223438192551,\n",
       " 'abstracts': 12.706769273817345,\n",
       " 'absulutely': 13.11223438192551,\n",
       " 'absurd': 9.141942468373388,\n",
       " 'absurdities': 13.11223438192551,\n",
       " 'absurdity': 12.419087201365565,\n",
       " 'absurdly': 10.438085732498982,\n",
       " 'absure': 13.11223438192551,\n",
       " 'absurt': 13.11223438192551,\n",
       " 'abswer': 13.11223438192551,\n",
       " 'abt': 10.4041841808233,\n",
       " 'abu': 13.11223438192551,\n",
       " 'abudance': 12.706769273817345,\n",
       " 'abuela': 12.706769273817345,\n",
       " 'abuelita': 11.032792840245675,\n",
       " 'abums': 13.11223438192551,\n",
       " 'abundance': 8.856621672107288,\n",
       " 'abundand': 13.11223438192551,\n",
       " 'abundant': 9.141942468373388,\n",
       " 'abundantly': 11.407486289687085,\n",
       " 'abundence': 13.11223438192551,\n",
       " 'abundent': 12.706769273817345,\n",
       " 'abundunce': 13.11223438192551,\n",
       " 'abus': 13.11223438192551,\n",
       " 'abuse': 9.662246836093923,\n",
       " 'abused': 10.116502108371519,\n",
       " 'abuses': 12.706769273817345,\n",
       " 'abusing': 11.407486289687085,\n",
       " 'abusive': 11.50279646949141,\n",
       " 'abusively': 13.11223438192551,\n",
       " 'abut': 11.032792840245675,\n",
       " 'abuts': 13.11223438192551,\n",
       " 'abutted': 13.11223438192551,\n",
       " 'abv': 10.4041841808233,\n",
       " 'abviously': 13.11223438192551,\n",
       " 'aby': 13.11223438192551,\n",
       " 'abys': 13.11223438192551,\n",
       " 'abysmal': 10.809649288931464,\n",
       " 'abysmally': 12.195943650051355,\n",
       " 'abyss': 13.11223438192551,\n",
       " 'abyssian': 13.11223438192551,\n",
       " 'abyssinian': 11.72594002080562,\n",
       " 'abyssinians': 12.706769273817345,\n",
       " 'ac': 10.16779540275907,\n",
       " 'aca': 12.706769273817345,\n",
       " 'acabar': 13.11223438192551,\n",
       " 'acabaron': 13.11223438192551,\n",
       " 'acacai': 13.11223438192551,\n",
       " 'acacia': 9.955233960775397,\n",
       " 'acadamy': 13.11223438192551,\n",
       " 'academia': 12.195943650051355,\n",
       " 'academic': 12.0136220932574,\n",
       " 'academy': 10.279021037869294,\n",
       " 'acadia': 13.11223438192551,\n",
       " 'acadian': 12.706769273817345,\n",
       " 'acai': 7.569011972281751,\n",
       " 'acaia': 12.706769273817345,\n",
       " 'acaiberry': 13.11223438192551,\n",
       " 'acais': 13.11223438192551,\n",
       " 'acallin': 13.11223438192551,\n",
       " 'acan': 13.11223438192551,\n",
       " 'acana': 9.934180551577565,\n",
       " 'acapulco': 13.11223438192551,\n",
       " 'accasion': 13.11223438192551,\n",
       " 'acccess': 13.11223438192551,\n",
       " 'acccompaniement': 13.11223438192551,\n",
       " 'accedient': 13.11223438192551,\n",
       " 'accel': 12.706769273817345,\n",
       " 'accelarade': 13.11223438192551,\n",
       " 'accelerade': 11.032792840245675,\n",
       " 'accelerant': 13.11223438192551,\n",
       " 'accelerate': 11.320474912697454,\n",
       " 'accelerated': 11.608156985149236,\n",
       " 'accelerates': 12.195943650051355,\n",
       " 'accelerating': 12.706769273817345,\n",
       " 'acceleration': 12.419087201365565,\n",
       " 'accelerator': 13.11223438192551,\n",
       " 'accent': 8.9150324342637,\n",
       " 'accented': 10.371394358000309,\n",
       " 'accenting': 12.0136220932574,\n",
       " 'accents': 9.89335855705731,\n",
       " 'accentuate': 10.809649288931464,\n",
       " 'accentuated': 11.859471413430143,\n",
       " 'accentuates': 11.097331361383246,\n",
       " 'accentuating': 12.419087201365565,\n",
       " 'accentuators': 12.706769273817345,\n",
       " 'accenuate': 13.11223438192551,\n",
       " 'accepeted': 13.11223438192551,\n",
       " 'accept': 7.834119722694993,\n",
       " 'acceptability': 12.0136220932574,\n",
       " 'acceptable': 7.208235860598804,\n",
       " 'acceptably': 11.50279646949141,\n",
       " 'acceptalble': 13.11223438192551,\n",
       " 'acceptale': 13.11223438192551,\n",
       " 'acceptance': 10.509544696481127,\n",
       " 'acceptation': 13.11223438192551,\n",
       " 'acceptd': 13.11223438192551,\n",
       " 'accepted': 8.629231829911626,\n",
       " 'acceptence': 13.11223438192551,\n",
       " 'acceptible': 12.706769273817345,\n",
       " 'accepting': 10.371394358000309,\n",
       " 'acception': 12.706769273817345,\n",
       " 'acceptional': 13.11223438192551,\n",
       " 'accepts': 10.19446364984123,\n",
       " 'acces': 12.195943650051355,\n",
       " 'accesesible': 13.11223438192551,\n",
       " 'accesible': 12.419087201365565,\n",
       " 'accesories': 13.11223438192551,\n",
       " 'accesory': 13.11223438192551,\n",
       " 'access': 7.543889878164413,\n",
       " 'accessable': 11.608156985149236,\n",
       " 'accessed': 11.72594002080562,\n",
       " 'accessibility': 11.407486289687085,\n",
       " 'accessible': 9.114033680256313,\n",
       " 'accessing': 12.419087201365565,\n",
       " 'accessories': 10.067711944202086,\n",
       " 'accessorize': 13.11223438192551,\n",
       " 'accessorized': 13.11223438192551,\n",
       " 'accessory': 10.250033500996041,\n",
       " 'accidcent': 13.11223438192551,\n",
       " 'accidenly': 13.11223438192551,\n",
       " 'accident': 7.779515588660141,\n",
       " 'accidental': 10.4041841808233,\n",
       " 'accidentaley': 13.11223438192551,\n",
       " 'accidentally': 7.818929557201018,\n",
       " 'accidentaly': 13.11223438192551,\n",
       " 'accidentely': 13.11223438192551,\n",
       " 'accidentley': 13.11223438192551,\n",
       " 'accidently': 9.54270168544414,\n",
       " 'accidents': 9.556886320436096,\n",
       " 'accient': 13.11223438192551,\n",
       " 'acciughe': 12.706769273817345,\n",
       " 'acclaim': 12.195943650051355,\n",
       " 'acclaimate': 13.11223438192551,\n",
       " 'acclaimed': 11.608156985149236,\n",
       " 'acclamate': 13.11223438192551,\n",
       " 'acclamated': 13.11223438192551,\n",
       " 'acclimate': 10.972168218429239,\n",
       " 'acclimated': 10.71433910912714,\n",
       " 'acclimates': 12.419087201365565,\n",
       " 'acclimating': 12.0136220932574,\n",
       " 'acclimation': 12.706769273817345,\n",
       " 'acclimatization': 13.11223438192551,\n",
       " 'acclimatize': 13.11223438192551,\n",
       " 'accoding': 13.11223438192551,\n",
       " 'accolade': 12.706769273817345,\n",
       " 'accolades': 11.032792840245675,\n",
       " 'accomadating': 13.11223438192551,\n",
       " 'accomdate': 13.11223438192551,\n",
       " 'accomidate': 12.706769273817345,\n",
       " 'accommodate': 9.678247177440364,\n",
       " 'accommodated': 11.50279646949141,\n",
       " 'accommodates': 12.195943650051355,\n",
       " 'accommodating': 10.33964565968573,\n",
       " 'accommodation': 12.195943650051355,\n",
       " 'accommodations': 12.706769273817345,\n",
       " 'accomodate': 10.547285024463974,\n",
       " 'accomodated': 12.419087201365565,\n",
       " 'accomodates': 12.706769273817345,\n",
       " 'accomodating': 12.419087201365565,\n",
       " 'accomodation': 13.11223438192551,\n",
       " 'accomodations': 13.11223438192551,\n",
       " 'accomondating': 13.11223438192551,\n",
       " 'accompained': 13.11223438192551,\n",
       " 'accompainment': 13.11223438192551,\n",
       " 'accompanied': 9.423354927811573,\n",
       " 'accompaniement': 12.0136220932574,\n",
       " 'accompanies': 9.934180551577565,\n",
       " 'accompaniment': 8.82864782006488,\n",
       " 'accompaniments': 10.71433910912714,\n",
       " 'accompany': 9.060449434122205,\n",
       " 'accompanying': 9.54270168544414,\n",
       " 'accompanyment': 12.419087201365565,\n",
       " 'accomplice': 13.11223438192551,\n",
       " 'accompliment': 13.11223438192551,\n",
       " 'accomplish': 9.283592985436416,\n",
       " 'accomplished': 9.461576140631772,\n",
       " 'accomplishes': 10.91500980458929,\n",
       " 'accomplishing': 11.608156985149236,\n",
       " 'accomplishment': 10.371394358000309,\n",
       " 'accomplishments': 12.419087201365565,\n",
       " 'accoording': 13.11223438192551,\n",
       " 'accord': 11.859471413430143,\n",
       " 'accordance': 10.760859124762032,\n",
       " 'accordian': 13.11223438192551,\n",
       " 'accordiingly': 13.11223438192551,\n",
       " 'according': 6.334587788290394,\n",
       " 'accordinging': 13.11223438192551,\n",
       " 'accordingly': 8.640595588561942,\n",
       " 'accordion': 13.11223438192551,\n",
       " 'accordng': 13.11223438192551,\n",
       " 'accords': 13.11223438192551,\n",
       " 'accoring': 12.706769273817345,\n",
       " 'accostomed': 12.419087201365565,\n",
       " 'accostumed': 13.11223438192551,\n",
       " 'account': 7.727739319136421,\n",
       " 'accountability': 12.419087201365565,\n",
       " 'accountable': 11.320474912697454,\n",
       " 'accountant': 12.195943650051355,\n",
       " 'accountants': 12.706769273817345,\n",
       " 'accounted': 11.407486289687085,\n",
       " 'accounting': 10.221862624029345,\n",
       " 'accounts': 9.230670583982073,\n",
       " 'accourding': 13.11223438192551,\n",
       " 'accoustomed': 13.11223438192551,\n",
       " 'accouterments': 13.11223438192551,\n",
       " 'accoutrament': 13.11223438192551,\n",
       " 'accoutrement': 12.195943650051355,\n",
       " 'accoutrements': 11.608156985149236,\n",
       " 'accpetable': 13.11223438192551,\n",
       " 'accredit': 12.706769273817345,\n",
       " 'accredited': 11.859471413430143,\n",
       " 'accross': 10.091809495781147,\n",
       " 'accrue': 12.706769273817345,\n",
       " 'acct': 11.859471413430143,\n",
       " 'acctually': 13.11223438192551,\n",
       " 'acctualy': 12.706769273817345,\n",
       " 'accturall': 13.11223438192551,\n",
       " 'accuainted': 13.11223438192551,\n",
       " 'accual': 13.11223438192551,\n",
       " 'accualy': 13.11223438192551,\n",
       " 'accuired': 13.11223438192551,\n",
       " 'accumilates': 13.11223438192551,\n",
       " 'accummilate': 13.11223438192551,\n",
       " 'accumstom': 13.11223438192551,\n",
       " 'accumulate': 10.62732773213751,\n",
       " 'accumulated': 10.473177052310252,\n",
       " 'accumulates': 11.50279646949141,\n",
       " 'accumulating': 11.50279646949141,\n",
       " 'accumulation': 11.097331361383246,\n",
       " 'accumulte': 13.11223438192551,\n",
       " 'accupuncturest': 13.11223438192551,\n",
       " 'accupuncturist': 12.419087201365565,\n",
       " 'accuracty': 13.11223438192551,\n",
       " 'accuracy': 10.044181446791892,\n",
       " 'accurate': 7.606902845993147,\n",
       " 'accurately': 9.086882691190361,\n",
       " 'accuratly': 13.11223438192551,\n",
       " 'accuring': 13.11223438192551,\n",
       " 'accusation': 12.706769273817345,\n",
       " 'accusations': 13.11223438192551,\n",
       " 'accusatory': 12.706769273817345,\n",
       " 'accuse': 11.407486289687085,\n",
       " 'accused': 10.308874001018975,\n",
       " 'accusing': 11.859471413430143,\n",
       " 'accusingly': 12.706769273817345,\n",
       " 'accustom': 10.809649288931464,\n",
       " 'accustomed': 7.779515588660141,\n",
       " 'accustomized': 13.11223438192551,\n",
       " 'accusttomed': 13.11223438192551,\n",
       " 'accustume': 13.11223438192551,\n",
       " 'accutane': 12.706769273817345,\n",
       " 'accutec': 13.11223438192551,\n",
       " 'accuweight': 13.11223438192551,\n",
       " 'acd': 12.0136220932574,\n",
       " 'acdeptable': 13.11223438192551,\n",
       " 'ace': 10.141819916355809,\n",
       " 'acedic': 13.11223438192551,\n",
       " 'acefulfame': 13.11223438192551,\n",
       " 'acehardwareoutlet': 12.419087201365565,\n",
       " 'aceita': 13.11223438192551,\n",
       " 'aceite': 11.859471413430143,\n",
       " 'acent': 13.11223438192551,\n",
       " 'aceoss': 13.11223438192551,\n",
       " 'acepromazine': 13.11223438192551,\n",
       " 'acer': 12.706769273817345,\n",
       " 'acerbic': 12.419087201365565,\n",
       " 'acerbity': 13.11223438192551,\n",
       " 'acerola': 9.283592985436416,\n",
       " 'acers': 13.11223438192551,\n",
       " 'aces': 12.0136220932574,\n",
       " 'acess': 12.195943650051355,\n",
       " 'acesufame': 13.11223438192551,\n",
       " 'acesuflamek': 13.11223438192551,\n",
       " 'acesulfame': 9.316745192753316,\n",
       " 'acesulfate': 13.11223438192551,\n",
       " 'acetaia': 12.0136220932574,\n",
       " 'acetaminophen': 12.0136220932574,\n",
       " 'acetate': 10.116502108371519,\n",
       " 'acetic': 10.33964565968573,\n",
       " 'acetly': 13.11223438192551,\n",
       " 'aceto': 11.608156985149236,\n",
       " 'acetone': 11.50279646949141,\n",
       " 'acetonitrile': 12.706769273817345,\n",
       " 'acetum': 13.11223438192551,\n",
       " 'acetyl': 11.859471413430143,\n",
       " 'acetylated': 12.419087201365565,\n",
       " 'acetylcholine': 13.11223438192551,\n",
       " 'acetyle': 13.11223438192551,\n",
       " 'ach': 12.195943650051355,\n",
       " 'achaar': 13.11223438192551,\n",
       " 'achai': 13.11223438192551,\n",
       " 'achallange': 13.11223438192551,\n",
       " 'achar': 12.706769273817345,\n",
       " 'achdut': 13.11223438192551,\n",
       " 'ache': 8.467843482784136,\n",
       " 'ached': 12.0136220932574,\n",
       " 'acheive': 11.72594002080562,\n",
       " 'acheived': 13.11223438192551,\n",
       " 'aches': 8.835568262909455,\n",
       " 'achey': 12.0136220932574,\n",
       " 'achieapalgo': 13.11223438192551,\n",
       " 'achievable': 12.419087201365565,\n",
       " 'achieve': 8.188610464818884,\n",
       " 'achieved': 9.374564763642143,\n",
       " 'achievement': 10.860942583319016,\n",
       " 'achievements': 13.11223438192551,\n",
       " 'achiever': 12.706769273817345,\n",
       " 'achieves': 11.032792840245675,\n",
       " 'achieving': 10.809649288931464,\n",
       " 'achievments': 13.11223438192551,\n",
       " 'achilles': 11.859471413430143,\n",
       " 'achin': 13.11223438192551,\n",
       " 'aching': 10.438085732498982,\n",
       " 'achingly': 11.859471413430143,\n",
       " 'achiote': 11.240432205023918,\n",
       " 'achip': 13.11223438192551,\n",
       " 'achips': 13.11223438192551,\n",
       " 'achiva': 12.419087201365565,\n",
       " 'achte': 13.11223438192551,\n",
       " 'achva': 11.859471413430143,\n",
       " 'achy': 10.809649288931464,\n",
       " 'acia': 12.195943650051355,\n",
       " 'acic': 12.419087201365565,\n",
       " 'acicification': 13.11223438192551,\n",
       " 'acid': 6.027588936146626,\n",
       " 'acide': 13.11223438192551,\n",
       " 'acides': 12.706769273817345,\n",
       " 'acidetic': 13.11223438192551,\n",
       " 'acidez': 12.706769273817345,\n",
       " 'acidic': 6.835590892583866,\n",
       " 'acidification': 13.11223438192551,\n",
       " 'acidified': 13.11223438192551,\n",
       " 'acidifies': 13.11223438192551,\n",
       " 'acidify': 12.0136220932574,\n",
       " 'acidifying': 13.11223438192551,\n",
       " 'acidilactici': 12.419087201365565,\n",
       " 'acidity': 7.418502243122811,\n",
       " 'acidly': 12.706769273817345,\n",
       " 'acido': 13.11223438192551,\n",
       " 'acidolphilus': 12.0136220932574,\n",
       " 'acidophilous': 13.11223438192551,\n",
       " 'acidophilus': 10.067711944202086,\n",
       " 'acidophuilus': 12.706769273817345,\n",
       " 'acidosis': 13.11223438192551,\n",
       " 'acids': 7.580823133210096,\n",
       " 'acidulant': 13.11223438192551,\n",
       " 'acidy': 10.250033500996041,\n",
       " 'acing': 13.11223438192551,\n",
       " 'acini': 11.859471413430143,\n",
       " 'aciphex': 12.706769273817345,\n",
       " 'acis': 13.11223438192551,\n",
       " 'acitic': 13.11223438192551,\n",
       " 'acitidity': 13.11223438192551,\n",
       " 'ack': 11.032792840245675,\n",
       " 'ackaged': 13.11223438192551,\n",
       " 'ackaging': 13.11223438192551,\n",
       " 'ackee': 11.320474912697454,\n",
       " 'ackees': 12.419087201365565,\n",
       " 'acker': 13.11223438192551,\n",
       " 'ackie': 13.11223438192551,\n",
       " 'ackkk': 13.11223438192551,\n",
       " 'acknowleded': 13.11223438192551,\n",
       " 'acknowledge': 9.91356126437483,\n",
       " 'acknowledged': 10.473177052310252,\n",
       " 'acknowledgement': 11.032792840245675,\n",
       " 'acknowledges': 12.0136220932574,\n",
       " 'acknowledging': 11.320474912697454,\n",
       " 'acknowledgment': 12.419087201365565,\n",
       " 'acknowlegement': 13.11223438192551,\n",
       " 'ackward': 12.706769273817345,\n",
       " 'acl': 11.320474912697454,\n",
       " 'acls': 12.706769273817345,\n",
       " 'aclu': 13.11223438192551,\n",
       " 'acme': 10.547285024463974,\n",
       " 'acne': 8.60137487540866,\n",
       " 'acneic': 13.11223438192551,\n",
       " 'acnes': 13.11223438192551,\n",
       " 'acnetic': 13.11223438192551,\n",
       " 'acommodate': 13.11223438192551,\n",
       " 'acomplished': 13.11223438192551,\n",
       " 'acontinue': 13.11223438192551,\n",
       " 'acorbic': 13.11223438192551,\n",
       " 'acording': 12.0136220932574,\n",
       " 'acordingly': 13.11223438192551,\n",
       " 'acorn': 11.608156985149236,\n",
       " 'acorns': 11.72594002080562,\n",
       " 'acorss': 13.11223438192551,\n",
       " 'acosta': 13.11223438192551,\n",
       " 'acostomed': 13.11223438192551,\n",
       " 'acould': 13.11223438192551,\n",
       " 'acount': 12.419087201365565,\n",
       " 'acouple': 13.11223438192551,\n",
       " 'acoustic': 12.195943650051355,\n",
       " 'acoustically': 12.706769273817345,\n",
       " 'acousticsheep': 13.11223438192551,\n",
       " 'acpuncturist': 13.11223438192551,\n",
       " 'acquaint': 12.706769273817345,\n",
       " 'acquaintance': 10.62732773213751,\n",
       " 'acquaintances': 10.972168218429239,\n",
       " 'acquainted': 10.16779540275907,\n",
       " 'acquaintences': 13.11223438192551,\n",
       " 'acquarium': 13.11223438192551,\n",
       " 'acquerello': 12.706769273817345,\n",
       " 'acquiesce': 13.11223438192551,\n",
       " 'acquiese': 13.11223438192551,\n",
       " 'acquinted': 13.11223438192551,\n",
       " 'acquirable': 13.11223438192551,\n",
       " 'acquire': 8.969099655533977,\n",
       " 'acquired': 7.440630805633544,\n",
       " 'acquires': 11.50279646949141,\n",
       " 'acquiring': 10.16779540275907,\n",
       " 'acquisition': 10.91500980458929,\n",
       " 'acquisitions': 13.11223438192551,\n",
       " 'acquista': 13.11223438192551,\n",
       " 'acquisti': 13.11223438192551,\n",
       " 'acquitted': 13.11223438192551,\n",
       " 'acre': 10.547285024463974,\n",
       " 'acreage': 12.419087201365565,\n",
       " 'acres': 9.87355592976113,\n",
       " 'acrid': 9.180408749201185,\n",
       " 'acrimonious': 13.11223438192551,\n",
       " 'acrobatics': 13.11223438192551,\n",
       " 'acromyn': 13.11223438192551,\n",
       " 'acronym': 12.419087201365565,\n",
       " 'acrospires': 13.11223438192551,\n",
       " 'across': 5.90400420869284,\n",
       " 'acruakky': 13.11223438192551,\n",
       " 'acrylate': 13.11223438192551,\n",
       " 'acrylic': 10.972168218429239,\n",
       " 'acs': 12.706769273817345,\n",
       " 'acspect': 13.11223438192551,\n",
       " 'acss': 13.11223438192551,\n",
       " 'acsulfame': 13.11223438192551,\n",
       " 'act': 7.786788347989221,\n",
       " 'actally': 11.72594002080562,\n",
       " 'actaually': 13.11223438192551,\n",
       " 'actaully': 11.72594002080562,\n",
       " 'acted': 9.556886320436096,\n",
       " 'actii': 12.419087201365565,\n",
       " 'acting': 8.629231829911626,\n",
       " 'actinic': 13.11223438192551,\n",
       " 'action': 8.128627760217174,\n",
       " 'actions': 10.308874001018975,\n",
       " 'activa': 12.706769273817345,\n",
       " 'activate': 9.89335855705731,\n",
       " 'activateand': 13.11223438192551,\n",
       " 'activated': 10.308874001018975,\n",
       " 'activates': 11.407486289687085,\n",
       " 'activating': 11.407486289687085,\n",
       " 'activation': 11.320474912697454,\n",
       " 'activations': 13.11223438192551,\n",
       " 'activator': 12.0136220932574,\n",
       " 'active': 6.943670222004726,\n",
       " 'actively': 9.556886320436096,\n",
       " 'activeness': 13.11223438192551,\n",
       " 'activeone': 13.11223438192551,\n",
       " 'activepdf': 13.11223438192551,\n",
       " 'activer': 13.11223438192551,\n",
       " 'actives': 12.195943650051355,\n",
       " 'activia': 11.097331361383246,\n",
       " 'activiities': 13.11223438192551,\n",
       " 'activin': 12.706769273817345,\n",
       " 'activism': 13.11223438192551,\n",
       " 'activist': 12.419087201365565,\n",
       " 'activists': 12.195943650051355,\n",
       " 'activites': 12.419087201365565,\n",
       " 'activities': 9.060449434122205,\n",
       " 'activity': 8.00628890802493,\n",
       " 'activitys': 13.11223438192551,\n",
       " 'activiy': 13.11223438192551,\n",
       " 'activwater': 13.11223438192551,\n",
       " 'actlly': 13.11223438192551,\n",
       " 'actor': 10.760859124762032,\n",
       " 'actors': 10.586505737617255,\n",
       " 'actress': 12.706769273817345,\n",
       " 'actresses': 13.11223438192551,\n",
       " 'acts': 8.328918010553945,\n",
       " 'actua': 13.11223438192551,\n",
       " 'actual': 6.04619412397766,\n",
       " 'actuality': 10.091809495781147,\n",
       " 'actuall': 12.706769273817345,\n",
       " 'actuallaity': 13.11223438192551,\n",
       " 'actuallly': 12.195943650051355,\n",
       " 'actually': 4.187378498857621,\n",
       " 'actualty': 13.11223438192551,\n",
       " 'actualy': 10.547285024463974,\n",
       " 'actualyl': 13.11223438192551,\n",
       " 'actuator': 12.706769273817345,\n",
       " 'actully': 11.407486289687085,\n",
       " 'acturally': 13.11223438192551,\n",
       " 'actvities': 13.11223438192551,\n",
       " 'acually': 11.72594002080562,\n",
       " 'acuity': 11.859471413430143,\n",
       " 'acumen': 12.706769273817345,\n",
       " 'acupressure': 13.11223438192551,\n",
       " 'acupuncture': 12.0136220932574,\n",
       " 'acupuncturist': 11.240432205023918,\n",
       " 'acura': 12.706769273817345,\n",
       " 'acuracy': 13.11223438192551,\n",
       " 'acurate': 12.706769273817345,\n",
       " 'acustom': 13.11223438192551,\n",
       " 'acustomed': 12.706769273817345,\n",
       " 'acusul': 13.11223438192551,\n",
       " 'acutal': 13.11223438192551,\n",
       " 'acutally': 10.972168218429239,\n",
       " 'acute': 10.250033500996041,\n",
       " 'acutely': 11.859471413430143,\n",
       " 'acutually': 12.419087201365565,\n",
       " 'acv': 9.998719072715136,\n",
       " 'acyually': 13.11223438192551,\n",
       " 'ad': 7.72316265210901,\n",
       " 'ada': 12.419087201365565,\n",
       " 'adabi': 13.11223438192551,\n",
       " 'adad': 13.11223438192551,\n",
       " 'adage': 10.809649288931464,\n",
       " 'adagio': 9.410932407813016,\n",
       " 'adam': 10.16779540275907,\n",
       " 'adama': 13.11223438192551,\n",
       " 'adamant': 11.097331361383246,\n",
       " 'adamantly': 11.859471413430143,\n",
       " 'adamba': 13.11223438192551,\n",
       " 'adament': 12.419087201365565,\n",
       " 'adamn': 13.11223438192551,\n",
       " 'adamo': 12.706769273817345,\n",
       " 'adamovich': 13.11223438192551,\n",
       " 'adams': 10.16779540275907,\n",
       " 'adamson': 13.11223438192551,\n",
       " 'adana': 13.11223438192551,\n",
       " 'adapt': 9.60068894309449,\n",
       " 'adapta': 13.11223438192551,\n",
       " 'adaptability': 12.195943650051355,\n",
       " 'adaptable': 10.760859124762032,\n",
       " 'adaptagen': 13.11223438192551,\n",
       " 'adaptation': 10.91500980458929,\n",
       " 'adaptations': 13.11223438192551,\n",
       " 'adapted': 9.615726820459031,\n",
       " 'adapter': 9.998719072715136,\n",
       " 'adapters': 11.50279646949141,\n",
       " 'adapting': 10.809649288931464,\n",
       " 'adaption': 13.11223438192551,\n",
       " 'adaptive': 13.11223438192551,\n",
       " 'adaptogen': 11.608156985149236,\n",
       " 'adaptogenic': 11.608156985149236,\n",
       " 'adaptogens': 12.706769273817345,\n",
       " 'adaptor': 11.320474912697454,\n",
       " 'adaptors': 12.419087201365565,\n",
       " 'adapts': 10.71433910912714,\n",
       " 'adavance': 13.11223438192551,\n",
       " 'aday': 12.0136220932574,\n",
       " 'add': 3.848779874299841,\n",
       " 'adda': 12.706769273817345,\n",
       " 'addage': 12.706769273817345,\n",
       " 'addams': 13.11223438192551,\n",
       " 'addative': 13.11223438192551,\n",
       " 'addatives': 12.706769273817345,\n",
       " 'addd': 12.706769273817345,\n",
       " 'addded': 11.859471413430143,\n",
       " 'adddition': 13.11223438192551,\n",
       " 'addditives': 13.11223438192551,\n",
       " 'adddres': 13.11223438192551,\n",
       " 'adde': 13.11223438192551,\n",
       " 'added': 4.4145546496610475,\n",
       " 'addeded': 13.11223438192551,\n",
       " 'addend': 13.11223438192551,\n",
       " 'addendum': 9.762330294650905,\n",
       " 'adder': 12.195943650051355,\n",
       " 'adderall': 12.419087201365565,\n",
       " 'adderral': 13.11223438192551,\n",
       " 'addes': 12.706769273817345,\n",
       " 'addicated': 13.11223438192551,\n",
       " 'addicative': 13.11223438192551,\n",
       " 'addicited': 13.11223438192551,\n",
       " 'addiciting': 12.706769273817345,\n",
       " 'addicitive': 12.706769273817345,\n",
       " 'addicitively': 13.11223438192551,\n",
       " 'addiciton': 12.706769273817345,\n",
       " 'addicitve': 13.11223438192551,\n",
       " 'addict': 7.582805294414087,\n",
       " 'addictable': 13.11223438192551,\n",
       " 'addicted': 6.205479603276957,\n",
       " 'addicting': 7.224742425200507,\n",
       " 'addictingly': 12.0136220932574,\n",
       " 'addiction': 7.580823133210096,\n",
       " 'addictions': 11.032792840245675,\n",
       " 'addictive': 6.401711272473082,\n",
       " 'addictively': 10.62732773213751,\n",
       " 'addictiveness': 12.706769273817345,\n",
       " 'addictives': 12.419087201365565,\n",
       " 'addicts': 9.160990663344084,\n",
       " 'addidentally': 13.11223438192551,\n",
       " 'addiing': 13.11223438192551,\n",
       " 'addiion': 13.11223438192551,\n",
       " 'addin': 13.11223438192551,\n",
       " 'adding': 5.2361653430020665,\n",
       " 'addingh': 13.11223438192551,\n",
       " 'addinglarge': 13.11223438192551,\n",
       " 'addings': 13.11223438192551,\n",
       " 'addins': 13.11223438192551,\n",
       " 'addison': 11.320474912697454,\n",
       " 'addisons': 13.11223438192551,\n",
       " 'additative': 13.11223438192551,\n",
       " 'additave': 13.11223438192551,\n",
       " 'additc': 13.11223438192551,\n",
       " 'additcted': 13.11223438192551,\n",
       " 'addited': 13.11223438192551,\n",
       " 'additiion': 12.706769273817345,\n",
       " 'additinal': 12.706769273817345,\n",
       " 'additinally': 13.11223438192551,\n",
       " 'addition': 5.510582203492882,\n",
       " 'additiona': 13.11223438192551,\n",
       " 'additional': 6.389003083292528,\n",
       " 'additionally': 7.806445000538773,\n",
       " 'additionaly': 13.11223438192551,\n",
       " 'additionnal': 13.11223438192551,\n",
       " 'additions': 8.268047295466918,\n",
       " 'additioonal': 13.11223438192551,\n",
       " 'addititional': 13.11223438192551,\n",
       " 'addititives': 12.706769273817345,\n",
       " 'additive': 7.878455536515045,\n",
       " 'additives': 6.63680166522142,\n",
       " 'additoion': 13.11223438192551,\n",
       " 'additon': 11.240432205023918,\n",
       " 'additonal': 12.0136220932574,\n",
       " 'additonally': 13.11223438192551,\n",
       " 'addittional': 13.11223438192551,\n",
       " 'addives': 13.11223438192551,\n",
       " 'addled': 13.11223438192551,\n",
       " 'addmit': 12.706769273817345,\n",
       " 'addmitingly': 13.11223438192551,\n",
       " 'addmixure': 13.11223438192551,\n",
       " 'addresed': 13.11223438192551,\n",
       " 'address': 7.725448367389865,\n",
       " 'addressed': 9.474648222199125,\n",
       " 'addresses': 9.934180551577565,\n",
       " 'addressing': 10.371394358000309,\n",
       " 'adds': 5.788403815723194,\n",
       " 'addt': 12.706769273817345,\n",
       " 'addticed': 13.11223438192551,\n",
       " 'addtion': 11.859471413430143,\n",
       " 'addtional': 12.0136220932574,\n",
       " 'addtions': 13.11223438192551,\n",
       " 'addtives': 13.11223438192551,\n",
       " 'addvertise': 13.11223438192551,\n",
       " 'addvertised': 13.11223438192551,\n",
       " 'addy': 12.195943650051355,\n",
       " 'ade': 10.250033500996041,\n",
       " ...}"
      ]
     },
     "execution_count": 38,
     "metadata": {},
     "output_type": "execute_result"
    }
   ],
   "source": [
    "tfidf = TfidfVectorizer()\n",
    "tfidf.fit(final_data[\"CleanedText\"])\n",
    "\n",
    "# we are converting a dictionary with word as a key, and the idf as a value\n",
    "dictionary = dict(zip(tfidf.get_feature_names(), list(tfidf.idf_)))\n",
    "dictionary"
   ]
  },
  {
   "cell_type": "code",
   "execution_count": 42,
   "metadata": {
    "ExecuteTime": {
     "end_time": "2020-10-10T15:18:45.199101Z",
     "start_time": "2020-10-10T15:18:20.069600Z"
    },
    "hidden": true
   },
   "outputs": [
    {
     "name": "stderr",
     "output_type": "stream",
     "text": [
      "  2%|█▏                                                                         | 5675/364171 [00:24<26:17, 227.20it/s]\n"
     ]
    },
    {
     "ename": "KeyboardInterrupt",
     "evalue": "",
     "output_type": "error",
     "traceback": [
      "\u001b[1;31m---------------------------------------------------------------------------\u001b[0m",
      "\u001b[1;31mKeyboardInterrupt\u001b[0m                         Traceback (most recent call last)",
      "\u001b[1;32m<ipython-input-42-dfdfbf200637>\u001b[0m in \u001b[0;36m<module>\u001b[1;34m\u001b[0m\n\u001b[0;32m      1\u001b[0m \u001b[0mfinal_vectors\u001b[0m \u001b[1;33m=\u001b[0m \u001b[1;33m[\u001b[0m\u001b[1;33m]\u001b[0m\u001b[1;33m\u001b[0m\u001b[1;33m\u001b[0m\u001b[0m\n\u001b[0;32m      2\u001b[0m \u001b[1;33m\u001b[0m\u001b[0m\n\u001b[1;32m----> 3\u001b[1;33m \u001b[1;32mfor\u001b[0m \u001b[0msentense\u001b[0m \u001b[1;32min\u001b[0m \u001b[0mtqdm\u001b[0m\u001b[1;33m(\u001b[0m\u001b[0mlist_of_sentenses\u001b[0m\u001b[1;33m)\u001b[0m\u001b[1;33m:\u001b[0m\u001b[1;33m\u001b[0m\u001b[1;33m\u001b[0m\u001b[0m\n\u001b[0m\u001b[0;32m      4\u001b[0m     \u001b[0mvector_sum\u001b[0m \u001b[1;33m=\u001b[0m \u001b[0mnp\u001b[0m\u001b[1;33m.\u001b[0m\u001b[0mzeros\u001b[0m\u001b[1;33m(\u001b[0m\u001b[1;36m50\u001b[0m\u001b[1;33m)\u001b[0m\u001b[1;33m\u001b[0m\u001b[1;33m\u001b[0m\u001b[0m\n\u001b[0;32m      5\u001b[0m     \u001b[0mtfidf_sum\u001b[0m \u001b[1;33m=\u001b[0m \u001b[1;36m0\u001b[0m\u001b[1;33m\u001b[0m\u001b[1;33m\u001b[0m\u001b[0m\n",
      "\u001b[1;32m~\\anaconda3\\lib\\site-packages\\tqdm\\std.py\u001b[0m in \u001b[0;36m__iter__\u001b[1;34m(self)\u001b[0m\n\u001b[0;32m   1146\u001b[0m \u001b[1;33m\u001b[0m\u001b[0m\n\u001b[0;32m   1147\u001b[0m                         \u001b[0mself\u001b[0m\u001b[1;33m.\u001b[0m\u001b[0mn\u001b[0m \u001b[1;33m=\u001b[0m \u001b[0mn\u001b[0m\u001b[1;33m\u001b[0m\u001b[1;33m\u001b[0m\u001b[0m\n\u001b[1;32m-> 1148\u001b[1;33m                         \u001b[0mself\u001b[0m\u001b[1;33m.\u001b[0m\u001b[0mrefresh\u001b[0m\u001b[1;33m(\u001b[0m\u001b[0mlock_args\u001b[0m\u001b[1;33m=\u001b[0m\u001b[0mself\u001b[0m\u001b[1;33m.\u001b[0m\u001b[0mlock_args\u001b[0m\u001b[1;33m)\u001b[0m\u001b[1;33m\u001b[0m\u001b[1;33m\u001b[0m\u001b[0m\n\u001b[0m\u001b[0;32m   1149\u001b[0m \u001b[1;33m\u001b[0m\u001b[0m\n\u001b[0;32m   1150\u001b[0m                         \u001b[1;31m# If no `miniters` was specified, adjust automatically\u001b[0m\u001b[1;33m\u001b[0m\u001b[1;33m\u001b[0m\u001b[1;33m\u001b[0m\u001b[0m\n",
      "\u001b[1;32m~\\anaconda3\\lib\\site-packages\\tqdm\\std.py\u001b[0m in \u001b[0;36mrefresh\u001b[1;34m(self, nolock, lock_args)\u001b[0m\n\u001b[0;32m   1336\u001b[0m             \u001b[1;32melse\u001b[0m\u001b[1;33m:\u001b[0m\u001b[1;33m\u001b[0m\u001b[1;33m\u001b[0m\u001b[0m\n\u001b[0;32m   1337\u001b[0m                 \u001b[0mself\u001b[0m\u001b[1;33m.\u001b[0m\u001b[0m_lock\u001b[0m\u001b[1;33m.\u001b[0m\u001b[0macquire\u001b[0m\u001b[1;33m(\u001b[0m\u001b[1;33m)\u001b[0m\u001b[1;33m\u001b[0m\u001b[1;33m\u001b[0m\u001b[0m\n\u001b[1;32m-> 1338\u001b[1;33m         \u001b[0mself\u001b[0m\u001b[1;33m.\u001b[0m\u001b[0mdisplay\u001b[0m\u001b[1;33m(\u001b[0m\u001b[1;33m)\u001b[0m\u001b[1;33m\u001b[0m\u001b[1;33m\u001b[0m\u001b[0m\n\u001b[0m\u001b[0;32m   1339\u001b[0m         \u001b[1;32mif\u001b[0m \u001b[1;32mnot\u001b[0m \u001b[0mnolock\u001b[0m\u001b[1;33m:\u001b[0m\u001b[1;33m\u001b[0m\u001b[1;33m\u001b[0m\u001b[0m\n\u001b[0;32m   1340\u001b[0m             \u001b[0mself\u001b[0m\u001b[1;33m.\u001b[0m\u001b[0m_lock\u001b[0m\u001b[1;33m.\u001b[0m\u001b[0mrelease\u001b[0m\u001b[1;33m(\u001b[0m\u001b[1;33m)\u001b[0m\u001b[1;33m\u001b[0m\u001b[1;33m\u001b[0m\u001b[0m\n",
      "\u001b[1;32m~\\anaconda3\\lib\\site-packages\\tqdm\\std.py\u001b[0m in \u001b[0;36mdisplay\u001b[1;34m(self, msg, pos)\u001b[0m\n\u001b[0;32m   1469\u001b[0m         \u001b[1;32mif\u001b[0m \u001b[0mpos\u001b[0m\u001b[1;33m:\u001b[0m\u001b[1;33m\u001b[0m\u001b[1;33m\u001b[0m\u001b[0m\n\u001b[0;32m   1470\u001b[0m             \u001b[0mself\u001b[0m\u001b[1;33m.\u001b[0m\u001b[0mmoveto\u001b[0m\u001b[1;33m(\u001b[0m\u001b[0mpos\u001b[0m\u001b[1;33m)\u001b[0m\u001b[1;33m\u001b[0m\u001b[1;33m\u001b[0m\u001b[0m\n\u001b[1;32m-> 1471\u001b[1;33m         \u001b[0mself\u001b[0m\u001b[1;33m.\u001b[0m\u001b[0msp\u001b[0m\u001b[1;33m(\u001b[0m\u001b[0mself\u001b[0m\u001b[1;33m.\u001b[0m\u001b[0m__repr__\u001b[0m\u001b[1;33m(\u001b[0m\u001b[1;33m)\u001b[0m \u001b[1;32mif\u001b[0m \u001b[0mmsg\u001b[0m \u001b[1;32mis\u001b[0m \u001b[1;32mNone\u001b[0m \u001b[1;32melse\u001b[0m \u001b[0mmsg\u001b[0m\u001b[1;33m)\u001b[0m\u001b[1;33m\u001b[0m\u001b[1;33m\u001b[0m\u001b[0m\n\u001b[0m\u001b[0;32m   1472\u001b[0m         \u001b[1;32mif\u001b[0m \u001b[0mpos\u001b[0m\u001b[1;33m:\u001b[0m\u001b[1;33m\u001b[0m\u001b[1;33m\u001b[0m\u001b[0m\n\u001b[0;32m   1473\u001b[0m             \u001b[0mself\u001b[0m\u001b[1;33m.\u001b[0m\u001b[0mmoveto\u001b[0m\u001b[1;33m(\u001b[0m\u001b[1;33m-\u001b[0m\u001b[0mpos\u001b[0m\u001b[1;33m)\u001b[0m\u001b[1;33m\u001b[0m\u001b[1;33m\u001b[0m\u001b[0m\n",
      "\u001b[1;32m~\\anaconda3\\lib\\site-packages\\tqdm\\std.py\u001b[0m in \u001b[0;36mprint_status\u001b[1;34m(s)\u001b[0m\n\u001b[0;32m    303\u001b[0m         \u001b[1;32mdef\u001b[0m \u001b[0mprint_status\u001b[0m\u001b[1;33m(\u001b[0m\u001b[0ms\u001b[0m\u001b[1;33m)\u001b[0m\u001b[1;33m:\u001b[0m\u001b[1;33m\u001b[0m\u001b[1;33m\u001b[0m\u001b[0m\n\u001b[0;32m    304\u001b[0m             \u001b[0mlen_s\u001b[0m \u001b[1;33m=\u001b[0m \u001b[0mlen\u001b[0m\u001b[1;33m(\u001b[0m\u001b[0ms\u001b[0m\u001b[1;33m)\u001b[0m\u001b[1;33m\u001b[0m\u001b[1;33m\u001b[0m\u001b[0m\n\u001b[1;32m--> 305\u001b[1;33m             \u001b[0mfp_write\u001b[0m\u001b[1;33m(\u001b[0m\u001b[1;34m'\\r'\u001b[0m \u001b[1;33m+\u001b[0m \u001b[0ms\u001b[0m \u001b[1;33m+\u001b[0m \u001b[1;33m(\u001b[0m\u001b[1;34m' '\u001b[0m \u001b[1;33m*\u001b[0m \u001b[0mmax\u001b[0m\u001b[1;33m(\u001b[0m\u001b[0mlast_len\u001b[0m\u001b[1;33m[\u001b[0m\u001b[1;36m0\u001b[0m\u001b[1;33m]\u001b[0m \u001b[1;33m-\u001b[0m \u001b[0mlen_s\u001b[0m\u001b[1;33m,\u001b[0m \u001b[1;36m0\u001b[0m\u001b[1;33m)\u001b[0m\u001b[1;33m)\u001b[0m\u001b[1;33m)\u001b[0m\u001b[1;33m\u001b[0m\u001b[1;33m\u001b[0m\u001b[0m\n\u001b[0m\u001b[0;32m    306\u001b[0m             \u001b[0mlast_len\u001b[0m\u001b[1;33m[\u001b[0m\u001b[1;36m0\u001b[0m\u001b[1;33m]\u001b[0m \u001b[1;33m=\u001b[0m \u001b[0mlen_s\u001b[0m\u001b[1;33m\u001b[0m\u001b[1;33m\u001b[0m\u001b[0m\n\u001b[0;32m    307\u001b[0m \u001b[1;33m\u001b[0m\u001b[0m\n",
      "\u001b[1;32m~\\anaconda3\\lib\\site-packages\\tqdm\\std.py\u001b[0m in \u001b[0;36mfp_write\u001b[1;34m(s)\u001b[0m\n\u001b[0;32m    296\u001b[0m \u001b[1;33m\u001b[0m\u001b[0m\n\u001b[0;32m    297\u001b[0m         \u001b[1;32mdef\u001b[0m \u001b[0mfp_write\u001b[0m\u001b[1;33m(\u001b[0m\u001b[0ms\u001b[0m\u001b[1;33m)\u001b[0m\u001b[1;33m:\u001b[0m\u001b[1;33m\u001b[0m\u001b[1;33m\u001b[0m\u001b[0m\n\u001b[1;32m--> 298\u001b[1;33m             \u001b[0mfp\u001b[0m\u001b[1;33m.\u001b[0m\u001b[0mwrite\u001b[0m\u001b[1;33m(\u001b[0m\u001b[0m_unicode\u001b[0m\u001b[1;33m(\u001b[0m\u001b[0ms\u001b[0m\u001b[1;33m)\u001b[0m\u001b[1;33m)\u001b[0m\u001b[1;33m\u001b[0m\u001b[1;33m\u001b[0m\u001b[0m\n\u001b[0m\u001b[0;32m    299\u001b[0m             \u001b[0mfp_flush\u001b[0m\u001b[1;33m(\u001b[0m\u001b[1;33m)\u001b[0m\u001b[1;33m\u001b[0m\u001b[1;33m\u001b[0m\u001b[0m\n\u001b[0;32m    300\u001b[0m \u001b[1;33m\u001b[0m\u001b[0m\n",
      "\u001b[1;32m~\\anaconda3\\lib\\site-packages\\ipykernel\\iostream.py\u001b[0m in \u001b[0;36mwrite\u001b[1;34m(self, string)\u001b[0m\n\u001b[0;32m    402\u001b[0m             \u001b[0mis_child\u001b[0m \u001b[1;33m=\u001b[0m \u001b[1;33m(\u001b[0m\u001b[1;32mnot\u001b[0m \u001b[0mself\u001b[0m\u001b[1;33m.\u001b[0m\u001b[0m_is_master_process\u001b[0m\u001b[1;33m(\u001b[0m\u001b[1;33m)\u001b[0m\u001b[1;33m)\u001b[0m\u001b[1;33m\u001b[0m\u001b[1;33m\u001b[0m\u001b[0m\n\u001b[0;32m    403\u001b[0m             \u001b[1;31m# only touch the buffer in the IO thread to avoid races\u001b[0m\u001b[1;33m\u001b[0m\u001b[1;33m\u001b[0m\u001b[1;33m\u001b[0m\u001b[0m\n\u001b[1;32m--> 404\u001b[1;33m             \u001b[0mself\u001b[0m\u001b[1;33m.\u001b[0m\u001b[0mpub_thread\u001b[0m\u001b[1;33m.\u001b[0m\u001b[0mschedule\u001b[0m\u001b[1;33m(\u001b[0m\u001b[1;32mlambda\u001b[0m \u001b[1;33m:\u001b[0m \u001b[0mself\u001b[0m\u001b[1;33m.\u001b[0m\u001b[0m_buffer\u001b[0m\u001b[1;33m.\u001b[0m\u001b[0mwrite\u001b[0m\u001b[1;33m(\u001b[0m\u001b[0mstring\u001b[0m\u001b[1;33m)\u001b[0m\u001b[1;33m)\u001b[0m\u001b[1;33m\u001b[0m\u001b[1;33m\u001b[0m\u001b[0m\n\u001b[0m\u001b[0;32m    405\u001b[0m             \u001b[1;32mif\u001b[0m \u001b[0mis_child\u001b[0m\u001b[1;33m:\u001b[0m\u001b[1;33m\u001b[0m\u001b[1;33m\u001b[0m\u001b[0m\n\u001b[0;32m    406\u001b[0m                 \u001b[1;31m# mp.Pool cannot be trusted to flush promptly (or ever),\u001b[0m\u001b[1;33m\u001b[0m\u001b[1;33m\u001b[0m\u001b[1;33m\u001b[0m\u001b[0m\n",
      "\u001b[1;32m~\\anaconda3\\lib\\site-packages\\ipykernel\\iostream.py\u001b[0m in \u001b[0;36mschedule\u001b[1;34m(self, f)\u001b[0m\n\u001b[0;32m    203\u001b[0m             \u001b[0mself\u001b[0m\u001b[1;33m.\u001b[0m\u001b[0m_events\u001b[0m\u001b[1;33m.\u001b[0m\u001b[0mappend\u001b[0m\u001b[1;33m(\u001b[0m\u001b[0mf\u001b[0m\u001b[1;33m)\u001b[0m\u001b[1;33m\u001b[0m\u001b[1;33m\u001b[0m\u001b[0m\n\u001b[0;32m    204\u001b[0m             \u001b[1;31m# wake event thread (message content is ignored)\u001b[0m\u001b[1;33m\u001b[0m\u001b[1;33m\u001b[0m\u001b[1;33m\u001b[0m\u001b[0m\n\u001b[1;32m--> 205\u001b[1;33m             \u001b[0mself\u001b[0m\u001b[1;33m.\u001b[0m\u001b[0m_event_pipe\u001b[0m\u001b[1;33m.\u001b[0m\u001b[0msend\u001b[0m\u001b[1;33m(\u001b[0m\u001b[1;34mb''\u001b[0m\u001b[1;33m)\u001b[0m\u001b[1;33m\u001b[0m\u001b[1;33m\u001b[0m\u001b[0m\n\u001b[0m\u001b[0;32m    206\u001b[0m         \u001b[1;32melse\u001b[0m\u001b[1;33m:\u001b[0m\u001b[1;33m\u001b[0m\u001b[1;33m\u001b[0m\u001b[0m\n\u001b[0;32m    207\u001b[0m             \u001b[0mf\u001b[0m\u001b[1;33m(\u001b[0m\u001b[1;33m)\u001b[0m\u001b[1;33m\u001b[0m\u001b[1;33m\u001b[0m\u001b[0m\n",
      "\u001b[1;32m~\\anaconda3\\lib\\site-packages\\zmq\\sugar\\socket.py\u001b[0m in \u001b[0;36msend\u001b[1;34m(self, data, flags, copy, track, routing_id, group)\u001b[0m\n\u001b[0;32m    398\u001b[0m                                  copy_threshold=self.copy_threshold)\n\u001b[0;32m    399\u001b[0m             \u001b[0mdata\u001b[0m\u001b[1;33m.\u001b[0m\u001b[0mgroup\u001b[0m \u001b[1;33m=\u001b[0m \u001b[0mgroup\u001b[0m\u001b[1;33m\u001b[0m\u001b[1;33m\u001b[0m\u001b[0m\n\u001b[1;32m--> 400\u001b[1;33m         \u001b[1;32mreturn\u001b[0m \u001b[0msuper\u001b[0m\u001b[1;33m(\u001b[0m\u001b[0mSocket\u001b[0m\u001b[1;33m,\u001b[0m \u001b[0mself\u001b[0m\u001b[1;33m)\u001b[0m\u001b[1;33m.\u001b[0m\u001b[0msend\u001b[0m\u001b[1;33m(\u001b[0m\u001b[0mdata\u001b[0m\u001b[1;33m,\u001b[0m \u001b[0mflags\u001b[0m\u001b[1;33m=\u001b[0m\u001b[0mflags\u001b[0m\u001b[1;33m,\u001b[0m \u001b[0mcopy\u001b[0m\u001b[1;33m=\u001b[0m\u001b[0mcopy\u001b[0m\u001b[1;33m,\u001b[0m \u001b[0mtrack\u001b[0m\u001b[1;33m=\u001b[0m\u001b[0mtrack\u001b[0m\u001b[1;33m)\u001b[0m\u001b[1;33m\u001b[0m\u001b[1;33m\u001b[0m\u001b[0m\n\u001b[0m\u001b[0;32m    401\u001b[0m \u001b[1;33m\u001b[0m\u001b[0m\n\u001b[0;32m    402\u001b[0m     \u001b[1;32mdef\u001b[0m \u001b[0msend_multipart\u001b[0m\u001b[1;33m(\u001b[0m\u001b[0mself\u001b[0m\u001b[1;33m,\u001b[0m \u001b[0mmsg_parts\u001b[0m\u001b[1;33m,\u001b[0m \u001b[0mflags\u001b[0m\u001b[1;33m=\u001b[0m\u001b[1;36m0\u001b[0m\u001b[1;33m,\u001b[0m \u001b[0mcopy\u001b[0m\u001b[1;33m=\u001b[0m\u001b[1;32mTrue\u001b[0m\u001b[1;33m,\u001b[0m \u001b[0mtrack\u001b[0m\u001b[1;33m=\u001b[0m\u001b[1;32mFalse\u001b[0m\u001b[1;33m,\u001b[0m \u001b[1;33m**\u001b[0m\u001b[0mkwargs\u001b[0m\u001b[1;33m)\u001b[0m\u001b[1;33m:\u001b[0m\u001b[1;33m\u001b[0m\u001b[1;33m\u001b[0m\u001b[0m\n",
      "\u001b[1;32mzmq/backend/cython/socket.pyx\u001b[0m in \u001b[0;36mzmq.backend.cython.socket.Socket.send\u001b[1;34m()\u001b[0m\n",
      "\u001b[1;32mzmq/backend/cython/socket.pyx\u001b[0m in \u001b[0;36mzmq.backend.cython.socket.Socket.send\u001b[1;34m()\u001b[0m\n",
      "\u001b[1;32mzmq/backend/cython/socket.pyx\u001b[0m in \u001b[0;36mzmq.backend.cython.socket._send_copy\u001b[1;34m()\u001b[0m\n",
      "\u001b[1;32m~\\anaconda3\\lib\\site-packages\\zmq\\backend\\cython\\checkrc.pxd\u001b[0m in \u001b[0;36mzmq.backend.cython.checkrc._check_rc\u001b[1;34m()\u001b[0m\n",
      "\u001b[1;31mKeyboardInterrupt\u001b[0m: "
     ]
    }
   ],
   "source": [
    "final_vectors = []\n",
    "\n",
    "for sentense in tqdm(list_of_sentenses):\n",
    "    vector_sum = np.zeros(50)\n",
    "    tfidf_sum = 0\n",
    "    for word in sentense:\n",
    "        if(word in vocabulary and word in dictionary):\n",
    "            tfidf = (sentense.count(word)/len(sentense)) * dictionary[word]\n",
    "            vector = w2v.wv[word]\n",
    "            vector_sum += tfidf * vector\n",
    "            tfidf_sum += tfidf\n",
    "    if(tfidf_sum != 0):\n",
    "        vector_sum /= tfidf_sum\n",
    "    final_vectors.append(vector_sum)"
   ]
  },
  {
   "cell_type": "code",
   "execution_count": null,
   "metadata": {
    "hidden": true
   },
   "outputs": [],
   "source": [
    "len(final_vectors)\n",
    "len(final_vectors[0])"
   ]
  },
  {
   "cell_type": "code",
   "execution_count": null,
   "metadata": {
    "hidden": true
   },
   "outputs": [],
   "source": []
  },
  {
   "cell_type": "code",
   "execution_count": null,
   "metadata": {},
   "outputs": [],
   "source": []
  }
 ],
 "metadata": {
  "kernelspec": {
   "display_name": "Python 3 (ipykernel)",
   "language": "python",
   "name": "python3"
  },
  "language_info": {
   "codemirror_mode": {
    "name": "ipython",
    "version": 3
   },
   "file_extension": ".py",
   "mimetype": "text/x-python",
   "name": "python",
   "nbconvert_exporter": "python",
   "pygments_lexer": "ipython3",
   "version": "3.9.7"
  },
  "toc": {
   "base_numbering": 1,
   "nav_menu": {},
   "number_sections": true,
   "sideBar": true,
   "skip_h1_title": false,
   "title_cell": "Table of Contents",
   "title_sidebar": "Contents",
   "toc_cell": false,
   "toc_position": {
    "height": "calc(100% - 180px)",
    "left": "10px",
    "top": "150px",
    "width": "165px"
   },
   "toc_section_display": true,
   "toc_window_display": false
  },
  "varInspector": {
   "cols": {
    "lenName": 16,
    "lenType": 16,
    "lenVar": 40
   },
   "kernels_config": {
    "python": {
     "delete_cmd_postfix": "",
     "delete_cmd_prefix": "del ",
     "library": "var_list.py",
     "varRefreshCmd": "print(var_dic_list())"
    },
    "r": {
     "delete_cmd_postfix": ") ",
     "delete_cmd_prefix": "rm(",
     "library": "var_list.r",
     "varRefreshCmd": "cat(var_dic_list()) "
    }
   },
   "position": {
    "height": "380.417px",
    "left": "744.485px",
    "right": "20px",
    "top": "28px",
    "width": "350px"
   },
   "types_to_exclude": [
    "module",
    "function",
    "builtin_function_or_method",
    "instance",
    "_Feature"
   ],
   "window_display": false
  }
 },
 "nbformat": 4,
 "nbformat_minor": 4
}
