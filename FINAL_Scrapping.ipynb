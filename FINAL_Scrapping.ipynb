{
 "cells": [
  {
   "cell_type": "markdown",
   "metadata": {
    "tags": []
   },
   "source": [
    "# Development"
   ]
  },
  {
   "cell_type": "code",
   "execution_count": 8,
   "metadata": {},
   "outputs": [
    {
     "data": {
      "text/plain": [
       "'Creative Industries'"
      ]
     },
     "execution_count": 8,
     "metadata": {},
     "output_type": "execute_result"
    }
   ],
   "source": [
    "url = 'https://www.conestogac.on.ca/fulltime/3d-computer-animation'\n",
    "driver = get_driver(url)"
   ]
  },
  {
   "cell_type": "code",
   "execution_count": 6,
   "metadata": {},
   "outputs": [],
   "source": [
    "df = pd.read_csv(\"dataset/all_program_names.csv\")"
   ]
  },
  {
   "cell_type": "code",
   "execution_count": 7,
   "metadata": {},
   "outputs": [],
   "source": [
    "count = 3"
   ]
  },
  {
   "cell_type": "code",
   "execution_count": 8,
   "metadata": {},
   "outputs": [],
   "source": [
    "availabilities = {}"
   ]
  },
  {
   "cell_type": "code",
   "execution_count": 25,
   "metadata": {},
   "outputs": [],
   "source": [
    "def loop(availabilities, count):\n",
    "    try:\n",
    "        url_list = df.ProgramLink\n",
    "        for url in url_list[count-3:]:\n",
    "            driver.get(url)\n",
    "            time.sleep(2)\n",
    "\n",
    "            print(count, \")\", url)\n",
    "            availability_temp = get_availability(driver)\n",
    "            if(availability_temp):\n",
    "                availabilities[url] = availability_temp\n",
    "                count += 1\n",
    "            else:\n",
    "                return [availabilities, count]\n",
    "    except:\n",
    "        print(\"----\")\n",
    "        return [availabilities, count]"
   ]
  },
  {
   "cell_type": "code",
   "execution_count": null,
   "metadata": {},
   "outputs": [
    {
     "name": "stdout",
     "output_type": "stream",
     "text": [
      "3 ) https://www.conestogac.on.ca/fulltime/3d-computer-animation\n",
      "4 ) https://www.conestogac.on.ca/fulltime/academic-upgrading\n",
      "5 ) https://www.conestogac.on.ca/fulltime/administrative-business-management\n",
      "6 ) https://www.conestogac.on.ca/fulltime/advanced-police-studies\n",
      "7 ) https://www.conestogac.on.ca/fulltime/advertising-and-marketing-communications\n",
      "8 ) https://www.conestogac.on.ca/fulltime/agricultural-equipment-operator\n",
      "9 ) https://www.conestogac.on.ca/fulltime/animation\n",
      "10 ) https://www.conestogac.on.ca/fulltime/applied-electrical-motion-and-control-management\n",
      "11 ) https://www.conestogac.on.ca/fulltime/applied-energy-management\n",
      "12 ) https://www.conestogac.on.ca/fulltime/applied-energy-management-renewable-energy-stream\n",
      "13 ) https://www.conestogac.on.ca/fulltime/applied-manufacturing-management-automation-stream-formerly-applied-manufacturing-management-mechatronics-stream\n",
      "14 ) https://www.conestogac.on.ca/fulltime/applied-manufacturing-management-design-integration-3d-printing-stream\n",
      "15 ) https://www.conestogac.on.ca/fulltime/applied-manufacturing-management-design-integration-stream\n",
      "16 ) https://www.conestogac.on.ca/fulltime/applied-manufacturing-management-machining-stream\n",
      "17 ) https://www.conestogac.on.ca/fulltime/applied-manufacturing-management-mechatronics-stream\n",
      "18 ) https://www.conestogac.on.ca/fulltime/applied-manufacturing-management-welding-stream\n",
      "19 ) https://www.conestogac.on.ca/fulltime/applied-manufacturing-management-welding-stream-2022-2023\n",
      "20 ) https://www.conestogac.on.ca/fulltime/applied-network-infrastructure-and-system-administration\n",
      "21 ) https://www.conestogac.on.ca/fulltime/applied-research\n",
      "22 ) https://www.conestogac.on.ca/fulltime/architecture-construction-engineering-technology\n",
      "23 ) https://www.conestogac.on.ca/fulltime/autism-and-behavioural-science\n",
      "24 ) https://www.conestogac.on.ca/fulltime/aviation-general-arts-and-science\n",
      "25 ) https://www.conestogac.on.ca/fulltime/aviation-general-arts-and-science-fast-track\n",
      "26 ) https://www.conestogac.on.ca/fulltime/bachelor-of-applied-health-information-science-honours\n",
      "27 ) https://www.conestogac.on.ca/fulltime/bachelor-of-applied-technology-honours-architecture-project-and-facility-management\n",
      "28 ) https://www.conestogac.on.ca/fulltime/bachelor-of-business-administration-honours-accounting-audit-and-information-technology\n",
      "----\n",
      "29 ) https://www.conestogac.on.ca/fulltime/bachelor-of-business-administration-honours-international-business-management\n"
     ]
    }
   ],
   "source": [
    "for i in range(246):\n",
    "    availabilities, count = loop(availabilities, count)"
   ]
  },
  {
   "cell_type": "code",
   "execution_count": null,
   "metadata": {},
   "outputs": [],
   "source": [
    "df_avaibility = pd.DataFrame(columns=[\"URL\", \"DOMESTIC\", \"INTERNATIONAL\"])"
   ]
  },
  {
   "cell_type": "code",
   "execution_count": null,
   "metadata": {},
   "outputs": [],
   "source": [
    "for url, availability in availabilities.items():\n",
    "    row = {\"URL\": url}\n",
    "    domestic = []\n",
    "    for intake, campus, status in zip(availability[\"domestic\"][\"intake\"], availability[\"domestic\"][\"campus\"], availability[\"domestic\"][\"status\"]):\n",
    "        domestic.append(\", \".join([intake, campus, status]))\n",
    "    row[\"DOMESTIC\"] = \" | \".join(domestic)\n",
    "\n",
    "    international = []\n",
    "    for intake, campus, status in zip(availability[\"international\"][\"intake\"], availability[\"international\"][\"campus\"], availability[\"international\"][\"status\"]):\n",
    "        international.append(\", \".join([intake, campus, status]))\n",
    "    row[\"INTERNATIONAL\"] = \" | \".join(international)\n",
    "\n",
    "    df_avaibility = df_avaibility.append(row, ignore_index=True)"
   ]
  },
  {
   "cell_type": "code",
   "execution_count": null,
   "metadata": {},
   "outputs": [],
   "source": [
    "df_avaibility"
   ]
  },
  {
   "cell_type": "code",
   "execution_count": null,
   "metadata": {},
   "outputs": [],
   "source": [
    "df_avaibility.to_csv(\"dataset/fasnshwe_careers.csv\", index=False)"
   ]
  },
  {
   "cell_type": "code",
   "execution_count": null,
   "metadata": {},
   "outputs": [],
   "source": [
    "!shutdown -s"
   ]
  },
  {
   "cell_type": "code",
   "execution_count": 19,
   "metadata": {},
   "outputs": [
    {
     "name": "stdout",
     "output_type": "stream",
     "text": [
      "Download progress: 9%   \r"
     ]
    }
   ],
   "source": [
    "for progress in range(10):\n",
    "    sys.stdout.write(\"Download progress: %d%%   \\r\" % (progress))\n",
    "    time.sleep(0.8)\n",
    "sys.stdout.flush()"
   ]
  },
  {
   "cell_type": "code",
   "execution_count": 24,
   "metadata": {},
   "outputs": [
    {
     "data": {
      "text/plain": [
       "{'domestic': {'intake': ['SEP 2022', 'SEP 2022'],\n",
       "  'campus': ['ONLINE', 'ONLINE'],\n",
       "  'status': ['Open', 'Open']},\n",
       " 'international': {'intake': [], 'campus': [], 'status': []}}"
      ]
     },
     "execution_count": 24,
     "metadata": {},
     "output_type": "execute_result"
    }
   ],
   "source": [
    "url = 'https://www.conestogac.on.ca/fulltime/autism-and-behavioural-science'\n",
    "driver.get(url)\n",
    "\n",
    "def get_availability(driver):\n",
    "    availability = {\"domestic\": {\"intake\": [], \"campus\": [], \"status\": []}, \"international\": {\"intake\": [], \"campus\": [], \"status\": []}}\n",
    "\n",
    "    button = find_element_n(driver, xpath_=\"//button[@class='btn bg-primary-dropdown text-uppercase']\")\n",
    "    if(button):\n",
    "        button.click()\n",
    "        time.sleep(1.5)\n",
    "    \n",
    "    div = find_element_n(driver, xpath_=\"//div[@class='px-0 dropdown-menu bg-primary-dropdown dropdown-menu-right mt-0 show']\")\n",
    "    children = None\n",
    "    if(div):\n",
    "        \n",
    "        children = find_elements_n(div, xpath_='./*')\n",
    "    \n",
    "    a_list = None\n",
    "    if(children):\n",
    "        \n",
    "        a_list = children[:-1]\n",
    "    \n",
    "    test = []\n",
    "    if(a_list):\n",
    "        for a in a_list:\n",
    "            div = find_element_n(a, xpath_=\"//div[@class='row mx-auto']\")\n",
    "            if(div):\n",
    "                div_list = find_elements_n(div, class_='row')\n",
    "                if(div_list):\n",
    "                    intake_campus = div_list[0].text.strip()\n",
    "                    intake = intake_campus.split(\"|\")[0].strip()\n",
    "                    campus = intake_campus.split(\"|\")[1].strip()\n",
    "                    status = div_list[1].text.strip()\n",
    "                    domestic_status = status.split(\"\\n\")[0].strip()\n",
    "                    international_status = None\n",
    "                    if(\"\\n\" in status):\n",
    "                        international_status = status.split(\"\\n\")[1].strip()\n",
    "                    \n",
    "                    availability[\"domestic\"][\"intake\"].append(intake)\n",
    "                    availability[\"domestic\"][\"campus\"].append(campus)\n",
    "                    availability[\"domestic\"][\"status\"].append(domestic_status)\n",
    "                    \n",
    "                    if(international_status):\n",
    "                        availability[\"international\"][\"intake\"].append(intake)\n",
    "                        availability[\"international\"][\"campus\"].append(campus)\n",
    "                        availability[\"international\"][\"status\"].append(international_status)\n",
    "\n",
    "    return availability\n",
    "\n",
    "get_availability(driver)"
   ]
  },
  {
   "cell_type": "markdown",
   "metadata": {
    "azdata_cell_guid": "93a8ce68-fe64-4ae8-a90e-821e12d31273"
   },
   "source": [
    "# import"
   ]
  },
  {
   "cell_type": "code",
   "execution_count": 1,
   "metadata": {
    "azdata_cell_guid": "8fcec7c5-1180-4b45-b427-fbc7e552b45c"
   },
   "outputs": [],
   "source": [
    "import sqlite3\n",
    "import sys\n",
    "from selenium import webdriver\n",
    "import time\n",
    "from os import path\n",
    "from tqdm import tqdm\n",
    "import os\n",
    "from selenium.webdriver.common.by import By\n",
    "from selenium.webdriver.chrome.service import Service\n",
    "import time\n",
    "from tqdm import tqdm\n",
    "import pandas as pd\n",
    "import numpy as np\n",
    "import string\n",
    "import random\n",
    "from bs4 import BeautifulSoup"
   ]
  },
  {
   "cell_type": "markdown",
   "metadata": {
    "azdata_cell_guid": "7810a693-ed26-45c5-b353-27155cdd11c5",
    "tags": []
   },
   "source": [
    "# Browser setup"
   ]
  },
  {
   "cell_type": "code",
   "execution_count": 2,
   "metadata": {
    "azdata_cell_guid": "d9e0c455-a67b-4f0c-878c-68445dfaef8d"
   },
   "outputs": [],
   "source": [
    "def chrome():\n",
    "    service = Service(\"../drivers/chromedriver\")\n",
    "    driver = webdriver.Chrome(service = service)\n",
    "    return driver\n",
    "def opera():\n",
    "    # need to change, srd\n",
    "    DRIVER_PATH = \"../drivers/operadriver\"\n",
    "    driver = webdriver.Opera(executable_path=DRIVER_PATH)\n",
    "    return driver\n",
    "def firefox():\n",
    "    # need to change, srd\n",
    "    DRIVER_PATH = \"../drivers/geckodriver\"\n",
    "    driver = webdriver.Firefox(executable_path=DRIVER_PATH)\n",
    "    return driver"
   ]
  },
  {
   "cell_type": "code",
   "execution_count": 3,
   "metadata": {
    "azdata_cell_guid": "2becb054-e861-4c8f-b40b-d8b1e8da56f0"
   },
   "outputs": [],
   "source": [
    "def get_driver(url):\n",
    "    driver = chrome()\n",
    "    # driver = opera()\n",
    "    # driver = firefox()\n",
    "\n",
    "    driver.get(url)\n",
    "    return driver"
   ]
  },
  {
   "cell_type": "markdown",
   "metadata": {
    "tags": []
   },
   "source": [
    "# Element Search"
   ]
  },
  {
   "cell_type": "code",
   "execution_count": 4,
   "metadata": {},
   "outputs": [],
   "source": [
    "def find_element_n(root, xpath_=None, tag_=None, id_=None, class_=None, exception=False):\n",
    "    tag = None\n",
    "    try:\n",
    "        if(xpath_):\n",
    "            tag = root.find_element(by=By.XPATH, value=xpath_)\n",
    "        elif(tag_):\n",
    "            tag = root.find_element(by=By.TAG_NAME, value=tag_)\n",
    "        elif(id_):\n",
    "            tag = root.find_element(by=By.ID, value=id_)\n",
    "        elif(class_):\n",
    "            tag = root.find_element(by=By.CLASS_NAME, value=class_)                \n",
    "        return tag\n",
    "    except:\n",
    "        pass\n",
    "    if(exception):\n",
    "        raise Exception(\"\\n\\n\\n>>> Element not found <<<\\n\\n\\n\")\n",
    "    else:\n",
    "        return False    \n",
    "\n",
    "def find_elements_n(root, xpath_=None, tag_=None, id_=None, class_=None, exception=False):\n",
    "    tags = None\n",
    "    try:\n",
    "        if(xpath_):\n",
    "            tags = root.find_elements(by=By.XPATH, value=xpath_)\n",
    "        elif(tag_):\n",
    "            tags = root.find_elements(by=By.TAG_NAME, value=tag_)\n",
    "        elif(id_):\n",
    "            tags = root.find_elements(by=By.ID, value=id_)\n",
    "        elif(class_):\n",
    "            tags = root.find_elements(by=By.CLASS_NAME, value=class_)                \n",
    "        return tags\n",
    "    except:\n",
    "        pass\n",
    "    if(exception):\n",
    "        raise Exception(\"\\n\\n\\n>>> Element not found <<<\\n\\n\\n\")\n",
    "    else:\n",
    "        return False\n",
    "\n",
    "def find_element(root, xpath_=None, tag_=None, id_=None, class_=None, init_wait = 0, wait = 1, limit=3.5, exception=False):\n",
    "    \"\"\"\n",
    "    {init_wait} : sleep for given time before element existence check\n",
    "    {wait} : sleep every time when through except except block\n",
    "    {exception} : whether to through error{True} or return False{False}\n",
    "    \"\"\"\n",
    "    time.sleep(init_wait)\n",
    "    while(limit > 0):\n",
    "        tag = None\n",
    "        try:\n",
    "            if(xpath_):\n",
    "                tag = root.find_element(by=By.XPATH, value=xpath_)\n",
    "            elif(tag_):\n",
    "                tag = root.find_element(by=By.TAG_NAME, value=tag_)\n",
    "            elif(id_):\n",
    "                tag = root.find_element(by=By.ID, value=id_)\n",
    "            elif(class_):\n",
    "                tag = root.find_element(by=By.CLASS_NAME, value=class_)                \n",
    "            return tag\n",
    "        except:\n",
    "            print(\"----\", limit, \"----\")\n",
    "            time.sleep(wait)\n",
    "            limit -= wait\n",
    "    if(exception):\n",
    "        raise Exception(\"\\n\\n\\n>>> Element not found <<<\\n\\n\\n\")\n",
    "    else:\n",
    "        return False\n",
    "\n",
    "def find_elements(root, xpath_=None, tag_=None, id_=None, class_=None, init_wait = 0, wait = 1, limit=3.5, exception=False):\n",
    "    \"\"\"\n",
    "    {init_wait} : sleep for given time before element existence check\n",
    "    {wait} : sleep every time when through except except block\n",
    "    {exception} : whether to through error{True} or return False{False}\n",
    "    \"\"\"\n",
    "    time.sleep(init_wait)\n",
    "    while(limit > 0):\n",
    "        tags = None\n",
    "        try:\n",
    "            if(xpath_):\n",
    "                tags = root.find_elements(by=By.XPATH, value=xpath_)\n",
    "            elif(tag_):\n",
    "                tags = root.find_elements(by=By.TAG_NAME, value=tag_)\n",
    "            elif(id_):\n",
    "                tags = root.find_elements(by=By.ID, value=id_)\n",
    "            elif(class_):\n",
    "                tags = root.find_elements(by=By.CLASS_NAME, value=class_)                \n",
    "            return tags\n",
    "        except:\n",
    "            print(\"----\", limit, \"----\")\n",
    "            time.sleep(wait)\n",
    "            limit -= wait\n",
    "    if(exception):\n",
    "        raise Exception(\"\\n\\n\\n>>> Element not found <<<\\n\\n\\n\")\n",
    "    else:\n",
    "        return False"
   ]
  },
  {
   "cell_type": "markdown",
   "metadata": {},
   "source": [
    "# All Program Search"
   ]
  },
  {
   "cell_type": "code",
   "execution_count": 5,
   "metadata": {},
   "outputs": [],
   "source": [
    "url = \"https://www.conestogac.on.ca/fulltime\"\n",
    "\n",
    "driver = get_driver(url)"
   ]
  },
  {
   "cell_type": "code",
   "execution_count": 10,
   "metadata": {},
   "outputs": [
    {
     "name": "stderr",
     "output_type": "stream",
     "text": [
      "100%|██████████| 245/245 [00:14<00:00, 16.62it/s]\n"
     ]
    }
   ],
   "source": [
    "def get_all_program_names_list(driver):\n",
    "    ul = find_element_n(driver, xpath_=\"//ul[@class='list-unstyled mt-md-5']\")\n",
    "    li_list = find_elements_n(ul, tag_='li')\n",
    "    \n",
    "    program_names = []\n",
    "    program_links = []\n",
    "    \n",
    "    for li in tqdm(li_list):\n",
    "        a = find_element(li, tag_='a')\n",
    "        link = a.get_attribute(\"href\").strip()        \n",
    "\n",
    "        span = find_element(a, tag_='span')\n",
    "        name = span.text.strip()\n",
    "        \n",
    "        program_names.append(name)\n",
    "        program_links.append(link)\n",
    "    \n",
    "    if(program_names or program_links or program_codes):\n",
    "        programs = {'ProgramName': program_names, 'ProgramLink': program_links}\n",
    "        return programs\n",
    "    else:\n",
    "        raise Exception(\"---ERROR IN FETCHING PROGRAM NAME---\")\n",
    "        return False\n",
    "\n",
    "programs = get_all_program_names_list(driver)"
   ]
  },
  {
   "cell_type": "code",
   "execution_count": 14,
   "metadata": {},
   "outputs": [],
   "source": [
    "df = pd.DataFrame(programs)"
   ]
  },
  {
   "cell_type": "code",
   "execution_count": 15,
   "metadata": {},
   "outputs": [],
   "source": [
    "df.to_csv('dataset/all_program_names.csv')"
   ]
  },
  {
   "cell_type": "markdown",
   "metadata": {
    "azdata_cell_guid": "baccd27b-54e8-479b-8a31-16a20a650ac1",
    "tags": []
   },
   "source": [
    "# Functions"
   ]
  },
  {
   "cell_type": "markdown",
   "metadata": {
    "azdata_cell_guid": "a8d9a0e3-417f-4628-9c1e-d8007b0e365c",
    "tags": []
   },
   "source": [
    "## Program Name"
   ]
  },
  {
   "cell_type": "code",
   "execution_count": 23,
   "metadata": {
    "azdata_cell_guid": "8699e1de-6445-4a03-b39b-8c76954d5c07"
   },
   "outputs": [
    {
     "data": {
      "text/plain": [
       "'3D Computer Animation'"
      ]
     },
     "execution_count": 23,
     "metadata": {},
     "output_type": "execute_result"
    }
   ],
   "source": [
    "def get_program_name(driver):\n",
    "    div = find_element_n(driver, xpath_=\"//div[@class='col-12 text-white text-shadow']\")\n",
    "    h1 = find_element_n(div, tag_='h1')\n",
    "    \n",
    "    name = \"\"\n",
    "    if(h1):\n",
    "        name = h1.text.strip()\n",
    "    return name\n",
    "get_program_name(driver)"
   ]
  },
  {
   "cell_type": "markdown",
   "metadata": {
    "azdata_cell_guid": "d26a68a7-e2f5-48ee-a373-cdf7e5ad6585"
   },
   "source": [
    "## overview"
   ]
  },
  {
   "cell_type": "code",
   "execution_count": 26,
   "metadata": {
    "azdata_cell_guid": "861beb72-ae85-4664-a52f-a70e733d2a85"
   },
   "outputs": [
    {
     "data": {
      "text/plain": [
       "'Computer animation has evolved to become a major component in the field of animation production and contributes towards shaping content for film, television, games and online applications. As such, students must be actively engaged in all aspects of the production process and understand the requirements associated with the production pipeline. Traditional design, drawing and storytelling skills are enhanced via the latest computer (software/hardware), combined with 3D animation skills and the creation of characters and customized environments contribute towards the creation of unique content that graduates will utilize in their e-portfolio of project work.'"
      ]
     },
     "execution_count": 26,
     "metadata": {},
     "output_type": "execute_result"
    }
   ],
   "source": [
    "def get_overview(driver):\n",
    "    div = find_element_n(driver, xpath_=\"//div[@class='pr-lg-3']\")\n",
    "    children = find_elements_n(div, xpath_='./*')\n",
    "    \n",
    "    p = None\n",
    "    for tag in children:\n",
    "        if(tag.tag_name == \"p\"):\n",
    "            p = tag\n",
    "            break\n",
    "    \n",
    "    overview = \"\"\n",
    "    if(p):\n",
    "        overview = p.text.strip()\n",
    "    return overview\n",
    "\n",
    "get_overview(driver)"
   ]
  },
  {
   "cell_type": "markdown",
   "metadata": {
    "azdata_cell_guid": "ad9f38e6-6631-4c4f-b1a0-5f15e6937c3f"
   },
   "source": [
    "## category"
   ]
  },
  {
   "cell_type": "code",
   "execution_count": 7,
   "metadata": {
    "azdata_cell_guid": "6ea20dd8-dc0c-4ffe-b13b-ee7fd2e0d09c"
   },
   "outputs": [
    {
     "data": {
      "text/plain": [
       "'Creative Industries'"
      ]
     },
     "execution_count": 7,
     "metadata": {},
     "output_type": "execute_result"
    }
   ],
   "source": [
    "def get_category(driver):\n",
    "    div = find_element_n(driver, xpath_=\"//div[@class='my-5 border pl-3 pr-3']\")\n",
    "    children = find_elements_n(div, xpath_='./*')\n",
    "\n",
    "    p = None\n",
    "    for tag in children:\n",
    "        if(tag.tag_name == \"p\"):\n",
    "            p = tag\n",
    "            break\n",
    "    \n",
    "    category = \"\"\n",
    "    if(p):\n",
    "        a = find_element_n(p, tag_='a')\n",
    "        if(a):\n",
    "            category = a.text.strip()\n",
    "    return category\n",
    "\n",
    "get_category(driver)"
   ]
  },
  {
   "cell_type": "markdown",
   "metadata": {
    "azdata_cell_guid": "b166ba01-a601-4078-b178-53d2af12cf7c",
    "tags": []
   },
   "source": [
    "## code"
   ]
  },
  {
   "cell_type": "code",
   "execution_count": 45,
   "metadata": {
    "azdata_cell_guid": "731b4c99-7e62-4d96-9db7-03c9a576aecf",
    "tags": []
   },
   "outputs": [
    {
     "data": {
      "text/plain": [
       "'1391'"
      ]
     },
     "execution_count": 45,
     "metadata": {},
     "output_type": "execute_result"
    }
   ],
   "source": [
    "def get_code(driver):\n",
    "    div_main = find_element_n(driver, xpath_=\"//div[@class='container mt-5 datasection bg-white']\")\n",
    "    div = find_element_n(div_main, tag_='div')\n",
    "    sub_div = find_element_n(div, class_='col-lg-5')\n",
    "    sub_div_1 = find_element_n(sub_div, tag_='div')\n",
    "    sub_div_2 = find_element_n(sub_div_1, class_='row')\n",
    "    div_list = find_elements_n(sub_div_2, tag_='div')\n",
    "        \n",
    "    code = \"\"\n",
    "    div_credential = div_list[0]\n",
    "    if(div_credential):\n",
    "        strong = find_element_n(div_credential, tag_='strong')\n",
    "        if(strong):\n",
    "            strong_len = len(strong.text)\n",
    "            code = div_credential.text[strong_len:].strip()\n",
    "    return code\n",
    "get_code(driver)"
   ]
  },
  {
   "cell_type": "markdown",
   "metadata": {
    "azdata_cell_guid": "a8984184-74ca-444c-845a-92020884ee5f"
   },
   "source": [
    "## availability (srd working)"
   ]
  },
  {
   "cell_type": "code",
   "execution_count": 43,
   "metadata": {
    "azdata_cell_guid": "80f6064b-2f57-4d2c-ae1b-0d97f0ac622d"
   },
   "outputs": [
    {
     "name": "stdout",
     "output_type": "stream",
     "text": [
      "<selenium.webdriver.remote.webelement.WebElement (session=\"58af2cd73cc3bc55f9a10472352d7473\", element=\"6b6e3bd8-d35f-4140-816b-c68c4379a33a\")>\n"
     ]
    },
    {
     "data": {
      "text/plain": [
       "{'domestic': {'intake': ['SEP 2022', 'SEP 2022'],\n",
       "  'campus': ['KITCHENER – DOON', 'KITCHENER – DOON'],\n",
       "  'status': ['Open', 'Open']},\n",
       " 'international': {'intake': ['SEP 2022', 'SEP 2022'],\n",
       "  'campus': ['KITCHENER – DOON', 'KITCHENER – DOON'],\n",
       "  'status': ['Closed', 'Closed']}}"
      ]
     },
     "execution_count": 43,
     "metadata": {},
     "output_type": "execute_result"
    }
   ],
   "source": [
    "def get_availability(driver):\n",
    "    availability = {\"domestic\": {\"intake\": [], \"campus\": [], \"status\": []}, \"international\": {\"intake\": [], \"campus\": [], \"status\": []}}\n",
    "\n",
    "    button = find_element_n(driver, xpath_=\"//button[@class='btn bg-primary-dropdown text-uppercase']\")\n",
    "    if(button):\n",
    "        button.click()\n",
    "        time.sleep(1.5)\n",
    "    \n",
    "    div = find_element_n(driver, xpath_=\"//div[@class='px-0 dropdown-menu bg-primary-dropdown dropdown-menu-right mt-0 show']\")\n",
    "    print(div)\n",
    "    children = None\n",
    "    if(div):\n",
    "        \n",
    "        children = find_elements_n(div, xpath_='./*')\n",
    "    \n",
    "    a_list = None\n",
    "    if(children):\n",
    "        \n",
    "        a_list = children[:-1]\n",
    "    \n",
    "    test = []\n",
    "    if(a_list):\n",
    "        for a in a_list:\n",
    "            div = find_element_n(a, xpath_=\"//div[@class='row mx-auto']\")\n",
    "            if(div):\n",
    "                div_list = find_elements_n(div, class_='row')\n",
    "                if(div_list):\n",
    "                    intake_campus = div_list[0].text.strip()\n",
    "                    intake = intake_campus.split(\"|\")[0].strip()\n",
    "                    campus = intake_campus.split(\"|\")[1].strip()\n",
    "                    status = div_list[1].text.strip()\n",
    "                    domestic_status = status.split(\"\\n\")[0].strip()\n",
    "                    international_status = status.split(\"\\n\")[1].strip()\n",
    "                    \n",
    "                    availability[\"domestic\"][\"intake\"].append(intake)\n",
    "                    availability[\"domestic\"][\"campus\"].append(campus)\n",
    "                    availability[\"domestic\"][\"status\"].append(domestic_status)\n",
    "\n",
    "                    availability[\"international\"][\"intake\"].append(intake)\n",
    "                    availability[\"international\"][\"campus\"].append(campus)\n",
    "                    availability[\"international\"][\"status\"].append(international_status)\n",
    "\n",
    "    return availability\n",
    "\n",
    "get_availability(driver)"
   ]
  },
  {
   "cell_type": "markdown",
   "metadata": {
    "tags": []
   },
   "source": [
    "## credential"
   ]
  },
  {
   "cell_type": "code",
   "execution_count": 44,
   "metadata": {},
   "outputs": [
    {
     "data": {
      "text/plain": [
       "'Ontario College Graduate Certificate'"
      ]
     },
     "execution_count": 44,
     "metadata": {},
     "output_type": "execute_result"
    }
   ],
   "source": [
    "def get_credential(driver):\n",
    "    div_main = find_element_n(driver, xpath_=\"//div[@class='container mt-5 datasection bg-white']\")\n",
    "    div = find_element_n(div_main, tag_='div')\n",
    "    sub_div = find_element_n(div, class_='col-lg-5')\n",
    "    sub_div_1 = find_element_n(sub_div, tag_='div')\n",
    "    sub_div_2 = find_element_n(sub_div_1, class_='row')\n",
    "    div_list = find_elements_n(sub_div_2, tag_='div')\n",
    "        \n",
    "    credential = \"\"\n",
    "    div_credential = div_list[5]\n",
    "    if(div_credential):\n",
    "        strong = find_element_n(div_credential, tag_='strong')\n",
    "        if(strong):\n",
    "            strong_len = len(strong.text)\n",
    "            credential = div_credential.text[strong_len:].strip()\n",
    "\n",
    "    return credential\n",
    "\n",
    "get_credential(driver)"
   ]
  },
  {
   "cell_type": "markdown",
   "metadata": {},
   "source": [
    "## Program Coordinator"
   ]
  },
  {
   "cell_type": "code",
   "execution_count": 46,
   "metadata": {},
   "outputs": [
    {
     "data": {
      "text/plain": [
       "'David Shepstone'"
      ]
     },
     "execution_count": 46,
     "metadata": {},
     "output_type": "execute_result"
    }
   ],
   "source": [
    "def get_coordinator(driver):\n",
    "\n",
    "    div = find_element_n(driver, xpath_=\"//div[@class='my-5 border pl-3 pr-3']\")\n",
    "    children = find_elements_n(div, xpath_='./*')\n",
    "\n",
    "    ul = None\n",
    "    for tag in children:\n",
    "        if(tag.tag_name == \"ul\"):\n",
    "            ul = tag\n",
    "            break\n",
    "    \n",
    "    li = None\n",
    "    if(ul):\n",
    "        li = find_element_n(ul, tag_='li')\n",
    "    \n",
    "    span = None\n",
    "    if(li):\n",
    "        span = find_element_n(li, tag_='span')\n",
    "    \n",
    "    coordinator = \"\"\n",
    "    if(span):\n",
    "        coordinator = span.text.strip()\n",
    "\n",
    "    return coordinator\n",
    "\n",
    "get_coordinator(driver)"
   ]
  },
  {
   "cell_type": "markdown",
   "metadata": {
    "tags": []
   },
   "source": [
    "## delivery"
   ]
  },
  {
   "cell_type": "code",
   "execution_count": 53,
   "metadata": {},
   "outputs": [
    {
     "data": {
      "text/plain": [
       "'Full-time'"
      ]
     },
     "execution_count": 53,
     "metadata": {},
     "output_type": "execute_result"
    }
   ],
   "source": [
    "def get_delivery(driver):\n",
    "    div_main = find_element_n(driver, xpath_=\"//div[@class='container mt-5 datasection bg-white']\")\n",
    "    div = find_element_n(div_main, tag_='div')\n",
    "    sub_div = find_element_n(div, class_='col-lg-5')\n",
    "    sub_div_1 = find_element_n(sub_div, tag_='div')\n",
    "    sub_div_2 = find_element_n(sub_div_1, class_='row')\n",
    "    div_list = find_elements_n(sub_div_2, tag_='div')\n",
    "        \n",
    "    delivery = \"\"\n",
    "\n",
    "    div_delivery = div_list[1]\n",
    "    if(div_delivery):\n",
    "        strong = find_element_n(div_delivery, tag_='strong')\n",
    "        if(strong):\n",
    "            strong_len = len(strong.text)\n",
    "            delivery = div_delivery.text[strong_len:].strip()\n",
    "\n",
    "    return delivery\n",
    "\n",
    "get_delivery(driver)"
   ]
  },
  {
   "cell_type": "markdown",
   "metadata": {},
   "source": [
    "## Tution Fees (srd working)"
   ]
  },
  {
   "cell_type": "code",
   "execution_count": 14,
   "metadata": {},
   "outputs": [
    {
     "data": {
      "text/plain": [
       "{'domestic_fees': '$4,856', 'international_fees': '$15,840'}"
      ]
     },
     "execution_count": 14,
     "metadata": {},
     "output_type": "execute_result"
    }
   ],
   "source": [
    "def get_tution_fees(driver):\n",
    "    fees = {\"domestic_fees\": \"\", \"international_fees\": \"\"}\n",
    "    \n",
    "    div = find_element_n(driver, class_='fees-block', exception=False)\n",
    "    div_domestic = find_element_n(div, class_='canadian-cost-block', exception=False)\n",
    "    div_international = find_element_n(div, class_='international-cost-block', exception=False)\n",
    "    \n",
    "    span_domestic = find_element_n(div_domestic, class_='fees-cost-dollar', exception=False)\n",
    "    span_international = find_element_n(div_international, class_='fees-cost-dollar', exception=False)\n",
    "    \n",
    "    if(span_domestic):\n",
    "        fees[\"domestic_fees\"] = span_domestic.text.strip()\n",
    "    if(span_international):\n",
    "        fees[\"international_fees\"] = span_international.text.strip()\n",
    "\n",
    "    return fees\n",
    "    \n",
    "get_tution_fees(driver)"
   ]
  },
  {
   "cell_type": "markdown",
   "metadata": {},
   "source": [
    "## Related Programs (srd working)"
   ]
  },
  {
   "cell_type": "code",
   "execution_count": 16,
   "metadata": {},
   "outputs": [
    {
     "data": {
      "text/plain": [
       "{'Public Relations - Corporate Communications': 'https://www.fanshawec.ca/programs/cor3-public-relations-corporate-communications',\n",
       " 'Marketing Management': 'https://www.fanshawec.ca/programs/mkm1-marketing-management',\n",
       " 'Advanced Communication for Professionals': 'https://www.fanshawec.ca/programs/adc1-advanced-communication-professionals'}"
      ]
     },
     "execution_count": 16,
     "metadata": {},
     "output_type": "execute_result"
    }
   ],
   "source": [
    "def get_related_programs(driver):\n",
    "    related_programs = {}\n",
    "    main_div = find_element_n(driver, class_='field--name-field-related-programs', exception=False)\n",
    "    div = find_element_n(main_div, class_='field__items', exception=False)\n",
    "    \n",
    "    if(div):\n",
    "        sub_divs = find_elements_n(div, class_='field__item')\n",
    "        if(sub_divs):\n",
    "            for sub_div in sub_divs:\n",
    "                a = sub_div.find_element(By.TAG_NAME, 'a')\n",
    "                if(a):\n",
    "                    name = a.text.strip()\n",
    "                    link = a.get_attribute(\"href\").strip()\n",
    "                    related_programs[name] = link\n",
    "    return related_programs\n",
    "\n",
    "get_related_programs(driver)"
   ]
  },
  {
   "cell_type": "markdown",
   "metadata": {
    "toc-hr-collapsed": true
   },
   "source": [
    "# Other Functions"
   ]
  },
  {
   "cell_type": "markdown",
   "metadata": {
    "tags": []
   },
   "source": [
    "##  url_creater_for_subjects"
   ]
  },
  {
   "cell_type": "code",
   "execution_count": 17,
   "metadata": {},
   "outputs": [],
   "source": [
    "def url_creater_for_subjects(url):\n",
    "    url_list = url.split(\"/\")\n",
    "    url_list = url_list[:-1]\n",
    "    url_list.append(\"courses-next\")\n",
    "    url = \"/\".join(url_list)\n",
    "    return url"
   ]
  },
  {
   "cell_type": "markdown",
   "metadata": {},
   "source": [
    "## Link joiner"
   ]
  },
  {
   "cell_type": "code",
   "execution_count": 18,
   "metadata": {},
   "outputs": [],
   "source": [
    "def link_joiner(url):\n",
    "    base_url = \"https://www.fanshawec.ca\" + url\n",
    "    return base_url"
   ]
  },
  {
   "cell_type": "markdown",
   "metadata": {},
   "source": [
    "# Data Screapping"
   ]
  },
  {
   "cell_type": "code",
   "execution_count": 19,
   "metadata": {},
   "outputs": [],
   "source": [
    "program_details = {\n",
    "    \"URL\": None,\n",
    "    \"CollegeName\": None,\n",
    "    \"ProgramName\": None,\n",
    "    \"Overview\": None,\n",
    "    \"Category\": None,\n",
    "    \"Code\" : None,\n",
    "    \"Availability\" : None,\n",
    "    \"Credential\" : None,\n",
    "    \"RelatedPrograms\" : None,\n",
    "    \"ProgramCoordinator\" : None,\n",
    "    \"Delivery\" : None,\n",
    "    \"TuitionFees\" : None,\n",
    "}"
   ]
  },
  {
   "cell_type": "code",
   "execution_count": 9,
   "metadata": {},
   "outputs": [],
   "source": [
    "def get_program_details(program_details, college_name, url):\n",
    "    driver.get(url)\n",
    "    time.sleep(0.3)\n",
    "    \n",
    "    program_details[\"URL\"] = url.strip()\n",
    "    program_details[\"CollegeName\"] = college_name.strip()\n",
    "    program_details[\"ProgramName\"] = get_program_name(driver)\n",
    "    program_details[\"Overview\"] = get_overview(driver)\n",
    "    program_details[\"Category\"] = get_category(driver)\n",
    "    program_details[\"Code\"] = get_code(driver)\n",
    "    program_details[\"Availability\"] = get_availability(driver)\n",
    "    program_details[\"Credential\"] = get_credential(driver)\n",
    "    program_details[\"RelatedPrograms\"] = get_related_programs(driver)\n",
    "    program_details[\"ProgramCoordinator\"] = get_coordinator(driver)\n",
    "    program_details[\"Delivery\"] = get_delivery(driver)\n",
    "    program_details[\"TuitionFees\"] = get_tution_fees(driver)\n",
    "\n",
    "    return program_details"
   ]
  },
  {
   "cell_type": "code",
   "execution_count": 21,
   "metadata": {},
   "outputs": [],
   "source": [
    "df_all_programs = pd.read_csv('./dataset/all_program_names.csv')"
   ]
  },
  {
   "cell_type": "code",
   "execution_count": 22,
   "metadata": {},
   "outputs": [],
   "source": [
    "count = 3"
   ]
  },
  {
   "cell_type": "code",
   "execution_count": 23,
   "metadata": {},
   "outputs": [],
   "source": [
    "programs = {}"
   ]
  },
  {
   "cell_type": "code",
   "execution_count": 28,
   "metadata": {
    "tags": []
   },
   "outputs": [
    {
     "name": "stdout",
     "output_type": "stream",
     "text": [
      "235) https://www.fanshawec.ca/programs/smm1-sport-and-event-marketing/next\n",
      "236) https://www.fanshawec.ca/programs/scm2-supply-chain-management-logistics-co-op/next\n",
      "237) https://www.fanshawec.ca/programs/tes2-teaching-english-speakers-other-languages-and-intercultural-competence/next\n",
      "238) https://www.fanshawec.ca/programs/tss2-technical-systems-analysis/next\n",
      "239) https://www.fanshawec.ca/programs/tdm2s-tool-and-die-maker-block-and-day-release-apprenticeship/next\n",
      "240) https://www.fanshawec.ca/programs/ttc6-tourism-travel/next\n",
      "241) https://www.fanshawec.ca/programs/tts1-tourism-travel-studies/next\n",
      "242) https://www.fanshawec.ca/programs/tct4-truck-and-coach-technician-block-release-apprenticeship/next\n",
      "243) https://www.fanshawec.ca/programs/tct3-truck-and-coach-technician-day-release-apprenticeship/next\n",
      "244) https://www.fanshawec.ca/programs/vee1-visual-effects-and-editing-contemporary-media/next\n",
      "245) https://www.fanshawec.ca/programs/iwd2-web-development-and-internet-applications/next\n",
      "246) https://www.fanshawec.ca/programs/wft1-welding-and-fabrication-technician-co-op/next\n",
      "247) https://www.fanshawec.ca/programs/wtq1j-welding-techniques/next\n"
     ]
    }
   ],
   "source": [
    "for url in df_all_programs.ProgramLink[count-3:]:\n",
    "    print(str(count) + ') '+ url)\n",
    "    programs[url] = get_program_details(program_details.copy(), \"Fanshawe\", url)\n",
    "    count += 1"
   ]
  },
  {
   "cell_type": "markdown",
   "metadata": {
    "tags": [],
    "toc-hr-collapsed": true
   },
   "source": [
    "# Store to DataFrame"
   ]
  },
  {
   "cell_type": "code",
   "execution_count": 162,
   "metadata": {},
   "outputs": [],
   "source": [
    "columns = [\"ID\", \"URL\", \"College\", \"Program\", \"Overview\", \"Category\", \"Code\", \"Domestic Availability\", \"International Availability\", \"Credential\", \"Related Programs\", \"Program Coordinator\", \"Delivery\", \"Domestic Fees\", \"International Fees\"]"
   ]
  },
  {
   "cell_type": "code",
   "execution_count": 163,
   "metadata": {},
   "outputs": [
    {
     "data": {
      "text/plain": [
       "['ID',\n",
       " 'URL',\n",
       " 'College',\n",
       " 'Program',\n",
       " 'Overview',\n",
       " 'Category',\n",
       " 'Code',\n",
       " 'Domestic Availability',\n",
       " 'International Availability',\n",
       " 'Credential',\n",
       " 'Related Programs',\n",
       " 'Program Coordinator',\n",
       " 'Delivery',\n",
       " 'Domestic Fees',\n",
       " 'International Fees']"
      ]
     },
     "execution_count": 163,
     "metadata": {},
     "output_type": "execute_result"
    }
   ],
   "source": [
    "columns"
   ]
  },
  {
   "cell_type": "code",
   "execution_count": 164,
   "metadata": {},
   "outputs": [],
   "source": [
    "L = len(programs.keys())\n",
    "program_id_list = {}\n",
    "\n",
    "letters = string.ascii_uppercase + string.digits\n",
    "\n",
    "for key in programs.keys():\n",
    "    while(True):\n",
    "        temp_id = \"FAN\"+''.join(random.choice(letters) for i in range(4))\n",
    "        if(temp_id not in program_id_list):\n",
    "            program_id_list[temp_id] = key\n",
    "            break"
   ]
  },
  {
   "cell_type": "code",
   "execution_count": 165,
   "metadata": {},
   "outputs": [],
   "source": [
    "def get_value_from_string(string):\n",
    "    if(string):\n",
    "        return string\n",
    "    return np.NaN\n",
    "\n",
    "def make_string_availability(availability):\n",
    "    intake = availability[\"intake\"]\n",
    "    campus = availability[\"campus\"]\n",
    "    status = availability[\"status\"]\n",
    "    temp = [intake_ + \", \" + campus_ + \", \" + status_ for intake_, campus_, status_ in zip(intake, campus, status)]\n",
    "    availability = \" | \".join(temp)\n",
    "    return availability"
   ]
  },
  {
   "cell_type": "code",
   "execution_count": 166,
   "metadata": {
    "tags": []
   },
   "outputs": [],
   "source": [
    "df = pd.DataFrame(columns=columns)\n",
    "\n",
    "for id_, url in program_id_list.items():\n",
    "    row = {}\n",
    "    row = {\"ID\": id_, \"URL\": url}\n",
    "    \n",
    "    program = programs[url]\n",
    "    \n",
    "    row[\"College\"] = program[\"CollegeName\"]\n",
    "    row[\"Program\"] = get_value_from_string(program[\"ProgramName\"])\n",
    "    row[\"Overview\"] = get_value_from_string(program[\"Overview\"])\n",
    "    row[\"Category\"] = get_value_from_string(program[\"Category\"])\n",
    "    row[\"Code\"] = get_value_from_string(program[\"Code\"])\n",
    "    \n",
    "    availability_domestic_temp = program[\"Availability\"][\"domestic\"]\n",
    "    availability_domestic_temp = make_string_availability(availability_domestic_temp)\n",
    "    row[\"Domestic Availability\"] = get_value_from_string(availability_domestic_temp)\n",
    "\n",
    "    availability_international_temp = program[\"Availability\"][\"international\"]\n",
    "    availability_international_temp = make_string_availability(availability_international_temp)\n",
    "    row[\"International Availability\"] = get_value_from_string(availability_international_temp)\n",
    "    \n",
    "    row[\"Credential\"] = get_value_from_string(program[\"Credential\"])\n",
    "    \n",
    "    related_temp = program[\"RelatedPrograms\"].keys()\n",
    "    related_temp = \", \".join(related_temp)\n",
    "    row[\"Related Programs\"] = get_value_from_string(related_temp)\n",
    "    \n",
    "    row[\"Program Coordinator\"] = get_value_from_string(program[\"ProgramCoordinator\"])\n",
    "    \n",
    "    delivery_temp = program[\"Delivery\"]\n",
    "    delivery_temp = \", \".join(delivery_temp.split(\"\\n\"))\n",
    "    row[\"Delivery\"] = get_value_from_string(delivery_temp)\n",
    "    \n",
    "    row[\"Domestic Fees\"] = get_value_from_string(program[\"TuitionFees\"][\"domestic_fees\"])\n",
    "    row[\"International Fees\"] = get_value_from_string(program[\"TuitionFees\"][\"international_fees\"])\n",
    "    \n",
    "    df = df.append(row, ignore_index=True)"
   ]
  },
  {
   "cell_type": "code",
   "execution_count": 168,
   "metadata": {
    "tags": []
   },
   "outputs": [
    {
     "data": {
      "text/html": [
       "<div>\n",
       "<style scoped>\n",
       "    .dataframe tbody tr th:only-of-type {\n",
       "        vertical-align: middle;\n",
       "    }\n",
       "\n",
       "    .dataframe tbody tr th {\n",
       "        vertical-align: top;\n",
       "    }\n",
       "\n",
       "    .dataframe thead th {\n",
       "        text-align: right;\n",
       "    }\n",
       "</style>\n",
       "<table border=\"1\" class=\"dataframe\">\n",
       "  <thead>\n",
       "    <tr style=\"text-align: right;\">\n",
       "      <th></th>\n",
       "      <th>ID</th>\n",
       "      <th>URL</th>\n",
       "      <th>College</th>\n",
       "      <th>Program</th>\n",
       "      <th>Overview</th>\n",
       "      <th>Category</th>\n",
       "      <th>Code</th>\n",
       "      <th>Domestic Availability</th>\n",
       "      <th>International Availability</th>\n",
       "      <th>Credential</th>\n",
       "      <th>Related Programs</th>\n",
       "      <th>Program Coordinator</th>\n",
       "      <th>Delivery</th>\n",
       "      <th>Domestic Fees</th>\n",
       "      <th>International Fees</th>\n",
       "    </tr>\n",
       "  </thead>\n",
       "  <tbody>\n",
       "    <tr>\n",
       "      <th>0</th>\n",
       "      <td>FANRW4M</td>\n",
       "      <td>https://www.fanshawec.ca/programs/dcm2-digital...</td>\n",
       "      <td>Fanshawe</td>\n",
       "      <td>Digital Communications Management</td>\n",
       "      <td>Pursue a career in communications and add prac...</td>\n",
       "      <td>School of Contemporary Media</td>\n",
       "      <td>DCM2</td>\n",
       "      <td>2022 September, London, Open | 2023 January, L...</td>\n",
       "      <td>2023 January, London, Open</td>\n",
       "      <td>Ontario College Graduate Certificate</td>\n",
       "      <td>Public Relations - Corporate Communications, M...</td>\n",
       "      <td>Jackie Westelaken</td>\n",
       "      <td>Full-Time</td>\n",
       "      <td>$4,856</td>\n",
       "      <td>$15,840</td>\n",
       "    </tr>\n",
       "    <tr>\n",
       "      <th>1</th>\n",
       "      <td>FANZAFL</td>\n",
       "      <td>https://www.fanshawec.ca/programs/esd3-electro...</td>\n",
       "      <td>Fanshawe</td>\n",
       "      <td>Electronics and Embedded Systems Development</td>\n",
       "      <td>Electronics and Embedded Systems Development i...</td>\n",
       "      <td>School of Applied Science and Technology</td>\n",
       "      <td>ESD3</td>\n",
       "      <td>2022 September, London, Open | 2023 January, L...</td>\n",
       "      <td>2022 September, London, Open | 2023 January, L...</td>\n",
       "      <td>Ontario College Graduate Certificate</td>\n",
       "      <td>Electromechanical Engineering Technician (Co-op)</td>\n",
       "      <td>Chris Talbot</td>\n",
       "      <td>In Class, Full-Time</td>\n",
       "      <td>NaN</td>\n",
       "      <td>$34,029</td>\n",
       "    </tr>\n",
       "    <tr>\n",
       "      <th>2</th>\n",
       "      <td>FANG1SK</td>\n",
       "      <td>https://www.fanshawec.ca/programs/anc1-3d-anim...</td>\n",
       "      <td>Fanshawe</td>\n",
       "      <td>3D Animation and Character Design</td>\n",
       "      <td>Characters are at the heart of every film, vid...</td>\n",
       "      <td>School of Digital and Performing Arts</td>\n",
       "      <td>ANC1</td>\n",
       "      <td>2022 September, London - Downtown, Open</td>\n",
       "      <td>NaN</td>\n",
       "      <td>Ontario College Graduate Certificate</td>\n",
       "      <td>Photography, Graphic Design, Interactive Media...</td>\n",
       "      <td>David Latour</td>\n",
       "      <td>Day Time, Full-Time</td>\n",
       "      <td>$7,307</td>\n",
       "      <td>$16,040</td>\n",
       "    </tr>\n",
       "    <tr>\n",
       "      <th>3</th>\n",
       "      <td>FANIDUP</td>\n",
       "      <td>https://www.fanshawec.ca/programs/psc1-911-and...</td>\n",
       "      <td>Fanshawe</td>\n",
       "      <td>911 and Public Safety Communications</td>\n",
       "      <td>Emergency communications professionals, includ...</td>\n",
       "      <td>School of Public Safety</td>\n",
       "      <td>PSC1</td>\n",
       "      <td>2022 September, London, Open</td>\n",
       "      <td>2022 September, London, Open</td>\n",
       "      <td>Ontario College Certificate</td>\n",
       "      <td>NaN</td>\n",
       "      <td>Tracy Dietrich</td>\n",
       "      <td>Day Time, Full-Time</td>\n",
       "      <td>$4,287</td>\n",
       "      <td>$15,641</td>\n",
       "    </tr>\n",
       "    <tr>\n",
       "      <th>4</th>\n",
       "      <td>FANS2I7</td>\n",
       "      <td>https://www.fanshawec.ca/programs/ats1-acting-...</td>\n",
       "      <td>Fanshawe</td>\n",
       "      <td>Acting for Screen and Stage</td>\n",
       "      <td>Do you have a passion for drama, dance, music ...</td>\n",
       "      <td>School of Contemporary Media</td>\n",
       "      <td>ATS1</td>\n",
       "      <td>2022 September, London, Waitlisted</td>\n",
       "      <td>NaN</td>\n",
       "      <td>Ontario College Diploma</td>\n",
       "      <td>Advanced Filmmaking, Broadcasting - Television...</td>\n",
       "      <td>NaN</td>\n",
       "      <td>Day Time, Full-Time</td>\n",
       "      <td>$8,533</td>\n",
       "      <td>$33,856</td>\n",
       "    </tr>\n",
       "    <tr>\n",
       "      <th>...</th>\n",
       "      <td>...</td>\n",
       "      <td>...</td>\n",
       "      <td>...</td>\n",
       "      <td>...</td>\n",
       "      <td>...</td>\n",
       "      <td>...</td>\n",
       "      <td>...</td>\n",
       "      <td>...</td>\n",
       "      <td>...</td>\n",
       "      <td>...</td>\n",
       "      <td>...</td>\n",
       "      <td>...</td>\n",
       "      <td>...</td>\n",
       "      <td>...</td>\n",
       "      <td>...</td>\n",
       "    </tr>\n",
       "    <tr>\n",
       "      <th>240</th>\n",
       "      <td>FANELFU</td>\n",
       "      <td>https://www.fanshawec.ca/programs/tct3-truck-a...</td>\n",
       "      <td>Fanshawe</td>\n",
       "      <td>Truck and Coach Technician (Day Release) [Appr...</td>\n",
       "      <td>The Truck and Coach Technician Apprenticeship ...</td>\n",
       "      <td>School of Transportation Technology and Appren...</td>\n",
       "      <td>TCT3</td>\n",
       "      <td>NaN</td>\n",
       "      <td>NaN</td>\n",
       "      <td>Ontario College Certificate</td>\n",
       "      <td>NaN</td>\n",
       "      <td>Mark Russell</td>\n",
       "      <td>Apprenticeship</td>\n",
       "      <td>NaN</td>\n",
       "      <td>NaN</td>\n",
       "    </tr>\n",
       "    <tr>\n",
       "      <th>241</th>\n",
       "      <td>FANC2WO</td>\n",
       "      <td>https://www.fanshawec.ca/programs/vee1-visual-...</td>\n",
       "      <td>Fanshawe</td>\n",
       "      <td>Visual Effects and Editing for Contemporary Media</td>\n",
       "      <td>If you have a background in graphic design, ph...</td>\n",
       "      <td>School of Contemporary Media</td>\n",
       "      <td>VEE1</td>\n",
       "      <td>2022 September, London, Open</td>\n",
       "      <td>2022 September, London, Open</td>\n",
       "      <td>Ontario College Graduate Certificate</td>\n",
       "      <td>3D Animation and Character Design, Interactive...</td>\n",
       "      <td>Scott Doerr</td>\n",
       "      <td>Day Time, Full-Time</td>\n",
       "      <td>$5,677</td>\n",
       "      <td>$16,728</td>\n",
       "    </tr>\n",
       "    <tr>\n",
       "      <th>242</th>\n",
       "      <td>FANHID7</td>\n",
       "      <td>https://www.fanshawec.ca/programs/iwd2-web-dev...</td>\n",
       "      <td>Fanshawe</td>\n",
       "      <td>Web Development and Internet Applications</td>\n",
       "      <td>Today's web development professional requires ...</td>\n",
       "      <td>School of Information Technology</td>\n",
       "      <td>IWD2</td>\n",
       "      <td>2022 September, London - Downtown, Open | 2023...</td>\n",
       "      <td>2023 January, London - Downtown, Open</td>\n",
       "      <td>Ontario College Diploma</td>\n",
       "      <td>Computer Programming and Analysis</td>\n",
       "      <td>Stuart Budden</td>\n",
       "      <td>Day Time, Full-Time, Part-Time, Online</td>\n",
       "      <td>$7,206</td>\n",
       "      <td>$30,699</td>\n",
       "    </tr>\n",
       "    <tr>\n",
       "      <th>243</th>\n",
       "      <td>FANSHLE</td>\n",
       "      <td>https://www.fanshawec.ca/programs/wft1-welding...</td>\n",
       "      <td>Fanshawe</td>\n",
       "      <td>Welding and Fabrication Technician (Co-op)</td>\n",
       "      <td>Welding and Fabrication Technician is a two-ye...</td>\n",
       "      <td>School of Applied Science and Technology</td>\n",
       "      <td>WFT1</td>\n",
       "      <td>2022 September, London, Waitlisted | 2023 Janu...</td>\n",
       "      <td>2022 September, London, Open | 2023 January, L...</td>\n",
       "      <td>Ontario College Diploma</td>\n",
       "      <td>Welding Techniques</td>\n",
       "      <td>Program Coordinator</td>\n",
       "      <td>Co-op, Day Time, Full-Time</td>\n",
       "      <td>$6,831</td>\n",
       "      <td>$31,324</td>\n",
       "    </tr>\n",
       "    <tr>\n",
       "      <th>244</th>\n",
       "      <td>FANEZ3A</td>\n",
       "      <td>https://www.fanshawec.ca/programs/wtq1j-weldin...</td>\n",
       "      <td>Fanshawe</td>\n",
       "      <td>Welding Techniques</td>\n",
       "      <td>The welder is respected on any job site or sho...</td>\n",
       "      <td>Simcoe/Norfolk Campus</td>\n",
       "      <td>WTQ1J</td>\n",
       "      <td>2022 September, Kincardine, Open | 2022 Septem...</td>\n",
       "      <td>2022 September, Kincardine, Open | 2022 Septem...</td>\n",
       "      <td>Ontario College Certificate</td>\n",
       "      <td>Industrial Mechanic - Millwright (Block, Day R...</td>\n",
       "      <td>Lukus Runge</td>\n",
       "      <td>Day Time, Full-Time</td>\n",
       "      <td>$3,235</td>\n",
       "      <td>$14,981</td>\n",
       "    </tr>\n",
       "  </tbody>\n",
       "</table>\n",
       "<p>245 rows × 15 columns</p>\n",
       "</div>"
      ],
      "text/plain": [
       "          ID                                                URL   College  \\\n",
       "0    FANRW4M  https://www.fanshawec.ca/programs/dcm2-digital...  Fanshawe   \n",
       "1    FANZAFL  https://www.fanshawec.ca/programs/esd3-electro...  Fanshawe   \n",
       "2    FANG1SK  https://www.fanshawec.ca/programs/anc1-3d-anim...  Fanshawe   \n",
       "3    FANIDUP  https://www.fanshawec.ca/programs/psc1-911-and...  Fanshawe   \n",
       "4    FANS2I7  https://www.fanshawec.ca/programs/ats1-acting-...  Fanshawe   \n",
       "..       ...                                                ...       ...   \n",
       "240  FANELFU  https://www.fanshawec.ca/programs/tct3-truck-a...  Fanshawe   \n",
       "241  FANC2WO  https://www.fanshawec.ca/programs/vee1-visual-...  Fanshawe   \n",
       "242  FANHID7  https://www.fanshawec.ca/programs/iwd2-web-dev...  Fanshawe   \n",
       "243  FANSHLE  https://www.fanshawec.ca/programs/wft1-welding...  Fanshawe   \n",
       "244  FANEZ3A  https://www.fanshawec.ca/programs/wtq1j-weldin...  Fanshawe   \n",
       "\n",
       "                                               Program  \\\n",
       "0                    Digital Communications Management   \n",
       "1         Electronics and Embedded Systems Development   \n",
       "2                    3D Animation and Character Design   \n",
       "3                 911 and Public Safety Communications   \n",
       "4                          Acting for Screen and Stage   \n",
       "..                                                 ...   \n",
       "240  Truck and Coach Technician (Day Release) [Appr...   \n",
       "241  Visual Effects and Editing for Contemporary Media   \n",
       "242          Web Development and Internet Applications   \n",
       "243         Welding and Fabrication Technician (Co-op)   \n",
       "244                                 Welding Techniques   \n",
       "\n",
       "                                              Overview  \\\n",
       "0    Pursue a career in communications and add prac...   \n",
       "1    Electronics and Embedded Systems Development i...   \n",
       "2    Characters are at the heart of every film, vid...   \n",
       "3    Emergency communications professionals, includ...   \n",
       "4    Do you have a passion for drama, dance, music ...   \n",
       "..                                                 ...   \n",
       "240  The Truck and Coach Technician Apprenticeship ...   \n",
       "241  If you have a background in graphic design, ph...   \n",
       "242  Today's web development professional requires ...   \n",
       "243  Welding and Fabrication Technician is a two-ye...   \n",
       "244  The welder is respected on any job site or sho...   \n",
       "\n",
       "                                              Category   Code  \\\n",
       "0                         School of Contemporary Media   DCM2   \n",
       "1             School of Applied Science and Technology   ESD3   \n",
       "2                School of Digital and Performing Arts   ANC1   \n",
       "3                              School of Public Safety   PSC1   \n",
       "4                         School of Contemporary Media   ATS1   \n",
       "..                                                 ...    ...   \n",
       "240  School of Transportation Technology and Appren...   TCT3   \n",
       "241                       School of Contemporary Media   VEE1   \n",
       "242                   School of Information Technology   IWD2   \n",
       "243           School of Applied Science and Technology   WFT1   \n",
       "244                              Simcoe/Norfolk Campus  WTQ1J   \n",
       "\n",
       "                                 Domestic Availability  \\\n",
       "0    2022 September, London, Open | 2023 January, L...   \n",
       "1    2022 September, London, Open | 2023 January, L...   \n",
       "2              2022 September, London - Downtown, Open   \n",
       "3                         2022 September, London, Open   \n",
       "4                   2022 September, London, Waitlisted   \n",
       "..                                                 ...   \n",
       "240                                                NaN   \n",
       "241                       2022 September, London, Open   \n",
       "242  2022 September, London - Downtown, Open | 2023...   \n",
       "243  2022 September, London, Waitlisted | 2023 Janu...   \n",
       "244  2022 September, Kincardine, Open | 2022 Septem...   \n",
       "\n",
       "                            International Availability  \\\n",
       "0                           2023 January, London, Open   \n",
       "1    2022 September, London, Open | 2023 January, L...   \n",
       "2                                                  NaN   \n",
       "3                         2022 September, London, Open   \n",
       "4                                                  NaN   \n",
       "..                                                 ...   \n",
       "240                                                NaN   \n",
       "241                       2022 September, London, Open   \n",
       "242              2023 January, London - Downtown, Open   \n",
       "243  2022 September, London, Open | 2023 January, L...   \n",
       "244  2022 September, Kincardine, Open | 2022 Septem...   \n",
       "\n",
       "                               Credential  \\\n",
       "0    Ontario College Graduate Certificate   \n",
       "1    Ontario College Graduate Certificate   \n",
       "2    Ontario College Graduate Certificate   \n",
       "3             Ontario College Certificate   \n",
       "4                 Ontario College Diploma   \n",
       "..                                    ...   \n",
       "240           Ontario College Certificate   \n",
       "241  Ontario College Graduate Certificate   \n",
       "242               Ontario College Diploma   \n",
       "243               Ontario College Diploma   \n",
       "244           Ontario College Certificate   \n",
       "\n",
       "                                      Related Programs  Program Coordinator  \\\n",
       "0    Public Relations - Corporate Communications, M...    Jackie Westelaken   \n",
       "1     Electromechanical Engineering Technician (Co-op)         Chris Talbot   \n",
       "2    Photography, Graphic Design, Interactive Media...         David Latour   \n",
       "3                                                  NaN       Tracy Dietrich   \n",
       "4    Advanced Filmmaking, Broadcasting - Television...                  NaN   \n",
       "..                                                 ...                  ...   \n",
       "240                                                NaN         Mark Russell   \n",
       "241  3D Animation and Character Design, Interactive...          Scott Doerr   \n",
       "242                  Computer Programming and Analysis        Stuart Budden   \n",
       "243                                 Welding Techniques  Program Coordinator   \n",
       "244  Industrial Mechanic - Millwright (Block, Day R...          Lukus Runge   \n",
       "\n",
       "                                   Delivery Domestic Fees International Fees  \n",
       "0                                 Full-Time        $4,856            $15,840  \n",
       "1                       In Class, Full-Time           NaN            $34,029  \n",
       "2                       Day Time, Full-Time        $7,307            $16,040  \n",
       "3                       Day Time, Full-Time        $4,287            $15,641  \n",
       "4                       Day Time, Full-Time        $8,533            $33,856  \n",
       "..                                      ...           ...                ...  \n",
       "240                          Apprenticeship           NaN                NaN  \n",
       "241                     Day Time, Full-Time        $5,677            $16,728  \n",
       "242  Day Time, Full-Time, Part-Time, Online        $7,206            $30,699  \n",
       "243              Co-op, Day Time, Full-Time        $6,831            $31,324  \n",
       "244                     Day Time, Full-Time        $3,235            $14,981  \n",
       "\n",
       "[245 rows x 15 columns]"
      ]
     },
     "execution_count": 168,
     "metadata": {},
     "output_type": "execute_result"
    }
   ],
   "source": [
    "df"
   ]
  },
  {
   "cell_type": "markdown",
   "metadata": {},
   "source": [
    "# Create CSV file"
   ]
  },
  {
   "cell_type": "code",
   "execution_count": 169,
   "metadata": {},
   "outputs": [],
   "source": [
    "df.to_csv(\"dataset//fanshawe_dataset.csv\", index=False)"
   ]
  },
  {
   "cell_type": "markdown",
   "metadata": {},
   "source": [
    "# Careers"
   ]
  },
  {
   "cell_type": "code",
   "execution_count": 124,
   "metadata": {},
   "outputs": [
    {
     "data": {
      "text/plain": [
       "['Digital Communication Specialist',\n",
       " 'Social Media Manager',\n",
       " 'Digital Media Manager']"
      ]
     },
     "execution_count": 124,
     "metadata": {},
     "output_type": "execute_result"
    }
   ],
   "source": [
    "def get_careers(driver):\n",
    "    a = driver.find_element(by=By.CLASS_NAME, value='details-title')\n",
    "\n",
    "    if(a):\n",
    "        a.click()\n",
    "        time.sleep(2)\n",
    "\n",
    "    source = driver.page_source\n",
    "    soup = BeautifulSoup(source, 'lxml')\n",
    "\n",
    "    div = soup.find('details', class_='collapse-processed')\n",
    "    p_list = div.find_all(\"p\")\n",
    "\n",
    "    careers = []\n",
    "    for p in p_list:\n",
    "        career = p.find(\"strong\")\n",
    "        if(career):\n",
    "            careers.append(career.text.strip())\n",
    "    return careers\n",
    "get_careers(driver)"
   ]
  },
  {
   "cell_type": "code",
   "execution_count": 71,
   "metadata": {},
   "outputs": [],
   "source": [
    "count = 3"
   ]
  },
  {
   "cell_type": "code",
   "execution_count": 72,
   "metadata": {},
   "outputs": [],
   "source": [
    "career_list = {}"
   ]
  },
  {
   "cell_type": "code",
   "execution_count": 10,
   "metadata": {
    "tags": []
   },
   "outputs": [
    {
     "ename": "NameError",
     "evalue": "name 'program_id_list' is not defined",
     "output_type": "error",
     "traceback": [
      "\u001b[1;31m---------------------------------------------------------------------------\u001b[0m",
      "\u001b[1;31mNameError\u001b[0m                                 Traceback (most recent call last)",
      "\u001b[1;32mC:\\Users\\DHAMEL~1\\AppData\\Local\\Temp/ipykernel_14220/3600050588.py\u001b[0m in \u001b[0;36m<module>\u001b[1;34m\u001b[0m\n\u001b[1;32m----> 1\u001b[1;33m \u001b[0mkey_values\u001b[0m \u001b[1;33m=\u001b[0m \u001b[0mlist\u001b[0m\u001b[1;33m(\u001b[0m\u001b[0mprogram_id_list\u001b[0m\u001b[1;33m.\u001b[0m\u001b[0mitems\u001b[0m\u001b[1;33m(\u001b[0m\u001b[1;33m)\u001b[0m\u001b[1;33m)\u001b[0m\u001b[1;33m\u001b[0m\u001b[1;33m\u001b[0m\u001b[0m\n\u001b[0m\u001b[0;32m      2\u001b[0m \u001b[1;32mfor\u001b[0m \u001b[0mid_\u001b[0m\u001b[1;33m,\u001b[0m \u001b[0murl\u001b[0m \u001b[1;32min\u001b[0m \u001b[0mkey_values\u001b[0m\u001b[1;33m[\u001b[0m\u001b[0mcount\u001b[0m\u001b[1;33m-\u001b[0m\u001b[1;36m3\u001b[0m\u001b[1;33m:\u001b[0m\u001b[1;33m]\u001b[0m\u001b[1;33m:\u001b[0m\u001b[1;33m\u001b[0m\u001b[1;33m\u001b[0m\u001b[0m\n\u001b[0;32m      3\u001b[0m     \u001b[0mdriver\u001b[0m\u001b[1;33m.\u001b[0m\u001b[0mget\u001b[0m\u001b[1;33m(\u001b[0m\u001b[0murl\u001b[0m\u001b[1;33m)\u001b[0m\u001b[1;33m\u001b[0m\u001b[1;33m\u001b[0m\u001b[0m\n\u001b[0;32m      4\u001b[0m     \u001b[0mtime\u001b[0m\u001b[1;33m.\u001b[0m\u001b[0msleep\u001b[0m\u001b[1;33m(\u001b[0m\u001b[1;36m0.3\u001b[0m\u001b[1;33m)\u001b[0m\u001b[1;33m\u001b[0m\u001b[1;33m\u001b[0m\u001b[0m\n\u001b[0;32m      5\u001b[0m \u001b[1;33m\u001b[0m\u001b[0m\n",
      "\u001b[1;31mNameError\u001b[0m: name 'program_id_list' is not defined"
     ]
    }
   ],
   "source": [
    "key_values = list(program_id_list.items())\n",
    "for id_, url in key_values[count-3:]:\n",
    "    driver.get(url)\n",
    "    time.sleep(0.3)\n",
    "    \n",
    "    print(count, \")\", url)\n",
    "    careers = get_careers(driver)\n",
    "    career_list[id_] = \", \".join(careers)\n",
    "    count += 1"
   ]
  },
  {
   "cell_type": "code",
   "execution_count": 131,
   "metadata": {},
   "outputs": [],
   "source": [
    "def loop(career_list, count):\n",
    "    try:\n",
    "        key_values = list(program_id_list.items())\n",
    "        for id_, url in key_values[count-3:]:\n",
    "            driver.get(url)\n",
    "            time.sleep(2)\n",
    "\n",
    "            print(count, \")\", url)\n",
    "            careers = get_careers(driver)\n",
    "            career_list[id_] = \", \".join(careers)\n",
    "            count += 1\n",
    "    except:\n",
    "        print(\"----\")\n",
    "        return [career_list, count]"
   ]
  },
  {
   "cell_type": "code",
   "execution_count": 134,
   "metadata": {
    "collapsed": true,
    "jupyter": {
     "outputs_hidden": true
    },
    "tags": []
   },
   "outputs": [
    {
     "name": "stdout",
     "output_type": "stream",
     "text": [
      "208 ) https://www.fanshawec.ca/programs/plq1-plumbing-techniques/next\n",
      "209 ) https://www.fanshawec.ca/programs/pft1-police-foundations/next\n",
      "----\n",
      "209 ) https://www.fanshawec.ca/programs/pft1-police-foundations/next\n",
      "210 ) https://www.fanshawec.ca/programs/pft2w-police-foundations-accelerated/next\n",
      "----\n",
      "210 ) https://www.fanshawec.ca/programs/pft2w-police-foundations-accelerated/next\n",
      "211 ) https://www.fanshawec.ca/programs/peq2s-power-engineering-techniques-4th-class/next\n",
      "----\n",
      "211 ) https://www.fanshawec.ca/programs/peq2s-power-engineering-techniques-4th-class/next\n",
      "212 ) https://www.fanshawec.ca/programs/pem1-practical-elements-mechanical-engineering/next\n",
      "----\n",
      "212 ) https://www.fanshawec.ca/programs/pem1-practical-elements-mechanical-engineering/next\n",
      "213 ) https://www.fanshawec.ca/programs/png5-practical-nursing/next\n",
      "----\n",
      "213 ) https://www.fanshawec.ca/programs/png5-practical-nursing/next\n",
      "214 ) https://www.fanshawec.ca/programs/phs2-pre-health-sciences-pathway-advanced-diplomas-and-degrees/next\n",
      "----\n",
      "214 ) https://www.fanshawec.ca/programs/phs2-pre-health-sciences-pathway-advanced-diplomas-and-degrees/next\n",
      "215 ) https://www.fanshawec.ca/programs/pmd1-pre-media/next\n",
      "----\n",
      "215 ) https://www.fanshawec.ca/programs/pmd1-pre-media/next\n",
      "216 ) https://www.fanshawec.ca/programs/prt1-pre-technology/next\n",
      "----\n",
      "216 ) https://www.fanshawec.ca/programs/prt1-pre-technology/next\n",
      "217 ) https://www.fanshawec.ca/programs/pac1-professional-accounting/next\n",
      "----\n",
      "217 ) https://www.fanshawec.ca/programs/pac1-professional-accounting/next\n",
      "218 ) https://www.fanshawec.ca/programs/pbt1-professional-butchery-techniques/next\n",
      "----\n",
      "218 ) https://www.fanshawec.ca/programs/pbt1-professional-butchery-techniques/next\n",
      "219 ) https://www.fanshawec.ca/programs/fsp1-professional-financial-services/next\n",
      "----\n",
      "219 ) https://www.fanshawec.ca/programs/fsp1-professional-financial-services/next\n",
      "220 ) https://www.fanshawec.ca/programs/prj1-project-management/next\n",
      "----\n",
      "220 ) https://www.fanshawec.ca/programs/prj1-project-management/next\n",
      "221 ) https://www.fanshawec.ca/programs/psi1-protection-security-and-investigation/next\n",
      "----\n",
      "221 ) https://www.fanshawec.ca/programs/psi1-protection-security-and-investigation/next\n",
      "222 ) https://www.fanshawec.ca/programs/cor3-public-relations-corporate-communications/next\n",
      "----\n",
      "222 ) https://www.fanshawec.ca/programs/cor3-public-relations-corporate-communications/next\n",
      "223 ) https://www.fanshawec.ca/programs/psf1-public-safety-fundamentals/next\n",
      "----\n",
      "223 ) https://www.fanshawec.ca/programs/psf1-public-safety-fundamentals/next\n",
      "224 ) https://www.fanshawec.ca/programs/rld2-recreation-and-leisure-services/next\n",
      "----\n",
      "224 ) https://www.fanshawec.ca/programs/rld2-recreation-and-leisure-services/next\n",
      "225 ) https://www.fanshawec.ca/programs/rps1-remotely-piloted-aerial-systems-commercial-operations/next\n",
      "----\n",
      "225 ) https://www.fanshawec.ca/programs/rps1-remotely-piloted-aerial-systems-commercial-operations/next\n",
      "226 ) https://www.fanshawec.ca/programs/ret3s-renewable-energies-technician-co-op/next\n",
      "----\n",
      "226 ) https://www.fanshawec.ca/programs/ret3s-renewable-energies-technician-co-op/next\n",
      "227 ) https://www.fanshawec.ca/programs/res2-research-and-evaluation-co-op/next\n",
      "----\n",
      "227 ) https://www.fanshawec.ca/programs/res2-research-and-evaluation-co-op/next\n",
      "228 ) https://www.fanshawec.ca/programs/ras2w-residential-air-conditioning-systems-mechanic-apprentice-block-release/next\n",
      "----\n",
      "228 ) https://www.fanshawec.ca/programs/ras2w-residential-air-conditioning-systems-mechanic-apprentice-block-release/next\n",
      "229 ) https://www.fanshawec.ca/programs/rst4-respiratory-therapy/next\n",
      "----\n",
      "229 ) https://www.fanshawec.ca/programs/rst4-respiratory-therapy/next\n",
      "230 ) https://www.fanshawec.ca/programs/rrm1-retirement-residence-management/next\n",
      "----\n",
      "230 ) https://www.fanshawec.ca/programs/rrm1-retirement-residence-management/next\n",
      "231 ) https://www.fanshawec.ca/programs/sma2-sheet-metal-apprentice-block-release-apprenticeship/next\n",
      "----\n",
      "231 ) https://www.fanshawec.ca/programs/sma2-sheet-metal-apprentice-block-release-apprenticeship/next\n",
      "232 ) https://www.fanshawec.ca/programs/ssw1-social-service-worker/next\n",
      "----\n",
      "232 ) https://www.fanshawec.ca/programs/ssw1-social-service-worker/next\n",
      "233 ) https://www.fanshawec.ca/programs/ssw2-social-service-worker-fast-track/next\n",
      "----\n",
      "233 ) https://www.fanshawec.ca/programs/ssw2-social-service-worker-fast-track/next\n",
      "234 ) https://www.fanshawec.ca/programs/sst3-software-and-information-systems-testing-co-op/next\n",
      "----\n",
      "234 ) https://www.fanshawec.ca/programs/sst3-software-and-information-systems-testing-co-op/next\n",
      "235 ) https://www.fanshawec.ca/programs/smm1-sport-and-event-marketing/next\n",
      "----\n",
      "235 ) https://www.fanshawec.ca/programs/smm1-sport-and-event-marketing/next\n",
      "236 ) https://www.fanshawec.ca/programs/scm2-supply-chain-management-logistics-co-op/next\n",
      "----\n",
      "----\n",
      "236 ) https://www.fanshawec.ca/programs/scm2-supply-chain-management-logistics-co-op/next\n",
      "----\n",
      "236 ) https://www.fanshawec.ca/programs/scm2-supply-chain-management-logistics-co-op/next\n",
      "----\n",
      "236 ) https://www.fanshawec.ca/programs/scm2-supply-chain-management-logistics-co-op/next\n",
      "----\n",
      "236 ) https://www.fanshawec.ca/programs/scm2-supply-chain-management-logistics-co-op/next\n",
      "----\n",
      "236 ) https://www.fanshawec.ca/programs/scm2-supply-chain-management-logistics-co-op/next\n",
      "237 ) https://www.fanshawec.ca/programs/tes2-teaching-english-speakers-other-languages-and-intercultural-competence/next\n",
      "----\n",
      "237 ) https://www.fanshawec.ca/programs/tes2-teaching-english-speakers-other-languages-and-intercultural-competence/next\n",
      "238 ) https://www.fanshawec.ca/programs/tss2-technical-systems-analysis/next\n",
      "----\n",
      "238 ) https://www.fanshawec.ca/programs/tss2-technical-systems-analysis/next\n",
      "239 ) https://www.fanshawec.ca/programs/tdm2s-tool-and-die-maker-block-and-day-release-apprenticeship/next\n",
      "----\n",
      "239 ) https://www.fanshawec.ca/programs/tdm2s-tool-and-die-maker-block-and-day-release-apprenticeship/next\n",
      "240 ) https://www.fanshawec.ca/programs/ttc6-tourism-travel/next\n",
      "----\n",
      "240 ) https://www.fanshawec.ca/programs/ttc6-tourism-travel/next\n",
      "241 ) https://www.fanshawec.ca/programs/tts1-tourism-travel-studies/next\n",
      "----\n",
      "241 ) https://www.fanshawec.ca/programs/tts1-tourism-travel-studies/next\n",
      "242 ) https://www.fanshawec.ca/programs/tct4-truck-and-coach-technician-block-release-apprenticeship/next\n",
      "----\n",
      "242 ) https://www.fanshawec.ca/programs/tct4-truck-and-coach-technician-block-release-apprenticeship/next\n",
      "243 ) https://www.fanshawec.ca/programs/tct3-truck-and-coach-technician-day-release-apprenticeship/next\n",
      "----\n",
      "243 ) https://www.fanshawec.ca/programs/tct3-truck-and-coach-technician-day-release-apprenticeship/next\n",
      "244 ) https://www.fanshawec.ca/programs/vee1-visual-effects-and-editing-contemporary-media/next\n",
      "----\n",
      "244 ) https://www.fanshawec.ca/programs/vee1-visual-effects-and-editing-contemporary-media/next\n",
      "245 ) https://www.fanshawec.ca/programs/iwd2-web-development-and-internet-applications/next\n",
      "----\n",
      "245 ) https://www.fanshawec.ca/programs/iwd2-web-development-and-internet-applications/next\n",
      "246 ) https://www.fanshawec.ca/programs/wft1-welding-and-fabrication-technician-co-op/next\n",
      "----\n",
      "246 ) https://www.fanshawec.ca/programs/wft1-welding-and-fabrication-technician-co-op/next\n",
      "247 ) https://www.fanshawec.ca/programs/wtq1j-welding-techniques/next\n",
      "----\n",
      "247 ) https://www.fanshawec.ca/programs/wtq1j-welding-techniques/next\n"
     ]
    },
    {
     "ename": "TypeError",
     "evalue": "cannot unpack non-iterable NoneType object",
     "output_type": "error",
     "traceback": [
      "\u001b[1;31m---------------------------------------------------------------------------\u001b[0m",
      "\u001b[1;31mTypeError\u001b[0m                                 Traceback (most recent call last)",
      "\u001b[1;32mC:\\Users\\DHAMEL~1\\AppData\\Local\\Temp/ipykernel_12840/3770638205.py\u001b[0m in \u001b[0;36m<module>\u001b[1;34m\u001b[0m\n\u001b[0;32m      1\u001b[0m \u001b[1;32mfor\u001b[0m \u001b[0mi\u001b[0m \u001b[1;32min\u001b[0m \u001b[0mrange\u001b[0m\u001b[1;33m(\u001b[0m\u001b[1;36m60\u001b[0m\u001b[1;33m)\u001b[0m\u001b[1;33m:\u001b[0m\u001b[1;33m\u001b[0m\u001b[1;33m\u001b[0m\u001b[0m\n\u001b[1;32m----> 2\u001b[1;33m     \u001b[0mcareer_list\u001b[0m\u001b[1;33m,\u001b[0m \u001b[0mcount\u001b[0m \u001b[1;33m=\u001b[0m \u001b[0mloop\u001b[0m\u001b[1;33m(\u001b[0m\u001b[0mcareer_list\u001b[0m\u001b[1;33m,\u001b[0m \u001b[0mcount\u001b[0m\u001b[1;33m)\u001b[0m\u001b[1;33m\u001b[0m\u001b[1;33m\u001b[0m\u001b[0m\n\u001b[0m",
      "\u001b[1;31mTypeError\u001b[0m: cannot unpack non-iterable NoneType object"
     ]
    }
   ],
   "source": [
    "for i in range(260):\n",
    "    career_list, count = loop(career_list, count)"
   ]
  },
  {
   "cell_type": "code",
   "execution_count": 158,
   "metadata": {},
   "outputs": [],
   "source": [
    "df_careers = pd.DataFrame(columns=[\"ID\", \"Careers\"])"
   ]
  },
  {
   "cell_type": "code",
   "execution_count": 159,
   "metadata": {},
   "outputs": [],
   "source": [
    "for id_, careers in career_list.items():\n",
    "    row = {\"ID\": id_, \"Careers\": careers.strip(' ,')}\n",
    "    df_careers = df_careers.append(row, ignore_index=True)"
   ]
  },
  {
   "cell_type": "code",
   "execution_count": 161,
   "metadata": {},
   "outputs": [],
   "source": [
    "df_careers.to_csv(\"dataset/fasnshwe_careers.csv\", index=False)"
   ]
  },
  {
   "cell_type": "code",
   "execution_count": null,
   "metadata": {},
   "outputs": [],
   "source": []
  }
 ],
 "metadata": {
  "kernelspec": {
   "display_name": "Python 3 (ipykernel)",
   "language": "python",
   "name": "python3"
  },
  "language_info": {
   "codemirror_mode": {
    "name": "ipython",
    "version": 3
   },
   "file_extension": ".py",
   "mimetype": "text/x-python",
   "name": "python",
   "nbconvert_exporter": "python",
   "pygments_lexer": "ipython3",
   "version": "3.9.7"
  },
  "toc-showtags": false
 },
 "nbformat": 4,
 "nbformat_minor": 4
}
